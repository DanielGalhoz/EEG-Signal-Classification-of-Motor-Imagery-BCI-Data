{
  "nbformat": 4,
  "nbformat_minor": 0,
  "metadata": {
    "colab": {
      "name": "scope-project.ipynb",
      "provenance": [],
      "collapsed_sections": [
        "5YGHIDf-ybeH"
      ]
    },
    "kernelspec": {
      "name": "python3",
      "display_name": "Python 3"
    },
    "language_info": {
      "name": "python"
    }
  },
  "cells": [
    {
      "cell_type": "markdown",
      "metadata": {
        "id": "5YGHIDf-ybeH"
      },
      "source": [
        "### SCOPE Project 2021/22\n",
        "# EEG Signal Classification of Motor-Imagery BCI Data\n",
        "\n",
        "Group 1:\n",
        "- Ana Lopes, no. 98587\n",
        "- Daniel Galhoz, no. 90791\n",
        "- Diogo Batista, no. 86767"
      ]
    },
    {
      "cell_type": "markdown",
      "metadata": {
        "id": "7cjwLUW2zM3c"
      },
      "source": [
        "## Initialization\n",
        "\n"
      ]
    },
    {
      "cell_type": "code",
      "metadata": {
        "colab": {
          "base_uri": "https://localhost:8080/"
        },
        "id": "OCgIYQgB5OoA",
        "outputId": "a3dbeed8-2f80-4639-be8c-0bf3ee4974c1"
      },
      "source": [
        "# Import data with $bash into /content (182.4 MB)\n",
        "![ -f /content/Datasets.zip ] && echo \"dataset exists\" || wget 'https://my.laseeb.org/~thanos/bci/data/Datasets.zip'"
      ],
      "execution_count": null,
      "outputs": [
        {
          "output_type": "stream",
          "name": "stdout",
          "text": [
            "--2021-11-14 20:21:33--  https://my.laseeb.org/~thanos/bci/data/Datasets.zip\n",
            "Resolving my.laseeb.org (my.laseeb.org)... 193.136.138.6\n",
            "Connecting to my.laseeb.org (my.laseeb.org)|193.136.138.6|:443... connected.\n",
            "HTTP request sent, awaiting response... 200 OK\n",
            "Length: 182408969 (174M) [application/zip]\n",
            "Saving to: ‘Datasets.zip’\n",
            "\n",
            "Datasets.zip        100%[===================>] 173.96M  27.3MB/s    in 7.8s    \n",
            "\n",
            "2021-11-14 20:21:42 (22.2 MB/s) - ‘Datasets.zip’ saved [182408969/182408969]\n",
            "\n"
          ]
        }
      ]
    },
    {
      "cell_type": "code",
      "metadata": {
        "colab": {
          "base_uri": "https://localhost:8080/"
        },
        "id": "bWWJyXXo5-it",
        "outputId": "f9007653-edd9-4fa0-befe-0b98f0e9d52e"
      },
      "source": [
        "# Unzip data into \"Datasets\" directory\n",
        "!unzip Datasets.zip -d Datasets"
      ],
      "execution_count": null,
      "outputs": [
        {
          "output_type": "stream",
          "name": "stdout",
          "text": [
            "Archive:  Datasets.zip\n",
            "  inflating: Datasets/S04.gdf        \n",
            "  inflating: Datasets/S11.gdf        \n",
            "  inflating: Datasets/S12.gdf        \n",
            "  inflating: Datasets/S06.gdf        \n",
            "  inflating: Datasets/S05.gdf        \n",
            "  inflating: Datasets/S03.gdf        \n",
            "  inflating: Datasets/S07.gdf        \n",
            "  inflating: Datasets/S10.gdf        \n",
            "  inflating: Datasets/S08.gdf        \n",
            "  inflating: Datasets/S02.gdf        \n",
            "  inflating: Datasets/S09.gdf        \n",
            "  inflating: Datasets/S01.gdf        \n"
          ]
        }
      ]
    },
    {
      "cell_type": "code",
      "metadata": {
        "colab": {
          "base_uri": "https://localhost:8080/"
        },
        "id": "cHg0Q6No59kL",
        "outputId": "d62d51e5-5f05-4e11-e457-39479de55cd1"
      },
      "source": [
        "# Find pathnames to loop from\n",
        "import glob, os\n",
        "\n",
        "data_path = '/content/Datasets/'\n",
        "\n",
        "os.chdir(data_path)\n",
        "\n",
        "for file in glob.glob(\"*.gdf\"):\n",
        "  print(file)"
      ],
      "execution_count": null,
      "outputs": [
        {
          "output_type": "stream",
          "name": "stdout",
          "text": [
            "S05.gdf\n",
            "S02.gdf\n",
            "S11.gdf\n",
            "S10.gdf\n",
            "S09.gdf\n",
            "S07.gdf\n",
            "S08.gdf\n",
            "S04.gdf\n",
            "S01.gdf\n",
            "S12.gdf\n",
            "S03.gdf\n",
            "S06.gdf\n"
          ]
        }
      ]
    },
    {
      "cell_type": "code",
      "metadata": {
        "colab": {
          "base_uri": "https://localhost:8080/"
        },
        "id": "ttzPqnzW6XPj",
        "outputId": "e0b58f3d-68ef-4a94-a66d-92aa9cc56c22"
      },
      "source": [
        "# Install MNE into Colab\n",
        "try:\n",
        "  import mne\n",
        "  print('mne: {}'.format(mne.__version__))\n",
        "except ModuleNotFoundError:\n",
        "  !pip install mne --upgrade"
      ],
      "execution_count": null,
      "outputs": [
        {
          "output_type": "stream",
          "name": "stdout",
          "text": [
            "Collecting mne\n",
            "  Downloading mne-0.24.0-py3-none-any.whl (7.4 MB)\n",
            "\u001b[K     |████████████████████████████████| 7.4 MB 3.6 MB/s \n",
            "\u001b[?25hRequirement already satisfied: numpy>=1.15.4 in /usr/local/lib/python3.7/dist-packages (from mne) (1.19.5)\n",
            "Requirement already satisfied: scipy>=1.1.0 in /usr/local/lib/python3.7/dist-packages (from mne) (1.4.1)\n",
            "Installing collected packages: mne\n",
            "Successfully installed mne-0.24.0\n"
          ]
        }
      ]
    },
    {
      "cell_type": "markdown",
      "metadata": {
        "id": "dWUWPxobMhcu"
      },
      "source": [
        "### Classes:\n"
      ]
    },
    {
      "cell_type": "code",
      "metadata": {
        "id": "XBZUcm7Qjnas"
      },
      "source": [
        "import numpy  as np\n",
        "import os\n",
        "import pandas as pd\n",
        "import sys\n",
        "\n",
        "from sklearn.model_selection import GridSearchCV\n",
        "from sklearn.pipeline        import Pipeline\n",
        "\n",
        "# Analyzes the best classifier for MI BCI data\n",
        "# Adapted from https://www.davidsbatista.net/blog/2018/02/23/model_optimization/\n",
        "class BestClassifierAnalyzer:\n",
        "    \n",
        "        # \"models\": dictionary with the models' names and their classes\n",
        "        # \"parameters\": dictionary with the models' names and their parameters\n",
        "        \n",
        "        def __init__(self, models, parameters):\n",
        "            if not set(models.keys()).issubset(set(parameters.keys())):\n",
        "                missing_parameters = list(set(models.keys() - set(parameters.keys())))\n",
        "                raise ValueError(\"Some estimators are missing parameters: %s\" % missing_parameters)\n",
        "            self.models = models\n",
        "            self.parameters = parameters\n",
        "            self.keys = models.keys()\n",
        "            self.grid_searches = {}\n",
        "            self.all_parameters=[]\n",
        "            \n",
        "        def fit(self, X, y, csp, cv, scoring = 'accuracy', n_jobs = 1, verbose = 1, refit = False):\n",
        "            for key in self.keys:\n",
        "                print(\"Running GridSearchCV for %s.\" % key)\n",
        "                model = self.models[key]\n",
        "                parameters = self.parameters[key]\n",
        "                classifier = Pipeline(steps = [('csp', csp), ('clf', model)])\n",
        "                grid_search = GridSearchCV(classifier, parameters,\n",
        "                                           cv = cv,\n",
        "                                           n_jobs = n_jobs,\n",
        "                                           verbose = verbose,\n",
        "                                           scoring = scoring,\n",
        "                                           refit = refit,\n",
        "                                           return_train_score = True)\n",
        "                grid_search.fit(X, y)\n",
        "                self.grid_searches[key] = grid_search\n",
        "                \n",
        "        def score_summary(self, sort_by = 'mean_score'):\n",
        "            def row(key, scores, parameters, other_scores, times):\n",
        "                entry = {\n",
        "                    'classifier': key,\n",
        "                         \n",
        "                    'min_score' : min(scores),\n",
        "                    'max_score' : max(scores),\n",
        "                    'mean_score': np.mean(scores),\n",
        "                    'std_score' : np.std(scores),\n",
        "                         \n",
        "                    'balanced_accuracy'   : other_scores[0],\n",
        "                    'mean_precision_left' : other_scores[1],\n",
        "                    'mean_precision_right': other_scores[2],\n",
        "                    'mean_recall_left'    : other_scores[3],\n",
        "                    'mean_recall_right'   : other_scores[4],\n",
        "\n",
        "                    'mean_fit_time'  : times[0],\n",
        "                    'std_fit_time'   : times[1],\n",
        "                    'mean_score_time': times[2],\n",
        "                    'std_score_time' : times[3]\n",
        "                    }\n",
        "                return pd.Series({**parameters, **entry})\n",
        "            \n",
        "            rows = []\n",
        "            \n",
        "            for k in self.grid_searches:\n",
        "                parameters = self.grid_searches[k].cv_results_['params']\n",
        "\n",
        "                scores = []\n",
        "                for i in range(self.grid_searches[k].n_splits_):\n",
        "                    key = \"split{}_test_accuracy\".format(i)\n",
        "                    r = self.grid_searches[k].cv_results_[key]\n",
        "                    scores.append(r.reshape(len(parameters), 1))            \n",
        "                all_scores = np.hstack(scores)\n",
        "            \n",
        "                # Other score metrics\n",
        "                other_scores = []\n",
        "                \n",
        "                r = self.grid_searches[k].cv_results_[\"mean_test_balanced_accuracy\"]\n",
        "                other_scores.append(r.reshape(len(parameters), 1))\n",
        "\n",
        "                r = self.grid_searches[k].cv_results_[\"mean_test_precision_left\"]\n",
        "                other_scores.append(r.reshape(len(parameters), 1))\n",
        "\n",
        "                r = self.grid_searches[k].cv_results_[\"mean_test_precision_right\"]\n",
        "                other_scores.append(r.reshape(len(parameters), 1))\n",
        "\n",
        "                r = self.grid_searches[k].cv_results_[\"mean_test_recall_left\"]\n",
        "                other_scores.append(r.reshape(len(parameters), 1))\n",
        "\n",
        "                r = self.grid_searches[k].cv_results_[\"mean_test_recall_right\"]\n",
        "                other_scores.append(r.reshape(len(parameters), 1))\n",
        "\n",
        "                all_other_scores = np.hstack(other_scores)\n",
        "\n",
        "                # Computation times\n",
        "                times = []\n",
        "\n",
        "                r = self.grid_searches[k].cv_results_[\"mean_fit_time\"]\n",
        "                times.append(r.reshape(len(parameters), 1))\n",
        "\n",
        "                r = self.grid_searches[k].cv_results_[\"std_fit_time\"]\n",
        "                times.append(r.reshape(len(parameters), 1))\n",
        "\n",
        "                r = self.grid_searches[k].cv_results_[\"mean_score_time\"]\n",
        "                times.append(r.reshape(len(parameters), 1))\n",
        "\n",
        "                r = self.grid_searches[k].cv_results_[\"std_score_time\"]\n",
        "                times.append(r.reshape(len(parameters), 1))\n",
        "\n",
        "                all_times = np.hstack(times)\n",
        "\n",
        "                # Assemble every parameter and their values for the table\n",
        "                for p, s, o_s, t in zip(parameters, all_scores, all_other_scores, all_times):\n",
        "                    rows.append((row(k, s, p, o_s, t)))\n",
        "                    \n",
        "            df = pd.concat(rows, axis = 1).T.sort_values([sort_by], ascending = False)\n",
        "            \n",
        "            columns = ['classifier', 'min_score', 'mean_score', 'max_score', 'std_score', 'balanced_accuracy', \n",
        "                       'mean_precision_left','mean_precision_right','mean_recall_left','mean_recall_right',\n",
        "                       'mean_fit_time', 'std_fit_time', 'mean_score_time', 'std_score_time']\n",
        "            self.all_parameters = [c for c in df.columns if c not in columns]\n",
        "            columns = columns + self.all_parameters\n",
        "            \n",
        "            return df[columns]\n",
        "\n",
        "\n",
        "# Blocks calls to print\n",
        "class HiddenPrints:\n",
        "    def __enter__(self):\n",
        "        self._original_stdout = sys.stdout\n",
        "        sys.stdout = open(os.devnull, 'w')\n",
        "\n",
        "    def __exit__(self, exc_type, exc_val, exc_tb):\n",
        "        sys.stdout.close()\n",
        "        sys.stdout = self._original_stdout"
      ],
      "execution_count": null,
      "outputs": []
    },
    {
      "cell_type": "code",
      "metadata": {
        "id": "D2rsaNsIzU2I"
      },
      "source": [
        "# General libraries\n",
        "import matplotlib.pyplot as plt\n",
        "import numpy             as np\n",
        "import pandas            as pd\n",
        "import seaborn           as sns\n",
        "\n",
        "# Pipeline and auxiliary functions\n",
        "from sklearn.model_selection import cross_val_score, GridSearchCV, ShuffleSplit\n",
        "from sklearn.pipeline        import Pipeline\n",
        "from sklearn.metrics         import make_scorer, precision_score, recall_score\n",
        "\n",
        "# MNE\n",
        "from mne          import Epochs, events_from_annotations, pick_types\n",
        "from mne.channels import find_layout, make_standard_montage, read_custom_montage\n",
        "from mne.decoding import CSP\n",
        "from mne.io       import read_raw_gdf, read_raw_eeglab\n",
        "\n",
        "# Classifier imports\n",
        "from sklearn.discriminant_analysis import LinearDiscriminantAnalysis\n",
        "from sklearn.ensemble              import AdaBoostClassifier, RandomForestClassifier\n",
        "from sklearn.naive_bayes           import GaussianNB\n",
        "from sklearn.neighbors             import KNeighborsClassifier\n",
        "from sklearn.neural_network        import MLPClassifier\n",
        "from sklearn.svm                   import SVC\n",
        "\n",
        "# Statistical tests\n",
        "from scipy.stats import kruskal, wilcoxon\n",
        "\n",
        "# Enable data table display\n",
        "from google.colab import data_table\n",
        "data_table.enable_dataframe_formatter()\n",
        "\n",
        "# Pandas settings\n",
        "pd.set_option('display.max_rows'    , None)\n",
        "pd.set_option('display.max_columns' , None)\n",
        "pd.set_option('display.width'       , None)\n",
        "pd.set_option('display.max_colwidth', None)"
      ],
      "execution_count": null,
      "outputs": []
    },
    {
      "cell_type": "code",
      "metadata": {
        "id": "g6KhnHhU8c_U"
      },
      "source": [
        "# Cross-validation parameters\n",
        "cv = ShuffleSplit(10, test_size = 0.2, random_state = 42)\n",
        "\n",
        "# Common spatial pattern filter\n",
        "csp = CSP(n_components = 4, reg = None, log = True, norm_trace = False)\n",
        "\n",
        "# Models and hyperparameters to be tested\n",
        "models = {\n",
        "    # https://scikit-learn.org/stable/supervised_learning.html\n",
        "    'LDA': LinearDiscriminantAnalysis(),\n",
        "    'SVC': SVC(),\n",
        "    'MLP': MLPClassifier(),\n",
        "    'KNN': KNeighborsClassifier(),\n",
        "    'GaussianNB': GaussianNB(),\n",
        "    'RandomForest': RandomForestClassifier(),\n",
        "    'AdaBoost': AdaBoostClassifier()\n",
        "    }\n",
        "\n",
        "params = {\n",
        "    # https://scikit-learn.org/stable/modules/generated/sklearn.discriminant_analysis.LinearDiscriminantAnalysis.html\n",
        "    'LDA': [{'clf__solver': ['svd']},\n",
        "            {'clf__solver': ['lsqr', 'eigen'], 'clf__shrinkage': ['auto', 0.1, 0.2, 0.5]}],\n",
        "    \n",
        "    # https://scikit-learn.org/stable/modules/generated/sklearn.svm.SVC.html\n",
        "    'SVC': [{'clf__kernel': ['linear'], 'clf__C': [1, 10]},\n",
        "            {'clf__kernel': ['rbf']   , 'clf__C': [1, 10], 'clf__gamma': [0.001, 0.0001]}],\n",
        "    \n",
        "    # https://scikit-learn.org/stable/modules/generated/sklearn.neural_network.MLPClassifier.html\n",
        "    'MLP': [{'clf__hidden_layer_sizes': [(50,), (100,), (150,)], \n",
        "             'clf__activation'        : ['relu', 'logistic', 'tanh'], \n",
        "             'clf__learning_rate'     : ['constant', 'adaptive'],\n",
        "             'clf__early_stopping'    : [False, True]}],\n",
        "    \n",
        "    # https://scikit-learn.org/stable/modules/generated/sklearn.neighbors.KNeighborsClassifier.html\n",
        "    'KNN': [{'clf__n_neighbors': [3, 5, 7], \n",
        "             'clf__weights'    : ['uniform', 'distance']}],\n",
        "    \n",
        "    # https://scikit-learn.org/stable/modules/generated/sklearn.naive_bayes.GaussianNB.html\n",
        "    'GaussianNB': {},\n",
        "    \n",
        "    # https://scikit-learn.org/stable/modules/generated/sklearn.ensemble.RandomForestClassifier.html\n",
        "    'RandomForest': [{'clf__n_estimators': [10, 100, 150], \n",
        "                      'clf__criterion'   : ['gini', 'entropy']}],\n",
        "    \n",
        "    # https://scikit-learn.org/stable/modules/generated/sklearn.ensemble.AdaBoostClassifier.html\n",
        "    'AdaBoost': [{'clf__n_estimators' : [10, 50, 100],\n",
        "                  'clf__learning_rate': [0.5, 0.8, 1.0, 1.2],\n",
        "                  'clf__algorithm'    : ['SAMME', 'SAMME.R']}]\n",
        "    }\n",
        "\n",
        "     # Best parameters per model\n",
        "results = {\n",
        "    'LDA': [],\n",
        "    'SVC': [],\n",
        "    'MLP': [],   \n",
        "    'KNN': [],\n",
        "    'GaussianNB': [],\n",
        "    'RandomForest': [],\n",
        "    'AdaBoost': []\n",
        "    }\n",
        "\n",
        "output_tables = {}\n",
        "\n",
        "# For the left hand\n",
        "prec_score_left = make_scorer(precision_score, pos_label = 0)\n",
        "rec_score_left = make_scorer(recall_score, pos_label = 0)\n",
        "\n",
        "# For the right hand\n",
        "prec_score_right = make_scorer(precision_score, pos_label = 1)\n",
        "rec_score_right = make_scorer(recall_score, pos_label = 1)\n",
        "\n",
        "scoring = {\n",
        "    'accuracy'         : 'accuracy', \n",
        "    'balanced_accuracy': 'balanced_accuracy', \n",
        "    'precision_left'   : prec_score_left, \n",
        "    'precision_right'  : prec_score_right,\n",
        "    'recall_left'      : rec_score_left, \n",
        "    'recall_right'     : rec_score_right\n",
        "    }"
      ],
      "execution_count": null,
      "outputs": []
    },
    {
      "cell_type": "markdown",
      "metadata": {
        "id": "KaVs3qMwz0xo"
      },
      "source": [
        "---\n",
        "## Preprocessing and classification"
      ]
    },
    {
      "cell_type": "code",
      "metadata": {
        "colab": {
          "base_uri": "https://localhost:8080/"
        },
        "id": "O6-5Lyndz9XU",
        "outputId": "901ef796-6249-49e2-bf35-2bf71c2bec39"
      },
      "source": [
        "for file in glob.glob(\"*.gdf\"):\n",
        "  \n",
        "  print()\n",
        "  print(file)\n",
        "\n",
        "  # PREPROCESSING\n",
        "  with HiddenPrints():\n",
        "    # Exclude ACC channels\n",
        "    ex_chans = ['Channel 33', 'Channel 34', 'Channel 35']\n",
        "\n",
        "    # Import data\n",
        "    raw = read_raw_gdf(file, exclude = ex_chans, stim_channel = -1, preload = True) # .gdf\n",
        "\n",
        "    # Create montage from channel locations\n",
        "    ch_names = raw.ch_names\n",
        "    montage = make_standard_montage('biosemi32')\n",
        "    # montage.plot(kind = 'topomap', show_names = True)\n",
        "    ch_loc = montage.ch_names\n",
        "    c = dict(zip(ch_names, ch_loc)) # Combine names with locations\n",
        "    raw.rename_channels(c)\n",
        "    raw.set_montage(montage)\n",
        "\n",
        "    # Apply band-pass filter\n",
        "    raw.filter(8., 30., fir_design = 'firwin', skip_by_annotation = 'edge')\n",
        "\n",
        "    # Epoch data between -2 seconds and +4 seconds during left/right stimuli\n",
        "    tmin, tmax = -2., 4.\n",
        "    event_id = dict(left = 7, right = 8) # OV markers\n",
        "    events, _ = events_from_annotations(raw, event_id = 'auto')\n",
        "\n",
        "    picks = pick_types(raw.info, meg = False, eeg = True, stim = False, eog = False, exclude = 'bads')\n",
        "\n",
        "    epochs = Epochs(raw, events, event_id, tmin, tmax, proj = True, picks = picks, baseline = None, preload = True)\n",
        "    epochs_train = epochs.copy().crop(tmin = 1., tmax = 4.)\n",
        "    labels = epochs.events[:, -1] - 7 # Change labels into either 0 or 1\n",
        "\n",
        "    epochs_data = epochs.get_data()\n",
        "    epochs_data_train = epochs_train.get_data()\n",
        "\n",
        "  # CLASSIFICATION\n",
        "    # Cross-validation sets\n",
        "    cv_split = cv.split(epochs_data_train)\n",
        "\n",
        "  # Best classifier analyzer\n",
        "  bca = BestClassifierAnalyzer(models, params)\n",
        "  bca.fit(epochs_data_train, labels, csp, cv = cv, scoring = scoring, n_jobs = -1, verbose = 0, refit = False)\n",
        "  \n",
        "  output_tables[file] = bca.score_summary()\n",
        "\n",
        "  for key in bca.keys:\n",
        "    patient_table = output_tables[file]\n",
        "    classifier_table = patient_table[patient_table['classifier'] == key]\n",
        "\n",
        "    classifier_score_column = classifier_table['mean_score'].apply(pd.to_numeric)\n",
        "    best_result = classifier_score_column.idxmax()\n",
        "\n",
        "    results[key].append([classifier_table['mean_score'          ][best_result],\n",
        "                         classifier_table['balanced_accuracy'   ][best_result],\n",
        "                         classifier_table['mean_precision_left' ][best_result],\n",
        "                         classifier_table['mean_precision_right'][best_result],\n",
        "                         classifier_table['mean_recall_left'    ][best_result],\n",
        "                         classifier_table['mean_recall_right'   ][best_result],\n",
        "                         classifier_table['mean_fit_time'       ][best_result],\n",
        "                         classifier_table.loc[[best_result], bca.all_parameters]])\n",
        "\n",
        "np.save('output_tables.npy', output_tables)\n",
        "np.save('results.npy', results)"
      ],
      "execution_count": null,
      "outputs": [
        {
          "output_type": "stream",
          "name": "stdout",
          "text": [
            "\n",
            "S05.gdf\n"
          ]
        },
        {
          "output_type": "stream",
          "name": "stderr",
          "text": [
            "<ipython-input-9-6dedd3efda8d>:21: RuntimeWarning: Not setting position of 1 stim channel found in montage:\n",
            "['Cz']\n",
            "Consider setting the channel types to be of EEG/sEEG/ECoG/DBS/fNIRS using inst.set_channel_types before calling inst.set_montage, or omit these channels when creating your montage.\n",
            "  raw.set_montage(montage)\n"
          ]
        },
        {
          "output_type": "stream",
          "name": "stdout",
          "text": [
            "Running GridSearchCV for LDA.\n",
            "Running GridSearchCV for SVC.\n",
            "Running GridSearchCV for MLP.\n",
            "Running GridSearchCV for KNN.\n",
            "Running GridSearchCV for GaussianNB.\n",
            "Running GridSearchCV for RandomForest.\n",
            "Running GridSearchCV for AdaBoost.\n",
            "\n",
            "S02.gdf\n"
          ]
        },
        {
          "output_type": "stream",
          "name": "stderr",
          "text": [
            "<ipython-input-9-6dedd3efda8d>:21: RuntimeWarning: Not setting position of 1 stim channel found in montage:\n",
            "['Cz']\n",
            "Consider setting the channel types to be of EEG/sEEG/ECoG/DBS/fNIRS using inst.set_channel_types before calling inst.set_montage, or omit these channels when creating your montage.\n",
            "  raw.set_montage(montage)\n"
          ]
        },
        {
          "output_type": "stream",
          "name": "stdout",
          "text": [
            "Running GridSearchCV for LDA.\n",
            "Running GridSearchCV for SVC.\n",
            "Running GridSearchCV for MLP.\n",
            "Running GridSearchCV for KNN.\n",
            "Running GridSearchCV for GaussianNB.\n",
            "Running GridSearchCV for RandomForest.\n",
            "Running GridSearchCV for AdaBoost.\n",
            "\n",
            "S11.gdf\n"
          ]
        },
        {
          "output_type": "stream",
          "name": "stderr",
          "text": [
            "<ipython-input-9-6dedd3efda8d>:21: RuntimeWarning: Not setting position of 1 stim channel found in montage:\n",
            "['Cz']\n",
            "Consider setting the channel types to be of EEG/sEEG/ECoG/DBS/fNIRS using inst.set_channel_types before calling inst.set_montage, or omit these channels when creating your montage.\n",
            "  raw.set_montage(montage)\n"
          ]
        },
        {
          "output_type": "stream",
          "name": "stdout",
          "text": [
            "Running GridSearchCV for LDA.\n",
            "Running GridSearchCV for SVC.\n",
            "Running GridSearchCV for MLP.\n",
            "Running GridSearchCV for KNN.\n",
            "Running GridSearchCV for GaussianNB.\n",
            "Running GridSearchCV for RandomForest.\n",
            "Running GridSearchCV for AdaBoost.\n",
            "\n",
            "S10.gdf\n"
          ]
        },
        {
          "output_type": "stream",
          "name": "stderr",
          "text": [
            "<ipython-input-9-6dedd3efda8d>:21: RuntimeWarning: Not setting position of 1 stim channel found in montage:\n",
            "['Cz']\n",
            "Consider setting the channel types to be of EEG/sEEG/ECoG/DBS/fNIRS using inst.set_channel_types before calling inst.set_montage, or omit these channels when creating your montage.\n",
            "  raw.set_montage(montage)\n"
          ]
        },
        {
          "output_type": "stream",
          "name": "stdout",
          "text": [
            "Running GridSearchCV for LDA.\n",
            "Running GridSearchCV for SVC.\n",
            "Running GridSearchCV for MLP.\n",
            "Running GridSearchCV for KNN.\n",
            "Running GridSearchCV for GaussianNB.\n",
            "Running GridSearchCV for RandomForest.\n",
            "Running GridSearchCV for AdaBoost.\n",
            "\n",
            "S09.gdf\n"
          ]
        },
        {
          "output_type": "stream",
          "name": "stderr",
          "text": [
            "<ipython-input-9-6dedd3efda8d>:21: RuntimeWarning: Not setting position of 1 stim channel found in montage:\n",
            "['Cz']\n",
            "Consider setting the channel types to be of EEG/sEEG/ECoG/DBS/fNIRS using inst.set_channel_types before calling inst.set_montage, or omit these channels when creating your montage.\n",
            "  raw.set_montage(montage)\n"
          ]
        },
        {
          "output_type": "stream",
          "name": "stdout",
          "text": [
            "Running GridSearchCV for LDA.\n",
            "Running GridSearchCV for SVC.\n",
            "Running GridSearchCV for MLP.\n",
            "Running GridSearchCV for KNN.\n",
            "Running GridSearchCV for GaussianNB.\n",
            "Running GridSearchCV for RandomForest.\n",
            "Running GridSearchCV for AdaBoost.\n",
            "\n",
            "S07.gdf\n"
          ]
        },
        {
          "output_type": "stream",
          "name": "stderr",
          "text": [
            "<ipython-input-9-6dedd3efda8d>:21: RuntimeWarning: Not setting position of 1 stim channel found in montage:\n",
            "['Cz']\n",
            "Consider setting the channel types to be of EEG/sEEG/ECoG/DBS/fNIRS using inst.set_channel_types before calling inst.set_montage, or omit these channels when creating your montage.\n",
            "  raw.set_montage(montage)\n"
          ]
        },
        {
          "output_type": "stream",
          "name": "stdout",
          "text": [
            "Running GridSearchCV for LDA.\n",
            "Running GridSearchCV for SVC.\n",
            "Running GridSearchCV for MLP.\n",
            "Running GridSearchCV for KNN.\n",
            "Running GridSearchCV for GaussianNB.\n",
            "Running GridSearchCV for RandomForest.\n",
            "Running GridSearchCV for AdaBoost.\n",
            "\n",
            "S08.gdf\n"
          ]
        },
        {
          "output_type": "stream",
          "name": "stderr",
          "text": [
            "<ipython-input-9-6dedd3efda8d>:21: RuntimeWarning: Not setting position of 1 stim channel found in montage:\n",
            "['Cz']\n",
            "Consider setting the channel types to be of EEG/sEEG/ECoG/DBS/fNIRS using inst.set_channel_types before calling inst.set_montage, or omit these channels when creating your montage.\n",
            "  raw.set_montage(montage)\n"
          ]
        },
        {
          "output_type": "stream",
          "name": "stdout",
          "text": [
            "Running GridSearchCV for LDA.\n",
            "Running GridSearchCV for SVC.\n",
            "Running GridSearchCV for MLP.\n",
            "Running GridSearchCV for KNN.\n",
            "Running GridSearchCV for GaussianNB.\n",
            "Running GridSearchCV for RandomForest.\n",
            "Running GridSearchCV for AdaBoost.\n",
            "\n",
            "S04.gdf\n"
          ]
        },
        {
          "output_type": "stream",
          "name": "stderr",
          "text": [
            "<ipython-input-9-6dedd3efda8d>:21: RuntimeWarning: Not setting position of 1 stim channel found in montage:\n",
            "['Cz']\n",
            "Consider setting the channel types to be of EEG/sEEG/ECoG/DBS/fNIRS using inst.set_channel_types before calling inst.set_montage, or omit these channels when creating your montage.\n",
            "  raw.set_montage(montage)\n"
          ]
        },
        {
          "output_type": "stream",
          "name": "stdout",
          "text": [
            "Running GridSearchCV for LDA.\n",
            "Running GridSearchCV for SVC.\n",
            "Running GridSearchCV for MLP.\n",
            "Running GridSearchCV for KNN.\n",
            "Running GridSearchCV for GaussianNB.\n",
            "Running GridSearchCV for RandomForest.\n",
            "Running GridSearchCV for AdaBoost.\n",
            "\n",
            "S01.gdf\n"
          ]
        },
        {
          "output_type": "stream",
          "name": "stderr",
          "text": [
            "<ipython-input-9-6dedd3efda8d>:21: RuntimeWarning: Not setting position of 1 stim channel found in montage:\n",
            "['Cz']\n",
            "Consider setting the channel types to be of EEG/sEEG/ECoG/DBS/fNIRS using inst.set_channel_types before calling inst.set_montage, or omit these channels when creating your montage.\n",
            "  raw.set_montage(montage)\n"
          ]
        },
        {
          "output_type": "stream",
          "name": "stdout",
          "text": [
            "Running GridSearchCV for LDA.\n",
            "Running GridSearchCV for SVC.\n",
            "Running GridSearchCV for MLP.\n",
            "Running GridSearchCV for KNN.\n",
            "Running GridSearchCV for GaussianNB.\n",
            "Running GridSearchCV for RandomForest.\n",
            "Running GridSearchCV for AdaBoost.\n",
            "\n",
            "S12.gdf\n"
          ]
        },
        {
          "output_type": "stream",
          "name": "stderr",
          "text": [
            "<ipython-input-9-6dedd3efda8d>:21: RuntimeWarning: Not setting position of 1 stim channel found in montage:\n",
            "['Cz']\n",
            "Consider setting the channel types to be of EEG/sEEG/ECoG/DBS/fNIRS using inst.set_channel_types before calling inst.set_montage, or omit these channels when creating your montage.\n",
            "  raw.set_montage(montage)\n"
          ]
        },
        {
          "output_type": "stream",
          "name": "stdout",
          "text": [
            "Running GridSearchCV for LDA.\n",
            "Running GridSearchCV for SVC.\n",
            "Running GridSearchCV for MLP.\n",
            "Running GridSearchCV for KNN.\n",
            "Running GridSearchCV for GaussianNB.\n",
            "Running GridSearchCV for RandomForest.\n",
            "Running GridSearchCV for AdaBoost.\n",
            "\n",
            "S03.gdf\n"
          ]
        },
        {
          "output_type": "stream",
          "name": "stderr",
          "text": [
            "<ipython-input-9-6dedd3efda8d>:21: RuntimeWarning: Not setting position of 1 stim channel found in montage:\n",
            "['Cz']\n",
            "Consider setting the channel types to be of EEG/sEEG/ECoG/DBS/fNIRS using inst.set_channel_types before calling inst.set_montage, or omit these channels when creating your montage.\n",
            "  raw.set_montage(montage)\n"
          ]
        },
        {
          "output_type": "stream",
          "name": "stdout",
          "text": [
            "Running GridSearchCV for LDA.\n",
            "Running GridSearchCV for SVC.\n",
            "Running GridSearchCV for MLP.\n",
            "Running GridSearchCV for KNN.\n",
            "Running GridSearchCV for GaussianNB.\n",
            "Running GridSearchCV for RandomForest.\n",
            "Running GridSearchCV for AdaBoost.\n",
            "\n",
            "S06.gdf\n"
          ]
        },
        {
          "output_type": "stream",
          "name": "stderr",
          "text": [
            "<ipython-input-9-6dedd3efda8d>:21: RuntimeWarning: Not setting position of 1 stim channel found in montage:\n",
            "['Cz']\n",
            "Consider setting the channel types to be of EEG/sEEG/ECoG/DBS/fNIRS using inst.set_channel_types before calling inst.set_montage, or omit these channels when creating your montage.\n",
            "  raw.set_montage(montage)\n"
          ]
        },
        {
          "output_type": "stream",
          "name": "stdout",
          "text": [
            "Running GridSearchCV for LDA.\n",
            "Running GridSearchCV for SVC.\n",
            "Running GridSearchCV for MLP.\n",
            "Running GridSearchCV for KNN.\n",
            "Running GridSearchCV for GaussianNB.\n",
            "Running GridSearchCV for RandomForest.\n",
            "Running GridSearchCV for AdaBoost.\n"
          ]
        }
      ]
    },
    {
      "cell_type": "markdown",
      "metadata": {
        "id": "6jsMuxGnJUVA"
      },
      "source": [
        "## Results"
      ]
    },
    {
      "cell_type": "markdown",
      "metadata": {
        "id": "3RJwllhruMQA"
      },
      "source": [
        "### Box plots"
      ]
    },
    {
      "cell_type": "code",
      "metadata": {
        "id": "TB9E-ZlCJX6v",
        "colab": {
          "base_uri": "https://localhost:8080/",
          "height": 1000
        },
        "outputId": "b7a4220f-555f-4e39-d737-4e1d347bbe2f"
      },
      "source": [
        "def my_boxplot(df, x, y, hue, palette):\n",
        "  SMALL_SIZE  = 14\n",
        "  MEDIUM_SIZE = 18\n",
        "  LARGE_SIZE  = 22\n",
        "\n",
        "  plt.figure(figsize = (12, 8))\n",
        "  plt.xticks(rotation = 30)\n",
        "\n",
        "  plt.rc('font'  , size      = SMALL_SIZE ) # Controls default text sizes\n",
        "  plt.rc('axes'  , titlesize = SMALL_SIZE ) # Fontsize of the axes' title\n",
        "  plt.rc('axes'  , labelsize = MEDIUM_SIZE) # Fontsize of the x and y labels\n",
        "  plt.rc('xtick' , labelsize = SMALL_SIZE ) # Fontsize of the tick labels\n",
        "  plt.rc('ytick' , labelsize = SMALL_SIZE ) # Fontsize of the tick labels\n",
        "  plt.rc('legend', fontsize  = SMALL_SIZE ) # Legend's fontsize\n",
        "  plt.rc('figure', titlesize = LARGE_SIZE ) # Fontsize of the figure title\n",
        "\n",
        "  sns.boxplot(data = df, x = x, y = y, hue = hue, palette = palette, linewidth = 2)\n",
        "  \n",
        "  # Data points\n",
        "  if hue == None:\n",
        "    color = 'black'\n",
        "    palette = None\n",
        "  else:\n",
        "    color = None\n",
        "\n",
        "  sns.stripplot(data = df, x = x, y = y, hue = hue, palette = palette, size = 8, color = color, alpha = 0.75)\n",
        "\n",
        "  plt.title(y, fontsize = 18)\n",
        "\n",
        "  plt.xlabel('')\n",
        "  plt.ylabel('')\n",
        "\n",
        "  plt.show()\n",
        "\n",
        "\n",
        "# Be sure to upload the file beforehand!\n",
        "results = np.load('/content/results.npy', allow_pickle = True)\n",
        "results = results.item()\n",
        "\n",
        "df_results_list = []\n",
        "for key in results.keys():\n",
        "  df_results_list.append(pd.DataFrame(data = results.get(key), \n",
        "                                      columns = ['Score(accuracy)',\n",
        "                                                 'Balanced_Accuracy', \n",
        "                                                 'Precision_Left', \n",
        "                                                 'Precision_Right', \n",
        "                                                 'Recall_Left', \n",
        "                                                 'Recall_Right', \n",
        "                                                 'Fit_Time(seconds)', \n",
        "                                                 'Hyper_Parameters']))\n",
        "  df_results_list[-1]['Classifier'] = key\n",
        "  df_results_list[-1]['Patient']    = df_results_list[-1].index\n",
        "\n",
        "df_results = pd.concat(df_results_list, ignore_index = True)\n",
        "\n",
        "score_boxplot    = my_boxplot(df = df_results, x = 'Classifier', y = 'Score(accuracy)'  , hue = None, palette = ['yellow'])\n",
        "balanced_boxplot = my_boxplot(df = df_results, x = 'Classifier', y = 'Balanced_Accuracy', hue = None, palette = ['yellow'])\n",
        "time_boxplot     = my_boxplot(df = df_results, x = 'Classifier', y = 'Fit_Time(seconds)', hue = None, palette = ['yellow'])\n",
        "\n",
        "# Left- and right-hand MI classes for precision and recall box plots\n",
        "df_left = pd.DataFrame(columns = ['Classifier', 'Precision', 'Recall', 'Class'])\n",
        "df_left['Classifier'] = df_results['Classifier'].copy()\n",
        "df_left['Precision']  = df_results['Precision_Left'].copy()\n",
        "df_left['Recall']     = df_results['Recall_Left'].copy()\n",
        "df_left['Class']      = 'Left'\n",
        "\n",
        "df_right = pd.DataFrame(columns=['Classifier', 'Precision', 'Recall', 'Class'])\n",
        "df_right['Classifier'] = df_results['Classifier'].copy()\n",
        "df_right['Precision']  = df_results['Precision_Right'].copy()\n",
        "df_right['Recall']     = df_results['Recall_Right'].copy()\n",
        "df_right['Class']      = 'Right'\n",
        "\n",
        "df_nested = pd.concat([df_left, df_right], keys = ['left', 'right'], ignore_index = True)\n",
        "\n",
        "precision_boxplot = my_boxplot(df = df_nested, x = 'Classifier', y = 'Precision', hue = 'Class', palette = ['royalblue', 'yellow'])\n",
        "recall_boxplot    = my_boxplot(df = df_nested, x = 'Classifier', y = 'Recall'   , hue = 'Class', palette = ['royalblue', 'yellow'])\n",
        "\n",
        "# for key in results.keys():\n",
        "#   print('\\nBest hyper parameters for: {}\\n'.format(key))\n",
        "#   print(df_results[df_results['Classifier']==key]['Hyper_Parameters'])\n",
        "#   print('\\n')"
      ],
      "execution_count": null,
      "outputs": [
        {
          "output_type": "display_data",
          "data": {
            "image/png": "[encoded data removed]",
            "text/plain": [
              "<Figure size 864x576 with 1 Axes>"
            ]
          },
          "metadata": {
            "needs_background": "light"
          }
        },
        {
          "output_type": "display_data",
          "data": {
            "image/png": "[encoded data removed]",
            "text/plain": [
              "<Figure size 864x576 with 1 Axes>"
            ]
          },
          "metadata": {
            "needs_background": "light"
          }
        },
        {
          "output_type": "display_data",
          "data": {
            "image/png": "[encoded data removed]",
            "text/plain": [
              "<Figure size 864x576 with 1 Axes>"
            ]
          },
          "metadata": {
            "needs_background": "light"
          }
        },
        {
          "output_type": "display_data",
          "data": {
            "image/png": "[encoded data removed]",
            "text/plain": [
              "<Figure size 864x576 with 1 Axes>"
            ]
          },
          "metadata": {
            "needs_background": "light"
          }
        },
        {
          "output_type": "display_data",
          "data": {
            "image/png": "[encoded data removed]",
            "text/plain": [
              "<Figure size 864x576 with 1 Axes>"
            ]
          },
          "metadata": {
            "needs_background": "light"
          }
        }
      ]
    },
    {
      "cell_type": "markdown",
      "metadata": {
        "id": "g52Nt9zouQuL"
      },
      "source": [
        "### Wilcoxon tests"
      ]
    },
    {
      "cell_type": "markdown",
      "metadata": {
        "id": "JfuZbue9qhrz"
      },
      "source": [
        "Tests the null hypothesis that two paired score distributions come from the same distribution."
      ]
    },
    {
      "cell_type": "code",
      "metadata": {
        "id": "PPX4FDT1dllf"
      },
      "source": [
        "score_metric_list = ['Accuracy', \n",
        "                     'Balanced accuracy', \n",
        "                     'Left-hand precision', 'Right-hand precision', \n",
        "                     'Left-hand recall'   , 'Right-hand recall',\n",
        "                     'Fit time']\n",
        "classifier_list = ['LDA', \n",
        "                   'SVC', \n",
        "                   'MLP', \n",
        "                   'KNN', \n",
        "                   'GaussianNB', \n",
        "                   'RandomForest', \n",
        "                   'AdaBoost']\n",
        "\n",
        "# p-value matrices for each score metric\n",
        "pval_matrix = np.zeros(shape = (len(score_metric_list), \n",
        "                                len(classifier_list), len(classifier_list)),\n",
        "                       dtype = 'object') # For ragged nested sequences\n",
        "\n",
        "for score_metric_idx in range(len(score_metric_list)):\n",
        "    for clf1 in classifier_list:\n",
        "        for clf2 in classifier_list:\n",
        "            if clf1 != clf2:\n",
        "                # For easier manipulation\n",
        "                r1 = np.array(results[clf1], dtype = 'object')\n",
        "                r2 = np.array(results[clf2], dtype = 'object')\n",
        "                \n",
        "                clf1_idx = classifier_list.index(clf1)\n",
        "                clf2_idx = classifier_list.index(clf2)\n",
        "                \n",
        "                score_distribution1 = r1[:, score_metric_idx]\n",
        "                score_distribution2 = r2[:, score_metric_idx]\n",
        "                \n",
        "                _, pval_matrix[score_metric_idx, clf1_idx, clf2_idx] = wilcoxon(score_distribution1, score_distribution2)\n",
        "                \n",
        "# Convert to Pandas dataframes\n",
        "df_list = list()\n",
        "for score_metric_idx in range(len(score_metric_list)):\n",
        "  df_pvals = pd.DataFrame(pval_matrix[score_metric_idx, :, :], \n",
        "                          columns = classifier_list,\n",
        "                          index   = classifier_list)\n",
        "  df_pvals.index.name = score_metric_list[score_metric_idx]\n",
        "  df_list.append(df_pvals)"
      ],
      "execution_count": null,
      "outputs": []
    },
    {
      "cell_type": "code",
      "metadata": {
        "colab": {
          "base_uri": "https://localhost:8080/",
          "height": 295
        },
        "id": "MvGN5bZ_tmIx",
        "outputId": "761eb808-4046-415a-9fb2-901b1e30c955"
      },
      "source": [
        "df_list[0].style.applymap(lambda x: \"background-color: #00C957\" if 0 < x < 0.05 else \"background-color: None\")"
      ],
      "execution_count": null,
      "outputs": [
        {
          "output_type": "execute_result",
          "data": {
            "text/html": [
              "<style  type=\"text/css\" >\n",
              "#T_fdc1291e_458e_11ec_a7e4_0242ac1c0002row0_col0,#T_fdc1291e_458e_11ec_a7e4_0242ac1c0002row0_col1,#T_fdc1291e_458e_11ec_a7e4_0242ac1c0002row0_col3,#T_fdc1291e_458e_11ec_a7e4_0242ac1c0002row0_col4,#T_fdc1291e_458e_11ec_a7e4_0242ac1c0002row0_col5,#T_fdc1291e_458e_11ec_a7e4_0242ac1c0002row0_col6,#T_fdc1291e_458e_11ec_a7e4_0242ac1c0002row1_col0,#T_fdc1291e_458e_11ec_a7e4_0242ac1c0002row1_col1,#T_fdc1291e_458e_11ec_a7e4_0242ac1c0002row1_col3,#T_fdc1291e_458e_11ec_a7e4_0242ac1c0002row1_col4,#T_fdc1291e_458e_11ec_a7e4_0242ac1c0002row1_col5,#T_fdc1291e_458e_11ec_a7e4_0242ac1c0002row1_col6,#T_fdc1291e_458e_11ec_a7e4_0242ac1c0002row2_col2,#T_fdc1291e_458e_11ec_a7e4_0242ac1c0002row3_col0,#T_fdc1291e_458e_11ec_a7e4_0242ac1c0002row3_col1,#T_fdc1291e_458e_11ec_a7e4_0242ac1c0002row3_col3,#T_fdc1291e_458e_11ec_a7e4_0242ac1c0002row3_col4,#T_fdc1291e_458e_11ec_a7e4_0242ac1c0002row3_col5,#T_fdc1291e_458e_11ec_a7e4_0242ac1c0002row4_col0,#T_fdc1291e_458e_11ec_a7e4_0242ac1c0002row4_col1,#T_fdc1291e_458e_11ec_a7e4_0242ac1c0002row4_col3,#T_fdc1291e_458e_11ec_a7e4_0242ac1c0002row4_col4,#T_fdc1291e_458e_11ec_a7e4_0242ac1c0002row4_col5,#T_fdc1291e_458e_11ec_a7e4_0242ac1c0002row4_col6,#T_fdc1291e_458e_11ec_a7e4_0242ac1c0002row5_col0,#T_fdc1291e_458e_11ec_a7e4_0242ac1c0002row5_col1,#T_fdc1291e_458e_11ec_a7e4_0242ac1c0002row5_col3,#T_fdc1291e_458e_11ec_a7e4_0242ac1c0002row5_col4,#T_fdc1291e_458e_11ec_a7e4_0242ac1c0002row5_col5,#T_fdc1291e_458e_11ec_a7e4_0242ac1c0002row6_col0,#T_fdc1291e_458e_11ec_a7e4_0242ac1c0002row6_col1,#T_fdc1291e_458e_11ec_a7e4_0242ac1c0002row6_col4,#T_fdc1291e_458e_11ec_a7e4_0242ac1c0002row6_col6{\n",
              "            background-color:  None;\n",
              "        }#T_fdc1291e_458e_11ec_a7e4_0242ac1c0002row0_col2,#T_fdc1291e_458e_11ec_a7e4_0242ac1c0002row1_col2,#T_fdc1291e_458e_11ec_a7e4_0242ac1c0002row2_col0,#T_fdc1291e_458e_11ec_a7e4_0242ac1c0002row2_col1,#T_fdc1291e_458e_11ec_a7e4_0242ac1c0002row2_col3,#T_fdc1291e_458e_11ec_a7e4_0242ac1c0002row2_col4,#T_fdc1291e_458e_11ec_a7e4_0242ac1c0002row2_col5,#T_fdc1291e_458e_11ec_a7e4_0242ac1c0002row2_col6,#T_fdc1291e_458e_11ec_a7e4_0242ac1c0002row3_col2,#T_fdc1291e_458e_11ec_a7e4_0242ac1c0002row3_col6,#T_fdc1291e_458e_11ec_a7e4_0242ac1c0002row4_col2,#T_fdc1291e_458e_11ec_a7e4_0242ac1c0002row5_col2,#T_fdc1291e_458e_11ec_a7e4_0242ac1c0002row5_col6,#T_fdc1291e_458e_11ec_a7e4_0242ac1c0002row6_col2,#T_fdc1291e_458e_11ec_a7e4_0242ac1c0002row6_col3,#T_fdc1291e_458e_11ec_a7e4_0242ac1c0002row6_col5{\n",
              "            background-color:  #00C957;\n",
              "        }</style><table id=\"T_fdc1291e_458e_11ec_a7e4_0242ac1c0002\" class=\"dataframe\"><thead>    <tr>        <th class=\"blank level0\" ></th>        <th class=\"col_heading level0 col0\" >LDA</th>        <th class=\"col_heading level0 col1\" >SVC</th>        <th class=\"col_heading level0 col2\" >MLP</th>        <th class=\"col_heading level0 col3\" >KNN</th>        <th class=\"col_heading level0 col4\" >GaussianNB</th>        <th class=\"col_heading level0 col5\" >RandomForest</th>        <th class=\"col_heading level0 col6\" >AdaBoost</th>    </tr>    <tr>        <th class=\"index_name level0\" >Accuracy</th>        <th class=\"blank\" ></th>        <th class=\"blank\" ></th>        <th class=\"blank\" ></th>        <th class=\"blank\" ></th>        <th class=\"blank\" ></th>        <th class=\"blank\" ></th>        <th class=\"blank\" ></th>    </tr></thead><tbody>\n",
              "                <tr>\n",
              "                        <th id=\"T_fdc1291e_458e_11ec_a7e4_0242ac1c0002level0_row0\" class=\"row_heading level0 row0\" >LDA</th>\n",
              "                        <td id=\"T_fdc1291e_458e_11ec_a7e4_0242ac1c0002row0_col0\" class=\"data row0 col0\" >0</td>\n",
              "                        <td id=\"T_fdc1291e_458e_11ec_a7e4_0242ac1c0002row0_col1\" class=\"data row0 col1\" >0.443994</td>\n",
              "                        <td id=\"T_fdc1291e_458e_11ec_a7e4_0242ac1c0002row0_col2\" class=\"data row0 col2\" >0.003330</td>\n",
              "                        <td id=\"T_fdc1291e_458e_11ec_a7e4_0242ac1c0002row0_col3\" class=\"data row0 col3\" >0.254425</td>\n",
              "                        <td id=\"T_fdc1291e_458e_11ec_a7e4_0242ac1c0002row0_col4\" class=\"data row0 col4\" >0.397136</td>\n",
              "                        <td id=\"T_fdc1291e_458e_11ec_a7e4_0242ac1c0002row0_col5\" class=\"data row0 col5\" >0.271726</td>\n",
              "                        <td id=\"T_fdc1291e_458e_11ec_a7e4_0242ac1c0002row0_col6\" class=\"data row0 col6\" >0.114128</td>\n",
              "            </tr>\n",
              "            <tr>\n",
              "                        <th id=\"T_fdc1291e_458e_11ec_a7e4_0242ac1c0002level0_row1\" class=\"row_heading level0 row1\" >SVC</th>\n",
              "                        <td id=\"T_fdc1291e_458e_11ec_a7e4_0242ac1c0002row1_col0\" class=\"data row1 col0\" >0.443994</td>\n",
              "                        <td id=\"T_fdc1291e_458e_11ec_a7e4_0242ac1c0002row1_col1\" class=\"data row1 col1\" >0</td>\n",
              "                        <td id=\"T_fdc1291e_458e_11ec_a7e4_0242ac1c0002row1_col2\" class=\"data row1 col2\" >0.004420</td>\n",
              "                        <td id=\"T_fdc1291e_458e_11ec_a7e4_0242ac1c0002row1_col3\" class=\"data row1 col3\" >0.141974</td>\n",
              "                        <td id=\"T_fdc1291e_458e_11ec_a7e4_0242ac1c0002row1_col4\" class=\"data row1 col4\" >0.307635</td>\n",
              "                        <td id=\"T_fdc1291e_458e_11ec_a7e4_0242ac1c0002row1_col5\" class=\"data row1 col5\" >0.229794</td>\n",
              "                        <td id=\"T_fdc1291e_458e_11ec_a7e4_0242ac1c0002row1_col6\" class=\"data row1 col6\" >0.350052</td>\n",
              "            </tr>\n",
              "            <tr>\n",
              "                        <th id=\"T_fdc1291e_458e_11ec_a7e4_0242ac1c0002level0_row2\" class=\"row_heading level0 row2\" >MLP</th>\n",
              "                        <td id=\"T_fdc1291e_458e_11ec_a7e4_0242ac1c0002row2_col0\" class=\"data row2 col0\" >0.003330</td>\n",
              "                        <td id=\"T_fdc1291e_458e_11ec_a7e4_0242ac1c0002row2_col1\" class=\"data row2 col1\" >0.004420</td>\n",
              "                        <td id=\"T_fdc1291e_458e_11ec_a7e4_0242ac1c0002row2_col2\" class=\"data row2 col2\" >0</td>\n",
              "                        <td id=\"T_fdc1291e_458e_11ec_a7e4_0242ac1c0002row2_col3\" class=\"data row2 col3\" >0.002209</td>\n",
              "                        <td id=\"T_fdc1291e_458e_11ec_a7e4_0242ac1c0002row2_col4\" class=\"data row2 col4\" >0.002218</td>\n",
              "                        <td id=\"T_fdc1291e_458e_11ec_a7e4_0242ac1c0002row2_col5\" class=\"data row2 col5\" >0.002209</td>\n",
              "                        <td id=\"T_fdc1291e_458e_11ec_a7e4_0242ac1c0002row2_col6\" class=\"data row2 col6\" >0.007963</td>\n",
              "            </tr>\n",
              "            <tr>\n",
              "                        <th id=\"T_fdc1291e_458e_11ec_a7e4_0242ac1c0002level0_row3\" class=\"row_heading level0 row3\" >KNN</th>\n",
              "                        <td id=\"T_fdc1291e_458e_11ec_a7e4_0242ac1c0002row3_col0\" class=\"data row3 col0\" >0.254425</td>\n",
              "                        <td id=\"T_fdc1291e_458e_11ec_a7e4_0242ac1c0002row3_col1\" class=\"data row3 col1\" >0.141974</td>\n",
              "                        <td id=\"T_fdc1291e_458e_11ec_a7e4_0242ac1c0002row3_col2\" class=\"data row3 col2\" >0.002209</td>\n",
              "                        <td id=\"T_fdc1291e_458e_11ec_a7e4_0242ac1c0002row3_col3\" class=\"data row3 col3\" >0</td>\n",
              "                        <td id=\"T_fdc1291e_458e_11ec_a7e4_0242ac1c0002row3_col4\" class=\"data row3 col4\" >0.504739</td>\n",
              "                        <td id=\"T_fdc1291e_458e_11ec_a7e4_0242ac1c0002row3_col5\" class=\"data row3 col5\" >0.755424</td>\n",
              "                        <td id=\"T_fdc1291e_458e_11ec_a7e4_0242ac1c0002row3_col6\" class=\"data row3 col6\" >0.012030</td>\n",
              "            </tr>\n",
              "            <tr>\n",
              "                        <th id=\"T_fdc1291e_458e_11ec_a7e4_0242ac1c0002level0_row4\" class=\"row_heading level0 row4\" >GaussianNB</th>\n",
              "                        <td id=\"T_fdc1291e_458e_11ec_a7e4_0242ac1c0002row4_col0\" class=\"data row4 col0\" >0.397136</td>\n",
              "                        <td id=\"T_fdc1291e_458e_11ec_a7e4_0242ac1c0002row4_col1\" class=\"data row4 col1\" >0.307635</td>\n",
              "                        <td id=\"T_fdc1291e_458e_11ec_a7e4_0242ac1c0002row4_col2\" class=\"data row4 col2\" >0.002218</td>\n",
              "                        <td id=\"T_fdc1291e_458e_11ec_a7e4_0242ac1c0002row4_col3\" class=\"data row4 col3\" >0.504739</td>\n",
              "                        <td id=\"T_fdc1291e_458e_11ec_a7e4_0242ac1c0002row4_col4\" class=\"data row4 col4\" >0</td>\n",
              "                        <td id=\"T_fdc1291e_458e_11ec_a7e4_0242ac1c0002row4_col5\" class=\"data row4 col5\" >0.789472</td>\n",
              "                        <td id=\"T_fdc1291e_458e_11ec_a7e4_0242ac1c0002row4_col6\" class=\"data row4 col6\" >0.073567</td>\n",
              "            </tr>\n",
              "            <tr>\n",
              "                        <th id=\"T_fdc1291e_458e_11ec_a7e4_0242ac1c0002level0_row5\" class=\"row_heading level0 row5\" >RandomForest</th>\n",
              "                        <td id=\"T_fdc1291e_458e_11ec_a7e4_0242ac1c0002row5_col0\" class=\"data row5 col0\" >0.271726</td>\n",
              "                        <td id=\"T_fdc1291e_458e_11ec_a7e4_0242ac1c0002row5_col1\" class=\"data row5 col1\" >0.229794</td>\n",
              "                        <td id=\"T_fdc1291e_458e_11ec_a7e4_0242ac1c0002row5_col2\" class=\"data row5 col2\" >0.002209</td>\n",
              "                        <td id=\"T_fdc1291e_458e_11ec_a7e4_0242ac1c0002row5_col3\" class=\"data row5 col3\" >0.755424</td>\n",
              "                        <td id=\"T_fdc1291e_458e_11ec_a7e4_0242ac1c0002row5_col4\" class=\"data row5 col4\" >0.789472</td>\n",
              "                        <td id=\"T_fdc1291e_458e_11ec_a7e4_0242ac1c0002row5_col5\" class=\"data row5 col5\" >0</td>\n",
              "                        <td id=\"T_fdc1291e_458e_11ec_a7e4_0242ac1c0002row5_col6\" class=\"data row5 col6\" >0.003228</td>\n",
              "            </tr>\n",
              "            <tr>\n",
              "                        <th id=\"T_fdc1291e_458e_11ec_a7e4_0242ac1c0002level0_row6\" class=\"row_heading level0 row6\" >AdaBoost</th>\n",
              "                        <td id=\"T_fdc1291e_458e_11ec_a7e4_0242ac1c0002row6_col0\" class=\"data row6 col0\" >0.114128</td>\n",
              "                        <td id=\"T_fdc1291e_458e_11ec_a7e4_0242ac1c0002row6_col1\" class=\"data row6 col1\" >0.350052</td>\n",
              "                        <td id=\"T_fdc1291e_458e_11ec_a7e4_0242ac1c0002row6_col2\" class=\"data row6 col2\" >0.007963</td>\n",
              "                        <td id=\"T_fdc1291e_458e_11ec_a7e4_0242ac1c0002row6_col3\" class=\"data row6 col3\" >0.012030</td>\n",
              "                        <td id=\"T_fdc1291e_458e_11ec_a7e4_0242ac1c0002row6_col4\" class=\"data row6 col4\" >0.073567</td>\n",
              "                        <td id=\"T_fdc1291e_458e_11ec_a7e4_0242ac1c0002row6_col5\" class=\"data row6 col5\" >0.003228</td>\n",
              "                        <td id=\"T_fdc1291e_458e_11ec_a7e4_0242ac1c0002row6_col6\" class=\"data row6 col6\" >0</td>\n",
              "            </tr>\n",
              "    </tbody></table>"
            ],
            "text/plain": [
              "<pandas.io.formats.style.Styler at 0x7f7cecff4c10>"
            ]
          },
          "metadata": {},
          "execution_count": 16
        }
      ]
    },
    {
      "cell_type": "code",
      "metadata": {
        "colab": {
          "base_uri": "https://localhost:8080/",
          "height": 295
        },
        "id": "yb7SCbwtqei8",
        "outputId": "27030d1a-7e81-4ad0-e39b-91b50ba2a6a6"
      },
      "source": [
        "df_list[1].style.applymap(lambda x: \"background-color: #00C957\" if 0 < x < 0.05 else \"background-color: None\")"
      ],
      "execution_count": null,
      "outputs": [
        {
          "output_type": "execute_result",
          "data": {
            "text/html": [
              "<style  type=\"text/css\" >\n",
              "#T_fe187f52_458e_11ec_a7e4_0242ac1c0002row0_col0,#T_fe187f52_458e_11ec_a7e4_0242ac1c0002row0_col1,#T_fe187f52_458e_11ec_a7e4_0242ac1c0002row0_col3,#T_fe187f52_458e_11ec_a7e4_0242ac1c0002row0_col4,#T_fe187f52_458e_11ec_a7e4_0242ac1c0002row0_col5,#T_fe187f52_458e_11ec_a7e4_0242ac1c0002row0_col6,#T_fe187f52_458e_11ec_a7e4_0242ac1c0002row1_col0,#T_fe187f52_458e_11ec_a7e4_0242ac1c0002row1_col1,#T_fe187f52_458e_11ec_a7e4_0242ac1c0002row1_col4,#T_fe187f52_458e_11ec_a7e4_0242ac1c0002row1_col5,#T_fe187f52_458e_11ec_a7e4_0242ac1c0002row1_col6,#T_fe187f52_458e_11ec_a7e4_0242ac1c0002row2_col2,#T_fe187f52_458e_11ec_a7e4_0242ac1c0002row2_col6,#T_fe187f52_458e_11ec_a7e4_0242ac1c0002row3_col0,#T_fe187f52_458e_11ec_a7e4_0242ac1c0002row3_col3,#T_fe187f52_458e_11ec_a7e4_0242ac1c0002row3_col4,#T_fe187f52_458e_11ec_a7e4_0242ac1c0002row3_col5,#T_fe187f52_458e_11ec_a7e4_0242ac1c0002row4_col0,#T_fe187f52_458e_11ec_a7e4_0242ac1c0002row4_col1,#T_fe187f52_458e_11ec_a7e4_0242ac1c0002row4_col3,#T_fe187f52_458e_11ec_a7e4_0242ac1c0002row4_col4,#T_fe187f52_458e_11ec_a7e4_0242ac1c0002row4_col5,#T_fe187f52_458e_11ec_a7e4_0242ac1c0002row5_col0,#T_fe187f52_458e_11ec_a7e4_0242ac1c0002row5_col1,#T_fe187f52_458e_11ec_a7e4_0242ac1c0002row5_col3,#T_fe187f52_458e_11ec_a7e4_0242ac1c0002row5_col4,#T_fe187f52_458e_11ec_a7e4_0242ac1c0002row5_col5,#T_fe187f52_458e_11ec_a7e4_0242ac1c0002row6_col0,#T_fe187f52_458e_11ec_a7e4_0242ac1c0002row6_col1,#T_fe187f52_458e_11ec_a7e4_0242ac1c0002row6_col2,#T_fe187f52_458e_11ec_a7e4_0242ac1c0002row6_col6{\n",
              "            background-color:  None;\n",
              "        }#T_fe187f52_458e_11ec_a7e4_0242ac1c0002row0_col2,#T_fe187f52_458e_11ec_a7e4_0242ac1c0002row1_col2,#T_fe187f52_458e_11ec_a7e4_0242ac1c0002row1_col3,#T_fe187f52_458e_11ec_a7e4_0242ac1c0002row2_col0,#T_fe187f52_458e_11ec_a7e4_0242ac1c0002row2_col1,#T_fe187f52_458e_11ec_a7e4_0242ac1c0002row2_col3,#T_fe187f52_458e_11ec_a7e4_0242ac1c0002row2_col4,#T_fe187f52_458e_11ec_a7e4_0242ac1c0002row2_col5,#T_fe187f52_458e_11ec_a7e4_0242ac1c0002row3_col1,#T_fe187f52_458e_11ec_a7e4_0242ac1c0002row3_col2,#T_fe187f52_458e_11ec_a7e4_0242ac1c0002row3_col6,#T_fe187f52_458e_11ec_a7e4_0242ac1c0002row4_col2,#T_fe187f52_458e_11ec_a7e4_0242ac1c0002row4_col6,#T_fe187f52_458e_11ec_a7e4_0242ac1c0002row5_col2,#T_fe187f52_458e_11ec_a7e4_0242ac1c0002row5_col6,#T_fe187f52_458e_11ec_a7e4_0242ac1c0002row6_col3,#T_fe187f52_458e_11ec_a7e4_0242ac1c0002row6_col4,#T_fe187f52_458e_11ec_a7e4_0242ac1c0002row6_col5{\n",
              "            background-color:  #00C957;\n",
              "        }</style><table id=\"T_fe187f52_458e_11ec_a7e4_0242ac1c0002\" class=\"dataframe\"><thead>    <tr>        <th class=\"blank level0\" ></th>        <th class=\"col_heading level0 col0\" >LDA</th>        <th class=\"col_heading level0 col1\" >SVC</th>        <th class=\"col_heading level0 col2\" >MLP</th>        <th class=\"col_heading level0 col3\" >KNN</th>        <th class=\"col_heading level0 col4\" >GaussianNB</th>        <th class=\"col_heading level0 col5\" >RandomForest</th>        <th class=\"col_heading level0 col6\" >AdaBoost</th>    </tr>    <tr>        <th class=\"index_name level0\" >Balanced accuracy</th>        <th class=\"blank\" ></th>        <th class=\"blank\" ></th>        <th class=\"blank\" ></th>        <th class=\"blank\" ></th>        <th class=\"blank\" ></th>        <th class=\"blank\" ></th>        <th class=\"blank\" ></th>    </tr></thead><tbody>\n",
              "                <tr>\n",
              "                        <th id=\"T_fe187f52_458e_11ec_a7e4_0242ac1c0002level0_row0\" class=\"row_heading level0 row0\" >LDA</th>\n",
              "                        <td id=\"T_fe187f52_458e_11ec_a7e4_0242ac1c0002row0_col0\" class=\"data row0 col0\" >0</td>\n",
              "                        <td id=\"T_fe187f52_458e_11ec_a7e4_0242ac1c0002row0_col1\" class=\"data row0 col1\" >0.157939</td>\n",
              "                        <td id=\"T_fe187f52_458e_11ec_a7e4_0242ac1c0002row0_col2\" class=\"data row0 col2\" >0.022909</td>\n",
              "                        <td id=\"T_fe187f52_458e_11ec_a7e4_0242ac1c0002row0_col3\" class=\"data row0 col3\" >0.582920</td>\n",
              "                        <td id=\"T_fe187f52_458e_11ec_a7e4_0242ac1c0002row0_col4\" class=\"data row0 col4\" >0.480177</td>\n",
              "                        <td id=\"T_fe187f52_458e_11ec_a7e4_0242ac1c0002row0_col5\" class=\"data row0 col5\" >0.307821</td>\n",
              "                        <td id=\"T_fe187f52_458e_11ec_a7e4_0242ac1c0002row0_col6\" class=\"data row0 col6\" >0.071189</td>\n",
              "            </tr>\n",
              "            <tr>\n",
              "                        <th id=\"T_fe187f52_458e_11ec_a7e4_0242ac1c0002level0_row1\" class=\"row_heading level0 row1\" >SVC</th>\n",
              "                        <td id=\"T_fe187f52_458e_11ec_a7e4_0242ac1c0002row1_col0\" class=\"data row1 col0\" >0.157939</td>\n",
              "                        <td id=\"T_fe187f52_458e_11ec_a7e4_0242ac1c0002row1_col1\" class=\"data row1 col1\" >0</td>\n",
              "                        <td id=\"T_fe187f52_458e_11ec_a7e4_0242ac1c0002row1_col2\" class=\"data row1 col2\" >0.034170</td>\n",
              "                        <td id=\"T_fe187f52_458e_11ec_a7e4_0242ac1c0002row1_col3\" class=\"data row1 col3\" >0.049860</td>\n",
              "                        <td id=\"T_fe187f52_458e_11ec_a7e4_0242ac1c0002row1_col4\" class=\"data row1 col4\" >0.059739</td>\n",
              "                        <td id=\"T_fe187f52_458e_11ec_a7e4_0242ac1c0002row1_col5\" class=\"data row1 col5\" >0.084379</td>\n",
              "                        <td id=\"T_fe187f52_458e_11ec_a7e4_0242ac1c0002row1_col6\" class=\"data row1 col6\" >0.388186</td>\n",
              "            </tr>\n",
              "            <tr>\n",
              "                        <th id=\"T_fe187f52_458e_11ec_a7e4_0242ac1c0002level0_row2\" class=\"row_heading level0 row2\" >MLP</th>\n",
              "                        <td id=\"T_fe187f52_458e_11ec_a7e4_0242ac1c0002row2_col0\" class=\"data row2 col0\" >0.022909</td>\n",
              "                        <td id=\"T_fe187f52_458e_11ec_a7e4_0242ac1c0002row2_col1\" class=\"data row2 col1\" >0.034170</td>\n",
              "                        <td id=\"T_fe187f52_458e_11ec_a7e4_0242ac1c0002row2_col2\" class=\"data row2 col2\" >0</td>\n",
              "                        <td id=\"T_fe187f52_458e_11ec_a7e4_0242ac1c0002row2_col3\" class=\"data row2 col3\" >0.018603</td>\n",
              "                        <td id=\"T_fe187f52_458e_11ec_a7e4_0242ac1c0002row2_col4\" class=\"data row2 col4\" >0.009633</td>\n",
              "                        <td id=\"T_fe187f52_458e_11ec_a7e4_0242ac1c0002row2_col5\" class=\"data row2 col5\" >0.012063</td>\n",
              "                        <td id=\"T_fe187f52_458e_11ec_a7e4_0242ac1c0002row2_col6\" class=\"data row2 col6\" >0.239317</td>\n",
              "            </tr>\n",
              "            <tr>\n",
              "                        <th id=\"T_fe187f52_458e_11ec_a7e4_0242ac1c0002level0_row3\" class=\"row_heading level0 row3\" >KNN</th>\n",
              "                        <td id=\"T_fe187f52_458e_11ec_a7e4_0242ac1c0002row3_col0\" class=\"data row3 col0\" >0.582920</td>\n",
              "                        <td id=\"T_fe187f52_458e_11ec_a7e4_0242ac1c0002row3_col1\" class=\"data row3 col1\" >0.049860</td>\n",
              "                        <td id=\"T_fe187f52_458e_11ec_a7e4_0242ac1c0002row3_col2\" class=\"data row3 col2\" >0.018603</td>\n",
              "                        <td id=\"T_fe187f52_458e_11ec_a7e4_0242ac1c0002row3_col3\" class=\"data row3 col3\" >0</td>\n",
              "                        <td id=\"T_fe187f52_458e_11ec_a7e4_0242ac1c0002row3_col4\" class=\"data row3 col4\" >0.875329</td>\n",
              "                        <td id=\"T_fe187f52_458e_11ec_a7e4_0242ac1c0002row3_col5\" class=\"data row3 col5\" >0.530285</td>\n",
              "                        <td id=\"T_fe187f52_458e_11ec_a7e4_0242ac1c0002row3_col6\" class=\"data row3 col6\" >0.022909</td>\n",
              "            </tr>\n",
              "            <tr>\n",
              "                        <th id=\"T_fe187f52_458e_11ec_a7e4_0242ac1c0002level0_row4\" class=\"row_heading level0 row4\" >GaussianNB</th>\n",
              "                        <td id=\"T_fe187f52_458e_11ec_a7e4_0242ac1c0002row4_col0\" class=\"data row4 col0\" >0.480177</td>\n",
              "                        <td id=\"T_fe187f52_458e_11ec_a7e4_0242ac1c0002row4_col1\" class=\"data row4 col1\" >0.059739</td>\n",
              "                        <td id=\"T_fe187f52_458e_11ec_a7e4_0242ac1c0002row4_col2\" class=\"data row4 col2\" >0.009633</td>\n",
              "                        <td id=\"T_fe187f52_458e_11ec_a7e4_0242ac1c0002row4_col3\" class=\"data row4 col3\" >0.875329</td>\n",
              "                        <td id=\"T_fe187f52_458e_11ec_a7e4_0242ac1c0002row4_col4\" class=\"data row4 col4\" >0</td>\n",
              "                        <td id=\"T_fe187f52_458e_11ec_a7e4_0242ac1c0002row4_col5\" class=\"data row4 col5\" >0.694887</td>\n",
              "                        <td id=\"T_fe187f52_458e_11ec_a7e4_0242ac1c0002row4_col6\" class=\"data row4 col6\" >0.041389</td>\n",
              "            </tr>\n",
              "            <tr>\n",
              "                        <th id=\"T_fe187f52_458e_11ec_a7e4_0242ac1c0002level0_row5\" class=\"row_heading level0 row5\" >RandomForest</th>\n",
              "                        <td id=\"T_fe187f52_458e_11ec_a7e4_0242ac1c0002row5_col0\" class=\"data row5 col0\" >0.307821</td>\n",
              "                        <td id=\"T_fe187f52_458e_11ec_a7e4_0242ac1c0002row5_col1\" class=\"data row5 col1\" >0.084379</td>\n",
              "                        <td id=\"T_fe187f52_458e_11ec_a7e4_0242ac1c0002row5_col2\" class=\"data row5 col2\" >0.012063</td>\n",
              "                        <td id=\"T_fe187f52_458e_11ec_a7e4_0242ac1c0002row5_col3\" class=\"data row5 col3\" >0.530285</td>\n",
              "                        <td id=\"T_fe187f52_458e_11ec_a7e4_0242ac1c0002row5_col4\" class=\"data row5 col4\" >0.694887</td>\n",
              "                        <td id=\"T_fe187f52_458e_11ec_a7e4_0242ac1c0002row5_col5\" class=\"data row5 col5\" >0</td>\n",
              "                        <td id=\"T_fe187f52_458e_11ec_a7e4_0242ac1c0002row5_col6\" class=\"data row5 col6\" >0.002873</td>\n",
              "            </tr>\n",
              "            <tr>\n",
              "                        <th id=\"T_fe187f52_458e_11ec_a7e4_0242ac1c0002level0_row6\" class=\"row_heading level0 row6\" >AdaBoost</th>\n",
              "                        <td id=\"T_fe187f52_458e_11ec_a7e4_0242ac1c0002row6_col0\" class=\"data row6 col0\" >0.071189</td>\n",
              "                        <td id=\"T_fe187f52_458e_11ec_a7e4_0242ac1c0002row6_col1\" class=\"data row6 col1\" >0.388186</td>\n",
              "                        <td id=\"T_fe187f52_458e_11ec_a7e4_0242ac1c0002row6_col2\" class=\"data row6 col2\" >0.239317</td>\n",
              "                        <td id=\"T_fe187f52_458e_11ec_a7e4_0242ac1c0002row6_col3\" class=\"data row6 col3\" >0.022909</td>\n",
              "                        <td id=\"T_fe187f52_458e_11ec_a7e4_0242ac1c0002row6_col4\" class=\"data row6 col4\" >0.041389</td>\n",
              "                        <td id=\"T_fe187f52_458e_11ec_a7e4_0242ac1c0002row6_col5\" class=\"data row6 col5\" >0.002873</td>\n",
              "                        <td id=\"T_fe187f52_458e_11ec_a7e4_0242ac1c0002row6_col6\" class=\"data row6 col6\" >0</td>\n",
              "            </tr>\n",
              "    </tbody></table>"
            ],
            "text/plain": [
              "<pandas.io.formats.style.Styler at 0x7f7ced697790>"
            ]
          },
          "metadata": {},
          "execution_count": 17
        }
      ]
    },
    {
      "cell_type": "code",
      "metadata": {
        "colab": {
          "base_uri": "https://localhost:8080/",
          "height": 295
        },
        "id": "e8_thYF8tpXE",
        "outputId": "992e5784-f1d6-4315-9c15-fe923d1ccc22"
      },
      "source": [
        "df_list[2].style.applymap(lambda x: \"background-color: #00C957\" if 0 < x < 0.05 else \"background-color: None\")"
      ],
      "execution_count": null,
      "outputs": [
        {
          "output_type": "execute_result",
          "data": {
            "text/html": [
              "<style  type=\"text/css\" >\n",
              "#T_fe93770c_458e_11ec_a7e4_0242ac1c0002row0_col0,#T_fe93770c_458e_11ec_a7e4_0242ac1c0002row0_col1,#T_fe93770c_458e_11ec_a7e4_0242ac1c0002row0_col2,#T_fe93770c_458e_11ec_a7e4_0242ac1c0002row0_col3,#T_fe93770c_458e_11ec_a7e4_0242ac1c0002row0_col4,#T_fe93770c_458e_11ec_a7e4_0242ac1c0002row0_col5,#T_fe93770c_458e_11ec_a7e4_0242ac1c0002row0_col6,#T_fe93770c_458e_11ec_a7e4_0242ac1c0002row1_col0,#T_fe93770c_458e_11ec_a7e4_0242ac1c0002row1_col1,#T_fe93770c_458e_11ec_a7e4_0242ac1c0002row1_col2,#T_fe93770c_458e_11ec_a7e4_0242ac1c0002row1_col3,#T_fe93770c_458e_11ec_a7e4_0242ac1c0002row1_col4,#T_fe93770c_458e_11ec_a7e4_0242ac1c0002row1_col5,#T_fe93770c_458e_11ec_a7e4_0242ac1c0002row1_col6,#T_fe93770c_458e_11ec_a7e4_0242ac1c0002row2_col0,#T_fe93770c_458e_11ec_a7e4_0242ac1c0002row2_col1,#T_fe93770c_458e_11ec_a7e4_0242ac1c0002row2_col2,#T_fe93770c_458e_11ec_a7e4_0242ac1c0002row2_col3,#T_fe93770c_458e_11ec_a7e4_0242ac1c0002row2_col4,#T_fe93770c_458e_11ec_a7e4_0242ac1c0002row2_col5,#T_fe93770c_458e_11ec_a7e4_0242ac1c0002row2_col6,#T_fe93770c_458e_11ec_a7e4_0242ac1c0002row3_col0,#T_fe93770c_458e_11ec_a7e4_0242ac1c0002row3_col1,#T_fe93770c_458e_11ec_a7e4_0242ac1c0002row3_col2,#T_fe93770c_458e_11ec_a7e4_0242ac1c0002row3_col3,#T_fe93770c_458e_11ec_a7e4_0242ac1c0002row3_col4,#T_fe93770c_458e_11ec_a7e4_0242ac1c0002row3_col5,#T_fe93770c_458e_11ec_a7e4_0242ac1c0002row4_col0,#T_fe93770c_458e_11ec_a7e4_0242ac1c0002row4_col1,#T_fe93770c_458e_11ec_a7e4_0242ac1c0002row4_col2,#T_fe93770c_458e_11ec_a7e4_0242ac1c0002row4_col3,#T_fe93770c_458e_11ec_a7e4_0242ac1c0002row4_col4,#T_fe93770c_458e_11ec_a7e4_0242ac1c0002row4_col5,#T_fe93770c_458e_11ec_a7e4_0242ac1c0002row4_col6,#T_fe93770c_458e_11ec_a7e4_0242ac1c0002row5_col0,#T_fe93770c_458e_11ec_a7e4_0242ac1c0002row5_col1,#T_fe93770c_458e_11ec_a7e4_0242ac1c0002row5_col2,#T_fe93770c_458e_11ec_a7e4_0242ac1c0002row5_col3,#T_fe93770c_458e_11ec_a7e4_0242ac1c0002row5_col4,#T_fe93770c_458e_11ec_a7e4_0242ac1c0002row5_col5,#T_fe93770c_458e_11ec_a7e4_0242ac1c0002row5_col6,#T_fe93770c_458e_11ec_a7e4_0242ac1c0002row6_col0,#T_fe93770c_458e_11ec_a7e4_0242ac1c0002row6_col1,#T_fe93770c_458e_11ec_a7e4_0242ac1c0002row6_col2,#T_fe93770c_458e_11ec_a7e4_0242ac1c0002row6_col4,#T_fe93770c_458e_11ec_a7e4_0242ac1c0002row6_col5,#T_fe93770c_458e_11ec_a7e4_0242ac1c0002row6_col6{\n",
              "            background-color:  None;\n",
              "        }#T_fe93770c_458e_11ec_a7e4_0242ac1c0002row3_col6,#T_fe93770c_458e_11ec_a7e4_0242ac1c0002row6_col3{\n",
              "            background-color:  #00C957;\n",
              "        }</style><table id=\"T_fe93770c_458e_11ec_a7e4_0242ac1c0002\" class=\"dataframe\"><thead>    <tr>        <th class=\"blank level0\" ></th>        <th class=\"col_heading level0 col0\" >LDA</th>        <th class=\"col_heading level0 col1\" >SVC</th>        <th class=\"col_heading level0 col2\" >MLP</th>        <th class=\"col_heading level0 col3\" >KNN</th>        <th class=\"col_heading level0 col4\" >GaussianNB</th>        <th class=\"col_heading level0 col5\" >RandomForest</th>        <th class=\"col_heading level0 col6\" >AdaBoost</th>    </tr>    <tr>        <th class=\"index_name level0\" >Left-hand precision</th>        <th class=\"blank\" ></th>        <th class=\"blank\" ></th>        <th class=\"blank\" ></th>        <th class=\"blank\" ></th>        <th class=\"blank\" ></th>        <th class=\"blank\" ></th>        <th class=\"blank\" ></th>    </tr></thead><tbody>\n",
              "                <tr>\n",
              "                        <th id=\"T_fe93770c_458e_11ec_a7e4_0242ac1c0002level0_row0\" class=\"row_heading level0 row0\" >LDA</th>\n",
              "                        <td id=\"T_fe93770c_458e_11ec_a7e4_0242ac1c0002row0_col0\" class=\"data row0 col0\" >0</td>\n",
              "                        <td id=\"T_fe93770c_458e_11ec_a7e4_0242ac1c0002row0_col1\" class=\"data row0 col1\" >0.157939</td>\n",
              "                        <td id=\"T_fe93770c_458e_11ec_a7e4_0242ac1c0002row0_col2\" class=\"data row0 col2\" >1.000000</td>\n",
              "                        <td id=\"T_fe93770c_458e_11ec_a7e4_0242ac1c0002row0_col3\" class=\"data row0 col3\" >0.346522</td>\n",
              "                        <td id=\"T_fe93770c_458e_11ec_a7e4_0242ac1c0002row0_col4\" class=\"data row0 col4\" >0.530285</td>\n",
              "                        <td id=\"T_fe93770c_458e_11ec_a7e4_0242ac1c0002row0_col5\" class=\"data row0 col5\" >0.480177</td>\n",
              "                        <td id=\"T_fe93770c_458e_11ec_a7e4_0242ac1c0002row0_col6\" class=\"data row0 col6\" >0.157939</td>\n",
              "            </tr>\n",
              "            <tr>\n",
              "                        <th id=\"T_fe93770c_458e_11ec_a7e4_0242ac1c0002level0_row1\" class=\"row_heading level0 row1\" >SVC</th>\n",
              "                        <td id=\"T_fe93770c_458e_11ec_a7e4_0242ac1c0002row1_col0\" class=\"data row1 col0\" >0.157939</td>\n",
              "                        <td id=\"T_fe93770c_458e_11ec_a7e4_0242ac1c0002row1_col1\" class=\"data row1 col1\" >0</td>\n",
              "                        <td id=\"T_fe93770c_458e_11ec_a7e4_0242ac1c0002row1_col2\" class=\"data row1 col2\" >0.753684</td>\n",
              "                        <td id=\"T_fe93770c_458e_11ec_a7e4_0242ac1c0002row1_col3\" class=\"data row1 col3\" >0.059739</td>\n",
              "                        <td id=\"T_fe93770c_458e_11ec_a7e4_0242ac1c0002row1_col4\" class=\"data row1 col4\" >0.272095</td>\n",
              "                        <td id=\"T_fe93770c_458e_11ec_a7e4_0242ac1c0002row1_col5\" class=\"data row1 col5\" >0.209427</td>\n",
              "                        <td id=\"T_fe93770c_458e_11ec_a7e4_0242ac1c0002row1_col6\" class=\"data row1 col6\" >0.637870</td>\n",
              "            </tr>\n",
              "            <tr>\n",
              "                        <th id=\"T_fe93770c_458e_11ec_a7e4_0242ac1c0002level0_row2\" class=\"row_heading level0 row2\" >MLP</th>\n",
              "                        <td id=\"T_fe93770c_458e_11ec_a7e4_0242ac1c0002row2_col0\" class=\"data row2 col0\" >1.000000</td>\n",
              "                        <td id=\"T_fe93770c_458e_11ec_a7e4_0242ac1c0002row2_col1\" class=\"data row2 col1\" >0.753684</td>\n",
              "                        <td id=\"T_fe93770c_458e_11ec_a7e4_0242ac1c0002row2_col2\" class=\"data row2 col2\" >0</td>\n",
              "                        <td id=\"T_fe93770c_458e_11ec_a7e4_0242ac1c0002row2_col3\" class=\"data row2 col3\" >0.637870</td>\n",
              "                        <td id=\"T_fe93770c_458e_11ec_a7e4_0242ac1c0002row2_col4\" class=\"data row2 col4\" >0.813945</td>\n",
              "                        <td id=\"T_fe93770c_458e_11ec_a7e4_0242ac1c0002row2_col5\" class=\"data row2 col5\" >0.582920</td>\n",
              "                        <td id=\"T_fe93770c_458e_11ec_a7e4_0242ac1c0002row2_col6\" class=\"data row2 col6\" >1.000000</td>\n",
              "            </tr>\n",
              "            <tr>\n",
              "                        <th id=\"T_fe93770c_458e_11ec_a7e4_0242ac1c0002level0_row3\" class=\"row_heading level0 row3\" >KNN</th>\n",
              "                        <td id=\"T_fe93770c_458e_11ec_a7e4_0242ac1c0002row3_col0\" class=\"data row3 col0\" >0.346522</td>\n",
              "                        <td id=\"T_fe93770c_458e_11ec_a7e4_0242ac1c0002row3_col1\" class=\"data row3 col1\" >0.059739</td>\n",
              "                        <td id=\"T_fe93770c_458e_11ec_a7e4_0242ac1c0002row3_col2\" class=\"data row3 col2\" >0.637870</td>\n",
              "                        <td id=\"T_fe93770c_458e_11ec_a7e4_0242ac1c0002row3_col3\" class=\"data row3 col3\" >0</td>\n",
              "                        <td id=\"T_fe93770c_458e_11ec_a7e4_0242ac1c0002row3_col4\" class=\"data row3 col4\" >0.480177</td>\n",
              "                        <td id=\"T_fe93770c_458e_11ec_a7e4_0242ac1c0002row3_col5\" class=\"data row3 col5\" >0.480177</td>\n",
              "                        <td id=\"T_fe93770c_458e_11ec_a7e4_0242ac1c0002row3_col6\" class=\"data row3 col6\" >0.022909</td>\n",
              "            </tr>\n",
              "            <tr>\n",
              "                        <th id=\"T_fe93770c_458e_11ec_a7e4_0242ac1c0002level0_row4\" class=\"row_heading level0 row4\" >GaussianNB</th>\n",
              "                        <td id=\"T_fe93770c_458e_11ec_a7e4_0242ac1c0002row4_col0\" class=\"data row4 col0\" >0.530285</td>\n",
              "                        <td id=\"T_fe93770c_458e_11ec_a7e4_0242ac1c0002row4_col1\" class=\"data row4 col1\" >0.272095</td>\n",
              "                        <td id=\"T_fe93770c_458e_11ec_a7e4_0242ac1c0002row4_col2\" class=\"data row4 col2\" >0.813945</td>\n",
              "                        <td id=\"T_fe93770c_458e_11ec_a7e4_0242ac1c0002row4_col3\" class=\"data row4 col3\" >0.480177</td>\n",
              "                        <td id=\"T_fe93770c_458e_11ec_a7e4_0242ac1c0002row4_col4\" class=\"data row4 col4\" >0</td>\n",
              "                        <td id=\"T_fe93770c_458e_11ec_a7e4_0242ac1c0002row4_col5\" class=\"data row4 col5\" >0.813945</td>\n",
              "                        <td id=\"T_fe93770c_458e_11ec_a7e4_0242ac1c0002row4_col6\" class=\"data row4 col6\" >0.099481</td>\n",
              "            </tr>\n",
              "            <tr>\n",
              "                        <th id=\"T_fe93770c_458e_11ec_a7e4_0242ac1c0002level0_row5\" class=\"row_heading level0 row5\" >RandomForest</th>\n",
              "                        <td id=\"T_fe93770c_458e_11ec_a7e4_0242ac1c0002row5_col0\" class=\"data row5 col0\" >0.480177</td>\n",
              "                        <td id=\"T_fe93770c_458e_11ec_a7e4_0242ac1c0002row5_col1\" class=\"data row5 col1\" >0.209427</td>\n",
              "                        <td id=\"T_fe93770c_458e_11ec_a7e4_0242ac1c0002row5_col2\" class=\"data row5 col2\" >0.582920</td>\n",
              "                        <td id=\"T_fe93770c_458e_11ec_a7e4_0242ac1c0002row5_col3\" class=\"data row5 col3\" >0.480177</td>\n",
              "                        <td id=\"T_fe93770c_458e_11ec_a7e4_0242ac1c0002row5_col4\" class=\"data row5 col4\" >0.813945</td>\n",
              "                        <td id=\"T_fe93770c_458e_11ec_a7e4_0242ac1c0002row5_col5\" class=\"data row5 col5\" >0</td>\n",
              "                        <td id=\"T_fe93770c_458e_11ec_a7e4_0242ac1c0002row5_col6\" class=\"data row5 col6\" >0.116664</td>\n",
              "            </tr>\n",
              "            <tr>\n",
              "                        <th id=\"T_fe93770c_458e_11ec_a7e4_0242ac1c0002level0_row6\" class=\"row_heading level0 row6\" >AdaBoost</th>\n",
              "                        <td id=\"T_fe93770c_458e_11ec_a7e4_0242ac1c0002row6_col0\" class=\"data row6 col0\" >0.157939</td>\n",
              "                        <td id=\"T_fe93770c_458e_11ec_a7e4_0242ac1c0002row6_col1\" class=\"data row6 col1\" >0.637870</td>\n",
              "                        <td id=\"T_fe93770c_458e_11ec_a7e4_0242ac1c0002row6_col2\" class=\"data row6 col2\" >1.000000</td>\n",
              "                        <td id=\"T_fe93770c_458e_11ec_a7e4_0242ac1c0002row6_col3\" class=\"data row6 col3\" >0.022909</td>\n",
              "                        <td id=\"T_fe93770c_458e_11ec_a7e4_0242ac1c0002row6_col4\" class=\"data row6 col4\" >0.099481</td>\n",
              "                        <td id=\"T_fe93770c_458e_11ec_a7e4_0242ac1c0002row6_col5\" class=\"data row6 col5\" >0.116664</td>\n",
              "                        <td id=\"T_fe93770c_458e_11ec_a7e4_0242ac1c0002row6_col6\" class=\"data row6 col6\" >0</td>\n",
              "            </tr>\n",
              "    </tbody></table>"
            ],
            "text/plain": [
              "<pandas.io.formats.style.Styler at 0x7f7ced823310>"
            ]
          },
          "metadata": {},
          "execution_count": 18
        }
      ]
    },
    {
      "cell_type": "code",
      "metadata": {
        "id": "9lByhBjMtpwT",
        "colab": {
          "base_uri": "https://localhost:8080/",
          "height": 300
        },
        "outputId": "e223b6ba-7479-4769-a93b-356d56efe21e"
      },
      "source": [
        "df_list[3].style.applymap(lambda x: \"background-color: #00C957\" if 0 < x < 0.05 else \"background-color: None\")"
      ],
      "execution_count": null,
      "outputs": [
        {
          "output_type": "execute_result",
          "data": {
            "text/html": [
              "<style  type=\"text/css\" >\n",
              "#T_e5bea246_4963_11ec_8f1a_0242ac1c0002row0_col0,#T_e5bea246_4963_11ec_8f1a_0242ac1c0002row0_col1,#T_e5bea246_4963_11ec_8f1a_0242ac1c0002row0_col2,#T_e5bea246_4963_11ec_8f1a_0242ac1c0002row0_col3,#T_e5bea246_4963_11ec_8f1a_0242ac1c0002row0_col5,#T_e5bea246_4963_11ec_8f1a_0242ac1c0002row1_col0,#T_e5bea246_4963_11ec_8f1a_0242ac1c0002row1_col1,#T_e5bea246_4963_11ec_8f1a_0242ac1c0002row1_col2,#T_e5bea246_4963_11ec_8f1a_0242ac1c0002row1_col3,#T_e5bea246_4963_11ec_8f1a_0242ac1c0002row1_col4,#T_e5bea246_4963_11ec_8f1a_0242ac1c0002row1_col5,#T_e5bea246_4963_11ec_8f1a_0242ac1c0002row2_col0,#T_e5bea246_4963_11ec_8f1a_0242ac1c0002row2_col1,#T_e5bea246_4963_11ec_8f1a_0242ac1c0002row2_col2,#T_e5bea246_4963_11ec_8f1a_0242ac1c0002row2_col3,#T_e5bea246_4963_11ec_8f1a_0242ac1c0002row2_col4,#T_e5bea246_4963_11ec_8f1a_0242ac1c0002row2_col5,#T_e5bea246_4963_11ec_8f1a_0242ac1c0002row2_col6,#T_e5bea246_4963_11ec_8f1a_0242ac1c0002row3_col0,#T_e5bea246_4963_11ec_8f1a_0242ac1c0002row3_col1,#T_e5bea246_4963_11ec_8f1a_0242ac1c0002row3_col2,#T_e5bea246_4963_11ec_8f1a_0242ac1c0002row3_col3,#T_e5bea246_4963_11ec_8f1a_0242ac1c0002row3_col4,#T_e5bea246_4963_11ec_8f1a_0242ac1c0002row3_col5,#T_e5bea246_4963_11ec_8f1a_0242ac1c0002row4_col1,#T_e5bea246_4963_11ec_8f1a_0242ac1c0002row4_col2,#T_e5bea246_4963_11ec_8f1a_0242ac1c0002row4_col3,#T_e5bea246_4963_11ec_8f1a_0242ac1c0002row4_col4,#T_e5bea246_4963_11ec_8f1a_0242ac1c0002row4_col5,#T_e5bea246_4963_11ec_8f1a_0242ac1c0002row5_col0,#T_e5bea246_4963_11ec_8f1a_0242ac1c0002row5_col1,#T_e5bea246_4963_11ec_8f1a_0242ac1c0002row5_col2,#T_e5bea246_4963_11ec_8f1a_0242ac1c0002row5_col3,#T_e5bea246_4963_11ec_8f1a_0242ac1c0002row5_col4,#T_e5bea246_4963_11ec_8f1a_0242ac1c0002row5_col5,#T_e5bea246_4963_11ec_8f1a_0242ac1c0002row6_col2,#T_e5bea246_4963_11ec_8f1a_0242ac1c0002row6_col6{\n",
              "            background-color:  None;\n",
              "        }#T_e5bea246_4963_11ec_8f1a_0242ac1c0002row0_col4,#T_e5bea246_4963_11ec_8f1a_0242ac1c0002row0_col6,#T_e5bea246_4963_11ec_8f1a_0242ac1c0002row1_col6,#T_e5bea246_4963_11ec_8f1a_0242ac1c0002row3_col6,#T_e5bea246_4963_11ec_8f1a_0242ac1c0002row4_col0,#T_e5bea246_4963_11ec_8f1a_0242ac1c0002row4_col6,#T_e5bea246_4963_11ec_8f1a_0242ac1c0002row5_col6,#T_e5bea246_4963_11ec_8f1a_0242ac1c0002row6_col0,#T_e5bea246_4963_11ec_8f1a_0242ac1c0002row6_col1,#T_e5bea246_4963_11ec_8f1a_0242ac1c0002row6_col3,#T_e5bea246_4963_11ec_8f1a_0242ac1c0002row6_col4,#T_e5bea246_4963_11ec_8f1a_0242ac1c0002row6_col5{\n",
              "            background-color:  #00C957;\n",
              "        }</style><table id=\"T_e5bea246_4963_11ec_8f1a_0242ac1c0002\" class=\"dataframe\"><thead>    <tr>        <th class=\"blank level0\" ></th>        <th class=\"col_heading level0 col0\" >LDA</th>        <th class=\"col_heading level0 col1\" >SVC</th>        <th class=\"col_heading level0 col2\" >MLP</th>        <th class=\"col_heading level0 col3\" >KNN</th>        <th class=\"col_heading level0 col4\" >GaussianNB</th>        <th class=\"col_heading level0 col5\" >RandomForest</th>        <th class=\"col_heading level0 col6\" >AdaBoost</th>    </tr>    <tr>        <th class=\"index_name level0\" >Right-hand precision</th>        <th class=\"blank\" ></th>        <th class=\"blank\" ></th>        <th class=\"blank\" ></th>        <th class=\"blank\" ></th>        <th class=\"blank\" ></th>        <th class=\"blank\" ></th>        <th class=\"blank\" ></th>    </tr></thead><tbody>\n",
              "                <tr>\n",
              "                        <th id=\"T_e5bea246_4963_11ec_8f1a_0242ac1c0002level0_row0\" class=\"row_heading level0 row0\" >LDA</th>\n",
              "                        <td id=\"T_e5bea246_4963_11ec_8f1a_0242ac1c0002row0_col0\" class=\"data row0 col0\" >0</td>\n",
              "                        <td id=\"T_e5bea246_4963_11ec_8f1a_0242ac1c0002row0_col1\" class=\"data row0 col1\" >0.753684</td>\n",
              "                        <td id=\"T_e5bea246_4963_11ec_8f1a_0242ac1c0002row0_col2\" class=\"data row0 col2\" >0.813945</td>\n",
              "                        <td id=\"T_e5bea246_4963_11ec_8f1a_0242ac1c0002row0_col3\" class=\"data row0 col3\" >1.000000</td>\n",
              "                        <td id=\"T_e5bea246_4963_11ec_8f1a_0242ac1c0002row0_col4\" class=\"data row0 col4\" >0.028056</td>\n",
              "                        <td id=\"T_e5bea246_4963_11ec_8f1a_0242ac1c0002row0_col5\" class=\"data row0 col5\" >0.694887</td>\n",
              "                        <td id=\"T_e5bea246_4963_11ec_8f1a_0242ac1c0002row0_col6\" class=\"data row0 col6\" >0.022909</td>\n",
              "            </tr>\n",
              "            <tr>\n",
              "                        <th id=\"T_e5bea246_4963_11ec_8f1a_0242ac1c0002level0_row1\" class=\"row_heading level0 row1\" >SVC</th>\n",
              "                        <td id=\"T_e5bea246_4963_11ec_8f1a_0242ac1c0002row1_col0\" class=\"data row1 col0\" >0.753684</td>\n",
              "                        <td id=\"T_e5bea246_4963_11ec_8f1a_0242ac1c0002row1_col1\" class=\"data row1 col1\" >0</td>\n",
              "                        <td id=\"T_e5bea246_4963_11ec_8f1a_0242ac1c0002row1_col2\" class=\"data row1 col2\" >0.637870</td>\n",
              "                        <td id=\"T_e5bea246_4963_11ec_8f1a_0242ac1c0002row1_col3\" class=\"data row1 col3\" >0.582920</td>\n",
              "                        <td id=\"T_e5bea246_4963_11ec_8f1a_0242ac1c0002row1_col4\" class=\"data row1 col4\" >0.116664</td>\n",
              "                        <td id=\"T_e5bea246_4963_11ec_8f1a_0242ac1c0002row1_col5\" class=\"data row1 col5\" >0.937473</td>\n",
              "                        <td id=\"T_e5bea246_4963_11ec_8f1a_0242ac1c0002row1_col6\" class=\"data row1 col6\" >0.018603</td>\n",
              "            </tr>\n",
              "            <tr>\n",
              "                        <th id=\"T_e5bea246_4963_11ec_8f1a_0242ac1c0002level0_row2\" class=\"row_heading level0 row2\" >MLP</th>\n",
              "                        <td id=\"T_e5bea246_4963_11ec_8f1a_0242ac1c0002row2_col0\" class=\"data row2 col0\" >0.813945</td>\n",
              "                        <td id=\"T_e5bea246_4963_11ec_8f1a_0242ac1c0002row2_col1\" class=\"data row2 col1\" >0.637870</td>\n",
              "                        <td id=\"T_e5bea246_4963_11ec_8f1a_0242ac1c0002row2_col2\" class=\"data row2 col2\" >0</td>\n",
              "                        <td id=\"T_e5bea246_4963_11ec_8f1a_0242ac1c0002row2_col3\" class=\"data row2 col3\" >0.753684</td>\n",
              "                        <td id=\"T_e5bea246_4963_11ec_8f1a_0242ac1c0002row2_col4\" class=\"data row2 col4\" >0.116664</td>\n",
              "                        <td id=\"T_e5bea246_4963_11ec_8f1a_0242ac1c0002row2_col5\" class=\"data row2 col5\" >0.432768</td>\n",
              "                        <td id=\"T_e5bea246_4963_11ec_8f1a_0242ac1c0002row2_col6\" class=\"data row2 col6\" >0.307821</td>\n",
              "            </tr>\n",
              "            <tr>\n",
              "                        <th id=\"T_e5bea246_4963_11ec_8f1a_0242ac1c0002level0_row3\" class=\"row_heading level0 row3\" >KNN</th>\n",
              "                        <td id=\"T_e5bea246_4963_11ec_8f1a_0242ac1c0002row3_col0\" class=\"data row3 col0\" >1.000000</td>\n",
              "                        <td id=\"T_e5bea246_4963_11ec_8f1a_0242ac1c0002row3_col1\" class=\"data row3 col1\" >0.582920</td>\n",
              "                        <td id=\"T_e5bea246_4963_11ec_8f1a_0242ac1c0002row3_col2\" class=\"data row3 col2\" >0.753684</td>\n",
              "                        <td id=\"T_e5bea246_4963_11ec_8f1a_0242ac1c0002row3_col3\" class=\"data row3 col3\" >0</td>\n",
              "                        <td id=\"T_e5bea246_4963_11ec_8f1a_0242ac1c0002row3_col4\" class=\"data row3 col4\" >0.157939</td>\n",
              "                        <td id=\"T_e5bea246_4963_11ec_8f1a_0242ac1c0002row3_col5\" class=\"data row3 col5\" >0.937473</td>\n",
              "                        <td id=\"T_e5bea246_4963_11ec_8f1a_0242ac1c0002row3_col6\" class=\"data row3 col6\" >0.018603</td>\n",
              "            </tr>\n",
              "            <tr>\n",
              "                        <th id=\"T_e5bea246_4963_11ec_8f1a_0242ac1c0002level0_row4\" class=\"row_heading level0 row4\" >GaussianNB</th>\n",
              "                        <td id=\"T_e5bea246_4963_11ec_8f1a_0242ac1c0002row4_col0\" class=\"data row4 col0\" >0.028056</td>\n",
              "                        <td id=\"T_e5bea246_4963_11ec_8f1a_0242ac1c0002row4_col1\" class=\"data row4 col1\" >0.116664</td>\n",
              "                        <td id=\"T_e5bea246_4963_11ec_8f1a_0242ac1c0002row4_col2\" class=\"data row4 col2\" >0.116664</td>\n",
              "                        <td id=\"T_e5bea246_4963_11ec_8f1a_0242ac1c0002row4_col3\" class=\"data row4 col3\" >0.157939</td>\n",
              "                        <td id=\"T_e5bea246_4963_11ec_8f1a_0242ac1c0002row4_col4\" class=\"data row4 col4\" >0</td>\n",
              "                        <td id=\"T_e5bea246_4963_11ec_8f1a_0242ac1c0002row4_col5\" class=\"data row4 col5\" >0.239317</td>\n",
              "                        <td id=\"T_e5bea246_4963_11ec_8f1a_0242ac1c0002row4_col6\" class=\"data row4 col6\" >0.009633</td>\n",
              "            </tr>\n",
              "            <tr>\n",
              "                        <th id=\"T_e5bea246_4963_11ec_8f1a_0242ac1c0002level0_row5\" class=\"row_heading level0 row5\" >RandomForest</th>\n",
              "                        <td id=\"T_e5bea246_4963_11ec_8f1a_0242ac1c0002row5_col0\" class=\"data row5 col0\" >0.694887</td>\n",
              "                        <td id=\"T_e5bea246_4963_11ec_8f1a_0242ac1c0002row5_col1\" class=\"data row5 col1\" >0.937473</td>\n",
              "                        <td id=\"T_e5bea246_4963_11ec_8f1a_0242ac1c0002row5_col2\" class=\"data row5 col2\" >0.432768</td>\n",
              "                        <td id=\"T_e5bea246_4963_11ec_8f1a_0242ac1c0002row5_col3\" class=\"data row5 col3\" >0.937473</td>\n",
              "                        <td id=\"T_e5bea246_4963_11ec_8f1a_0242ac1c0002row5_col4\" class=\"data row5 col4\" >0.239317</td>\n",
              "                        <td id=\"T_e5bea246_4963_11ec_8f1a_0242ac1c0002row5_col5\" class=\"data row5 col5\" >0</td>\n",
              "                        <td id=\"T_e5bea246_4963_11ec_8f1a_0242ac1c0002row5_col6\" class=\"data row5 col6\" >0.003702</td>\n",
              "            </tr>\n",
              "            <tr>\n",
              "                        <th id=\"T_e5bea246_4963_11ec_8f1a_0242ac1c0002level0_row6\" class=\"row_heading level0 row6\" >AdaBoost</th>\n",
              "                        <td id=\"T_e5bea246_4963_11ec_8f1a_0242ac1c0002row6_col0\" class=\"data row6 col0\" >0.022909</td>\n",
              "                        <td id=\"T_e5bea246_4963_11ec_8f1a_0242ac1c0002row6_col1\" class=\"data row6 col1\" >0.018603</td>\n",
              "                        <td id=\"T_e5bea246_4963_11ec_8f1a_0242ac1c0002row6_col2\" class=\"data row6 col2\" >0.307821</td>\n",
              "                        <td id=\"T_e5bea246_4963_11ec_8f1a_0242ac1c0002row6_col3\" class=\"data row6 col3\" >0.018603</td>\n",
              "                        <td id=\"T_e5bea246_4963_11ec_8f1a_0242ac1c0002row6_col4\" class=\"data row6 col4\" >0.009633</td>\n",
              "                        <td id=\"T_e5bea246_4963_11ec_8f1a_0242ac1c0002row6_col5\" class=\"data row6 col5\" >0.003702</td>\n",
              "                        <td id=\"T_e5bea246_4963_11ec_8f1a_0242ac1c0002row6_col6\" class=\"data row6 col6\" >0</td>\n",
              "            </tr>\n",
              "    </tbody></table>"
            ],
            "text/plain": [
              "<pandas.io.formats.style.Styler at 0x7f90ec8d08d0>"
            ]
          },
          "metadata": {},
          "execution_count": 6
        }
      ]
    },
    {
      "cell_type": "code",
      "metadata": {
        "colab": {
          "base_uri": "https://localhost:8080/",
          "height": 295
        },
        "id": "-Ipiu10vttzd",
        "outputId": "5e089e3f-df8f-4a48-cac0-94dd6921e1c1"
      },
      "source": [
        "df_list[4].style.applymap(lambda x: \"background-color: #00C957\" if 0 < x < 0.05 else \"background-color: None\")"
      ],
      "execution_count": null,
      "outputs": [
        {
          "output_type": "execute_result",
          "data": {
            "text/html": [
              "<style  type=\"text/css\" >\n",
              "#T_ff7976b2_458e_11ec_a7e4_0242ac1c0002row0_col0,#T_ff7976b2_458e_11ec_a7e4_0242ac1c0002row0_col2,#T_ff7976b2_458e_11ec_a7e4_0242ac1c0002row0_col3,#T_ff7976b2_458e_11ec_a7e4_0242ac1c0002row0_col4,#T_ff7976b2_458e_11ec_a7e4_0242ac1c0002row0_col5,#T_ff7976b2_458e_11ec_a7e4_0242ac1c0002row0_col6,#T_ff7976b2_458e_11ec_a7e4_0242ac1c0002row1_col1,#T_ff7976b2_458e_11ec_a7e4_0242ac1c0002row1_col2,#T_ff7976b2_458e_11ec_a7e4_0242ac1c0002row1_col3,#T_ff7976b2_458e_11ec_a7e4_0242ac1c0002row1_col5,#T_ff7976b2_458e_11ec_a7e4_0242ac1c0002row1_col6,#T_ff7976b2_458e_11ec_a7e4_0242ac1c0002row2_col0,#T_ff7976b2_458e_11ec_a7e4_0242ac1c0002row2_col1,#T_ff7976b2_458e_11ec_a7e4_0242ac1c0002row2_col2,#T_ff7976b2_458e_11ec_a7e4_0242ac1c0002row2_col3,#T_ff7976b2_458e_11ec_a7e4_0242ac1c0002row2_col4,#T_ff7976b2_458e_11ec_a7e4_0242ac1c0002row2_col5,#T_ff7976b2_458e_11ec_a7e4_0242ac1c0002row2_col6,#T_ff7976b2_458e_11ec_a7e4_0242ac1c0002row3_col0,#T_ff7976b2_458e_11ec_a7e4_0242ac1c0002row3_col1,#T_ff7976b2_458e_11ec_a7e4_0242ac1c0002row3_col2,#T_ff7976b2_458e_11ec_a7e4_0242ac1c0002row3_col3,#T_ff7976b2_458e_11ec_a7e4_0242ac1c0002row3_col4,#T_ff7976b2_458e_11ec_a7e4_0242ac1c0002row3_col5,#T_ff7976b2_458e_11ec_a7e4_0242ac1c0002row3_col6,#T_ff7976b2_458e_11ec_a7e4_0242ac1c0002row4_col0,#T_ff7976b2_458e_11ec_a7e4_0242ac1c0002row4_col2,#T_ff7976b2_458e_11ec_a7e4_0242ac1c0002row4_col3,#T_ff7976b2_458e_11ec_a7e4_0242ac1c0002row4_col4,#T_ff7976b2_458e_11ec_a7e4_0242ac1c0002row4_col5,#T_ff7976b2_458e_11ec_a7e4_0242ac1c0002row5_col0,#T_ff7976b2_458e_11ec_a7e4_0242ac1c0002row5_col1,#T_ff7976b2_458e_11ec_a7e4_0242ac1c0002row5_col2,#T_ff7976b2_458e_11ec_a7e4_0242ac1c0002row5_col3,#T_ff7976b2_458e_11ec_a7e4_0242ac1c0002row5_col4,#T_ff7976b2_458e_11ec_a7e4_0242ac1c0002row5_col5,#T_ff7976b2_458e_11ec_a7e4_0242ac1c0002row5_col6,#T_ff7976b2_458e_11ec_a7e4_0242ac1c0002row6_col0,#T_ff7976b2_458e_11ec_a7e4_0242ac1c0002row6_col1,#T_ff7976b2_458e_11ec_a7e4_0242ac1c0002row6_col2,#T_ff7976b2_458e_11ec_a7e4_0242ac1c0002row6_col3,#T_ff7976b2_458e_11ec_a7e4_0242ac1c0002row6_col5,#T_ff7976b2_458e_11ec_a7e4_0242ac1c0002row6_col6{\n",
              "            background-color:  None;\n",
              "        }#T_ff7976b2_458e_11ec_a7e4_0242ac1c0002row0_col1,#T_ff7976b2_458e_11ec_a7e4_0242ac1c0002row1_col0,#T_ff7976b2_458e_11ec_a7e4_0242ac1c0002row1_col4,#T_ff7976b2_458e_11ec_a7e4_0242ac1c0002row4_col1,#T_ff7976b2_458e_11ec_a7e4_0242ac1c0002row4_col6,#T_ff7976b2_458e_11ec_a7e4_0242ac1c0002row6_col4{\n",
              "            background-color:  #00C957;\n",
              "        }</style><table id=\"T_ff7976b2_458e_11ec_a7e4_0242ac1c0002\" class=\"dataframe\"><thead>    <tr>        <th class=\"blank level0\" ></th>        <th class=\"col_heading level0 col0\" >LDA</th>        <th class=\"col_heading level0 col1\" >SVC</th>        <th class=\"col_heading level0 col2\" >MLP</th>        <th class=\"col_heading level0 col3\" >KNN</th>        <th class=\"col_heading level0 col4\" >GaussianNB</th>        <th class=\"col_heading level0 col5\" >RandomForest</th>        <th class=\"col_heading level0 col6\" >AdaBoost</th>    </tr>    <tr>        <th class=\"index_name level0\" >Left-hand recall</th>        <th class=\"blank\" ></th>        <th class=\"blank\" ></th>        <th class=\"blank\" ></th>        <th class=\"blank\" ></th>        <th class=\"blank\" ></th>        <th class=\"blank\" ></th>        <th class=\"blank\" ></th>    </tr></thead><tbody>\n",
              "                <tr>\n",
              "                        <th id=\"T_ff7976b2_458e_11ec_a7e4_0242ac1c0002level0_row0\" class=\"row_heading level0 row0\" >LDA</th>\n",
              "                        <td id=\"T_ff7976b2_458e_11ec_a7e4_0242ac1c0002row0_col0\" class=\"data row0 col0\" >0</td>\n",
              "                        <td id=\"T_ff7976b2_458e_11ec_a7e4_0242ac1c0002row0_col1\" class=\"data row0 col1\" >0.034170</td>\n",
              "                        <td id=\"T_ff7976b2_458e_11ec_a7e4_0242ac1c0002row0_col2\" class=\"data row0 col2\" >0.875329</td>\n",
              "                        <td id=\"T_ff7976b2_458e_11ec_a7e4_0242ac1c0002row0_col3\" class=\"data row0 col3\" >0.582920</td>\n",
              "                        <td id=\"T_ff7976b2_458e_11ec_a7e4_0242ac1c0002row0_col4\" class=\"data row0 col4\" >0.092601</td>\n",
              "                        <td id=\"T_ff7976b2_458e_11ec_a7e4_0242ac1c0002row0_col5\" class=\"data row0 col5\" >0.582920</td>\n",
              "                        <td id=\"T_ff7976b2_458e_11ec_a7e4_0242ac1c0002row0_col6\" class=\"data row0 col6\" >0.388186</td>\n",
              "            </tr>\n",
              "            <tr>\n",
              "                        <th id=\"T_ff7976b2_458e_11ec_a7e4_0242ac1c0002level0_row1\" class=\"row_heading level0 row1\" >SVC</th>\n",
              "                        <td id=\"T_ff7976b2_458e_11ec_a7e4_0242ac1c0002row1_col0\" class=\"data row1 col0\" >0.034170</td>\n",
              "                        <td id=\"T_ff7976b2_458e_11ec_a7e4_0242ac1c0002row1_col1\" class=\"data row1 col1\" >0</td>\n",
              "                        <td id=\"T_ff7976b2_458e_11ec_a7e4_0242ac1c0002row1_col2\" class=\"data row1 col2\" >0.182338</td>\n",
              "                        <td id=\"T_ff7976b2_458e_11ec_a7e4_0242ac1c0002row1_col3\" class=\"data row1 col3\" >0.307821</td>\n",
              "                        <td id=\"T_ff7976b2_458e_11ec_a7e4_0242ac1c0002row1_col4\" class=\"data row1 col4\" >0.012063</td>\n",
              "                        <td id=\"T_ff7976b2_458e_11ec_a7e4_0242ac1c0002row1_col5\" class=\"data row1 col5\" >0.388186</td>\n",
              "                        <td id=\"T_ff7976b2_458e_11ec_a7e4_0242ac1c0002row1_col6\" class=\"data row1 col6\" >1.000000</td>\n",
              "            </tr>\n",
              "            <tr>\n",
              "                        <th id=\"T_ff7976b2_458e_11ec_a7e4_0242ac1c0002level0_row2\" class=\"row_heading level0 row2\" >MLP</th>\n",
              "                        <td id=\"T_ff7976b2_458e_11ec_a7e4_0242ac1c0002row2_col0\" class=\"data row2 col0\" >0.875329</td>\n",
              "                        <td id=\"T_ff7976b2_458e_11ec_a7e4_0242ac1c0002row2_col1\" class=\"data row2 col1\" >0.182338</td>\n",
              "                        <td id=\"T_ff7976b2_458e_11ec_a7e4_0242ac1c0002row2_col2\" class=\"data row2 col2\" >0</td>\n",
              "                        <td id=\"T_ff7976b2_458e_11ec_a7e4_0242ac1c0002row2_col3\" class=\"data row2 col3\" >0.937473</td>\n",
              "                        <td id=\"T_ff7976b2_458e_11ec_a7e4_0242ac1c0002row2_col4\" class=\"data row2 col4\" >0.239317</td>\n",
              "                        <td id=\"T_ff7976b2_458e_11ec_a7e4_0242ac1c0002row2_col5\" class=\"data row2 col5\" >0.694887</td>\n",
              "                        <td id=\"T_ff7976b2_458e_11ec_a7e4_0242ac1c0002row2_col6\" class=\"data row2 col6\" >0.530285</td>\n",
              "            </tr>\n",
              "            <tr>\n",
              "                        <th id=\"T_ff7976b2_458e_11ec_a7e4_0242ac1c0002level0_row3\" class=\"row_heading level0 row3\" >KNN</th>\n",
              "                        <td id=\"T_ff7976b2_458e_11ec_a7e4_0242ac1c0002row3_col0\" class=\"data row3 col0\" >0.582920</td>\n",
              "                        <td id=\"T_ff7976b2_458e_11ec_a7e4_0242ac1c0002row3_col1\" class=\"data row3 col1\" >0.307821</td>\n",
              "                        <td id=\"T_ff7976b2_458e_11ec_a7e4_0242ac1c0002row3_col2\" class=\"data row3 col2\" >0.937473</td>\n",
              "                        <td id=\"T_ff7976b2_458e_11ec_a7e4_0242ac1c0002row3_col3\" class=\"data row3 col3\" >0</td>\n",
              "                        <td id=\"T_ff7976b2_458e_11ec_a7e4_0242ac1c0002row3_col4\" class=\"data row3 col4\" >0.239317</td>\n",
              "                        <td id=\"T_ff7976b2_458e_11ec_a7e4_0242ac1c0002row3_col5\" class=\"data row3 col5\" >0.875329</td>\n",
              "                        <td id=\"T_ff7976b2_458e_11ec_a7e4_0242ac1c0002row3_col6\" class=\"data row3 col6\" >0.136097</td>\n",
              "            </tr>\n",
              "            <tr>\n",
              "                        <th id=\"T_ff7976b2_458e_11ec_a7e4_0242ac1c0002level0_row4\" class=\"row_heading level0 row4\" >GaussianNB</th>\n",
              "                        <td id=\"T_ff7976b2_458e_11ec_a7e4_0242ac1c0002row4_col0\" class=\"data row4 col0\" >0.092601</td>\n",
              "                        <td id=\"T_ff7976b2_458e_11ec_a7e4_0242ac1c0002row4_col1\" class=\"data row4 col1\" >0.012063</td>\n",
              "                        <td id=\"T_ff7976b2_458e_11ec_a7e4_0242ac1c0002row4_col2\" class=\"data row4 col2\" >0.239317</td>\n",
              "                        <td id=\"T_ff7976b2_458e_11ec_a7e4_0242ac1c0002row4_col3\" class=\"data row4 col3\" >0.239317</td>\n",
              "                        <td id=\"T_ff7976b2_458e_11ec_a7e4_0242ac1c0002row4_col4\" class=\"data row4 col4\" >0</td>\n",
              "                        <td id=\"T_ff7976b2_458e_11ec_a7e4_0242ac1c0002row4_col5\" class=\"data row4 col5\" >0.182338</td>\n",
              "                        <td id=\"T_ff7976b2_458e_11ec_a7e4_0242ac1c0002row4_col6\" class=\"data row4 col6\" >0.041389</td>\n",
              "            </tr>\n",
              "            <tr>\n",
              "                        <th id=\"T_ff7976b2_458e_11ec_a7e4_0242ac1c0002level0_row5\" class=\"row_heading level0 row5\" >RandomForest</th>\n",
              "                        <td id=\"T_ff7976b2_458e_11ec_a7e4_0242ac1c0002row5_col0\" class=\"data row5 col0\" >0.582920</td>\n",
              "                        <td id=\"T_ff7976b2_458e_11ec_a7e4_0242ac1c0002row5_col1\" class=\"data row5 col1\" >0.388186</td>\n",
              "                        <td id=\"T_ff7976b2_458e_11ec_a7e4_0242ac1c0002row5_col2\" class=\"data row5 col2\" >0.694887</td>\n",
              "                        <td id=\"T_ff7976b2_458e_11ec_a7e4_0242ac1c0002row5_col3\" class=\"data row5 col3\" >0.875329</td>\n",
              "                        <td id=\"T_ff7976b2_458e_11ec_a7e4_0242ac1c0002row5_col4\" class=\"data row5 col4\" >0.182338</td>\n",
              "                        <td id=\"T_ff7976b2_458e_11ec_a7e4_0242ac1c0002row5_col5\" class=\"data row5 col5\" >0</td>\n",
              "                        <td id=\"T_ff7976b2_458e_11ec_a7e4_0242ac1c0002row5_col6\" class=\"data row5 col6\" >0.480177</td>\n",
              "            </tr>\n",
              "            <tr>\n",
              "                        <th id=\"T_ff7976b2_458e_11ec_a7e4_0242ac1c0002level0_row6\" class=\"row_heading level0 row6\" >AdaBoost</th>\n",
              "                        <td id=\"T_ff7976b2_458e_11ec_a7e4_0242ac1c0002row6_col0\" class=\"data row6 col0\" >0.388186</td>\n",
              "                        <td id=\"T_ff7976b2_458e_11ec_a7e4_0242ac1c0002row6_col1\" class=\"data row6 col1\" >1.000000</td>\n",
              "                        <td id=\"T_ff7976b2_458e_11ec_a7e4_0242ac1c0002row6_col2\" class=\"data row6 col2\" >0.530285</td>\n",
              "                        <td id=\"T_ff7976b2_458e_11ec_a7e4_0242ac1c0002row6_col3\" class=\"data row6 col3\" >0.136097</td>\n",
              "                        <td id=\"T_ff7976b2_458e_11ec_a7e4_0242ac1c0002row6_col4\" class=\"data row6 col4\" >0.041389</td>\n",
              "                        <td id=\"T_ff7976b2_458e_11ec_a7e4_0242ac1c0002row6_col5\" class=\"data row6 col5\" >0.480177</td>\n",
              "                        <td id=\"T_ff7976b2_458e_11ec_a7e4_0242ac1c0002row6_col6\" class=\"data row6 col6\" >0</td>\n",
              "            </tr>\n",
              "    </tbody></table>"
            ],
            "text/plain": [
              "<pandas.io.formats.style.Styler at 0x7f7ced7ba910>"
            ]
          },
          "metadata": {},
          "execution_count": 19
        }
      ]
    },
    {
      "cell_type": "code",
      "metadata": {
        "colab": {
          "base_uri": "https://localhost:8080/",
          "height": 295
        },
        "id": "T8yBacILtwfM",
        "outputId": "4adff6a8-331d-413a-9244-764603e97b7d"
      },
      "source": [
        "df_list[5].style.applymap(lambda x: \"background-color: #00C957\" if 0 < x < 0.05 else \"background-color: None\")"
      ],
      "execution_count": null,
      "outputs": [
        {
          "output_type": "execute_result",
          "data": {
            "text/html": [
              "<style  type=\"text/css\" >\n",
              "#T_0278caf2_458f_11ec_a7e4_0242ac1c0002row0_col0,#T_0278caf2_458f_11ec_a7e4_0242ac1c0002row0_col1,#T_0278caf2_458f_11ec_a7e4_0242ac1c0002row0_col3,#T_0278caf2_458f_11ec_a7e4_0242ac1c0002row0_col4,#T_0278caf2_458f_11ec_a7e4_0242ac1c0002row0_col5,#T_0278caf2_458f_11ec_a7e4_0242ac1c0002row0_col6,#T_0278caf2_458f_11ec_a7e4_0242ac1c0002row1_col0,#T_0278caf2_458f_11ec_a7e4_0242ac1c0002row1_col1,#T_0278caf2_458f_11ec_a7e4_0242ac1c0002row1_col3,#T_0278caf2_458f_11ec_a7e4_0242ac1c0002row1_col4,#T_0278caf2_458f_11ec_a7e4_0242ac1c0002row1_col5,#T_0278caf2_458f_11ec_a7e4_0242ac1c0002row1_col6,#T_0278caf2_458f_11ec_a7e4_0242ac1c0002row2_col2,#T_0278caf2_458f_11ec_a7e4_0242ac1c0002row2_col4,#T_0278caf2_458f_11ec_a7e4_0242ac1c0002row3_col0,#T_0278caf2_458f_11ec_a7e4_0242ac1c0002row3_col1,#T_0278caf2_458f_11ec_a7e4_0242ac1c0002row3_col3,#T_0278caf2_458f_11ec_a7e4_0242ac1c0002row3_col4,#T_0278caf2_458f_11ec_a7e4_0242ac1c0002row3_col5,#T_0278caf2_458f_11ec_a7e4_0242ac1c0002row3_col6,#T_0278caf2_458f_11ec_a7e4_0242ac1c0002row4_col0,#T_0278caf2_458f_11ec_a7e4_0242ac1c0002row4_col1,#T_0278caf2_458f_11ec_a7e4_0242ac1c0002row4_col2,#T_0278caf2_458f_11ec_a7e4_0242ac1c0002row4_col3,#T_0278caf2_458f_11ec_a7e4_0242ac1c0002row4_col4,#T_0278caf2_458f_11ec_a7e4_0242ac1c0002row4_col5,#T_0278caf2_458f_11ec_a7e4_0242ac1c0002row4_col6,#T_0278caf2_458f_11ec_a7e4_0242ac1c0002row5_col0,#T_0278caf2_458f_11ec_a7e4_0242ac1c0002row5_col1,#T_0278caf2_458f_11ec_a7e4_0242ac1c0002row5_col3,#T_0278caf2_458f_11ec_a7e4_0242ac1c0002row5_col4,#T_0278caf2_458f_11ec_a7e4_0242ac1c0002row5_col5,#T_0278caf2_458f_11ec_a7e4_0242ac1c0002row5_col6,#T_0278caf2_458f_11ec_a7e4_0242ac1c0002row6_col0,#T_0278caf2_458f_11ec_a7e4_0242ac1c0002row6_col1,#T_0278caf2_458f_11ec_a7e4_0242ac1c0002row6_col3,#T_0278caf2_458f_11ec_a7e4_0242ac1c0002row6_col4,#T_0278caf2_458f_11ec_a7e4_0242ac1c0002row6_col5,#T_0278caf2_458f_11ec_a7e4_0242ac1c0002row6_col6{\n",
              "            background-color:  None;\n",
              "        }#T_0278caf2_458f_11ec_a7e4_0242ac1c0002row0_col2,#T_0278caf2_458f_11ec_a7e4_0242ac1c0002row1_col2,#T_0278caf2_458f_11ec_a7e4_0242ac1c0002row2_col0,#T_0278caf2_458f_11ec_a7e4_0242ac1c0002row2_col1,#T_0278caf2_458f_11ec_a7e4_0242ac1c0002row2_col3,#T_0278caf2_458f_11ec_a7e4_0242ac1c0002row2_col5,#T_0278caf2_458f_11ec_a7e4_0242ac1c0002row2_col6,#T_0278caf2_458f_11ec_a7e4_0242ac1c0002row3_col2,#T_0278caf2_458f_11ec_a7e4_0242ac1c0002row5_col2,#T_0278caf2_458f_11ec_a7e4_0242ac1c0002row6_col2{\n",
              "            background-color:  #00C957;\n",
              "        }</style><table id=\"T_0278caf2_458f_11ec_a7e4_0242ac1c0002\" class=\"dataframe\"><thead>    <tr>        <th class=\"blank level0\" ></th>        <th class=\"col_heading level0 col0\" >LDA</th>        <th class=\"col_heading level0 col1\" >SVC</th>        <th class=\"col_heading level0 col2\" >MLP</th>        <th class=\"col_heading level0 col3\" >KNN</th>        <th class=\"col_heading level0 col4\" >GaussianNB</th>        <th class=\"col_heading level0 col5\" >RandomForest</th>        <th class=\"col_heading level0 col6\" >AdaBoost</th>    </tr>    <tr>        <th class=\"index_name level0\" >Right-hand recall</th>        <th class=\"blank\" ></th>        <th class=\"blank\" ></th>        <th class=\"blank\" ></th>        <th class=\"blank\" ></th>        <th class=\"blank\" ></th>        <th class=\"blank\" ></th>        <th class=\"blank\" ></th>    </tr></thead><tbody>\n",
              "                <tr>\n",
              "                        <th id=\"T_0278caf2_458f_11ec_a7e4_0242ac1c0002level0_row0\" class=\"row_heading level0 row0\" >LDA</th>\n",
              "                        <td id=\"T_0278caf2_458f_11ec_a7e4_0242ac1c0002row0_col0\" class=\"data row0 col0\" >0</td>\n",
              "                        <td id=\"T_0278caf2_458f_11ec_a7e4_0242ac1c0002row0_col1\" class=\"data row0 col1\" >0.091161</td>\n",
              "                        <td id=\"T_0278caf2_458f_11ec_a7e4_0242ac1c0002row0_col2\" class=\"data row0 col2\" >0.018603</td>\n",
              "                        <td id=\"T_0278caf2_458f_11ec_a7e4_0242ac1c0002row0_col3\" class=\"data row0 col3\" >0.157939</td>\n",
              "                        <td id=\"T_0278caf2_458f_11ec_a7e4_0242ac1c0002row0_col4\" class=\"data row0 col4\" >0.813945</td>\n",
              "                        <td id=\"T_0278caf2_458f_11ec_a7e4_0242ac1c0002row0_col5\" class=\"data row0 col5\" >0.432768</td>\n",
              "                        <td id=\"T_0278caf2_458f_11ec_a7e4_0242ac1c0002row0_col6\" class=\"data row0 col6\" >0.432768</td>\n",
              "            </tr>\n",
              "            <tr>\n",
              "                        <th id=\"T_0278caf2_458f_11ec_a7e4_0242ac1c0002level0_row1\" class=\"row_heading level0 row1\" >SVC</th>\n",
              "                        <td id=\"T_0278caf2_458f_11ec_a7e4_0242ac1c0002row1_col0\" class=\"data row1 col0\" >0.091161</td>\n",
              "                        <td id=\"T_0278caf2_458f_11ec_a7e4_0242ac1c0002row1_col1\" class=\"data row1 col1\" >0</td>\n",
              "                        <td id=\"T_0278caf2_458f_11ec_a7e4_0242ac1c0002row1_col2\" class=\"data row1 col2\" >0.015022</td>\n",
              "                        <td id=\"T_0278caf2_458f_11ec_a7e4_0242ac1c0002row1_col3\" class=\"data row1 col3\" >0.239317</td>\n",
              "                        <td id=\"T_0278caf2_458f_11ec_a7e4_0242ac1c0002row1_col4\" class=\"data row1 col4\" >0.373945</td>\n",
              "                        <td id=\"T_0278caf2_458f_11ec_a7e4_0242ac1c0002row1_col5\" class=\"data row1 col5\" >0.480177</td>\n",
              "                        <td id=\"T_0278caf2_458f_11ec_a7e4_0242ac1c0002row1_col6\" class=\"data row1 col6\" >0.182338</td>\n",
              "            </tr>\n",
              "            <tr>\n",
              "                        <th id=\"T_0278caf2_458f_11ec_a7e4_0242ac1c0002level0_row2\" class=\"row_heading level0 row2\" >MLP</th>\n",
              "                        <td id=\"T_0278caf2_458f_11ec_a7e4_0242ac1c0002row2_col0\" class=\"data row2 col0\" >0.018603</td>\n",
              "                        <td id=\"T_0278caf2_458f_11ec_a7e4_0242ac1c0002row2_col1\" class=\"data row2 col1\" >0.015022</td>\n",
              "                        <td id=\"T_0278caf2_458f_11ec_a7e4_0242ac1c0002row2_col2\" class=\"data row2 col2\" >0</td>\n",
              "                        <td id=\"T_0278caf2_458f_11ec_a7e4_0242ac1c0002row2_col3\" class=\"data row2 col3\" >0.022909</td>\n",
              "                        <td id=\"T_0278caf2_458f_11ec_a7e4_0242ac1c0002row2_col4\" class=\"data row2 col4\" >0.084379</td>\n",
              "                        <td id=\"T_0278caf2_458f_11ec_a7e4_0242ac1c0002row2_col5\" class=\"data row2 col5\" >0.028056</td>\n",
              "                        <td id=\"T_0278caf2_458f_11ec_a7e4_0242ac1c0002row2_col6\" class=\"data row2 col6\" >0.049860</td>\n",
              "            </tr>\n",
              "            <tr>\n",
              "                        <th id=\"T_0278caf2_458f_11ec_a7e4_0242ac1c0002level0_row3\" class=\"row_heading level0 row3\" >KNN</th>\n",
              "                        <td id=\"T_0278caf2_458f_11ec_a7e4_0242ac1c0002row3_col0\" class=\"data row3 col0\" >0.157939</td>\n",
              "                        <td id=\"T_0278caf2_458f_11ec_a7e4_0242ac1c0002row3_col1\" class=\"data row3 col1\" >0.239317</td>\n",
              "                        <td id=\"T_0278caf2_458f_11ec_a7e4_0242ac1c0002row3_col2\" class=\"data row3 col2\" >0.022909</td>\n",
              "                        <td id=\"T_0278caf2_458f_11ec_a7e4_0242ac1c0002row3_col3\" class=\"data row3 col3\" >0</td>\n",
              "                        <td id=\"T_0278caf2_458f_11ec_a7e4_0242ac1c0002row3_col4\" class=\"data row3 col4\" >0.182338</td>\n",
              "                        <td id=\"T_0278caf2_458f_11ec_a7e4_0242ac1c0002row3_col5\" class=\"data row3 col5\" >0.582920</td>\n",
              "                        <td id=\"T_0278caf2_458f_11ec_a7e4_0242ac1c0002row3_col6\" class=\"data row3 col6\" >0.099481</td>\n",
              "            </tr>\n",
              "            <tr>\n",
              "                        <th id=\"T_0278caf2_458f_11ec_a7e4_0242ac1c0002level0_row4\" class=\"row_heading level0 row4\" >GaussianNB</th>\n",
              "                        <td id=\"T_0278caf2_458f_11ec_a7e4_0242ac1c0002row4_col0\" class=\"data row4 col0\" >0.813945</td>\n",
              "                        <td id=\"T_0278caf2_458f_11ec_a7e4_0242ac1c0002row4_col1\" class=\"data row4 col1\" >0.373945</td>\n",
              "                        <td id=\"T_0278caf2_458f_11ec_a7e4_0242ac1c0002row4_col2\" class=\"data row4 col2\" >0.084379</td>\n",
              "                        <td id=\"T_0278caf2_458f_11ec_a7e4_0242ac1c0002row4_col3\" class=\"data row4 col3\" >0.182338</td>\n",
              "                        <td id=\"T_0278caf2_458f_11ec_a7e4_0242ac1c0002row4_col4\" class=\"data row4 col4\" >0</td>\n",
              "                        <td id=\"T_0278caf2_458f_11ec_a7e4_0242ac1c0002row4_col5\" class=\"data row4 col5\" >0.388186</td>\n",
              "                        <td id=\"T_0278caf2_458f_11ec_a7e4_0242ac1c0002row4_col6\" class=\"data row4 col6\" >0.530285</td>\n",
              "            </tr>\n",
              "            <tr>\n",
              "                        <th id=\"T_0278caf2_458f_11ec_a7e4_0242ac1c0002level0_row5\" class=\"row_heading level0 row5\" >RandomForest</th>\n",
              "                        <td id=\"T_0278caf2_458f_11ec_a7e4_0242ac1c0002row5_col0\" class=\"data row5 col0\" >0.432768</td>\n",
              "                        <td id=\"T_0278caf2_458f_11ec_a7e4_0242ac1c0002row5_col1\" class=\"data row5 col1\" >0.480177</td>\n",
              "                        <td id=\"T_0278caf2_458f_11ec_a7e4_0242ac1c0002row5_col2\" class=\"data row5 col2\" >0.028056</td>\n",
              "                        <td id=\"T_0278caf2_458f_11ec_a7e4_0242ac1c0002row5_col3\" class=\"data row5 col3\" >0.582920</td>\n",
              "                        <td id=\"T_0278caf2_458f_11ec_a7e4_0242ac1c0002row5_col4\" class=\"data row5 col4\" >0.388186</td>\n",
              "                        <td id=\"T_0278caf2_458f_11ec_a7e4_0242ac1c0002row5_col5\" class=\"data row5 col5\" >0</td>\n",
              "                        <td id=\"T_0278caf2_458f_11ec_a7e4_0242ac1c0002row5_col6\" class=\"data row5 col6\" >0.272095</td>\n",
              "            </tr>\n",
              "            <tr>\n",
              "                        <th id=\"T_0278caf2_458f_11ec_a7e4_0242ac1c0002level0_row6\" class=\"row_heading level0 row6\" >AdaBoost</th>\n",
              "                        <td id=\"T_0278caf2_458f_11ec_a7e4_0242ac1c0002row6_col0\" class=\"data row6 col0\" >0.432768</td>\n",
              "                        <td id=\"T_0278caf2_458f_11ec_a7e4_0242ac1c0002row6_col1\" class=\"data row6 col1\" >0.182338</td>\n",
              "                        <td id=\"T_0278caf2_458f_11ec_a7e4_0242ac1c0002row6_col2\" class=\"data row6 col2\" >0.049860</td>\n",
              "                        <td id=\"T_0278caf2_458f_11ec_a7e4_0242ac1c0002row6_col3\" class=\"data row6 col3\" >0.099481</td>\n",
              "                        <td id=\"T_0278caf2_458f_11ec_a7e4_0242ac1c0002row6_col4\" class=\"data row6 col4\" >0.530285</td>\n",
              "                        <td id=\"T_0278caf2_458f_11ec_a7e4_0242ac1c0002row6_col5\" class=\"data row6 col5\" >0.272095</td>\n",
              "                        <td id=\"T_0278caf2_458f_11ec_a7e4_0242ac1c0002row6_col6\" class=\"data row6 col6\" >0</td>\n",
              "            </tr>\n",
              "    </tbody></table>"
            ],
            "text/plain": [
              "<pandas.io.formats.style.Styler at 0x7f7ced8d9090>"
            ]
          },
          "metadata": {},
          "execution_count": 20
        }
      ]
    },
    {
      "cell_type": "code",
      "metadata": {
        "id": "-8KAMM7jm8z0",
        "colab": {
          "base_uri": "https://localhost:8080/",
          "height": 300
        },
        "outputId": "ec868158-b62d-480f-905c-79527b281d47"
      },
      "source": [
        "df_list[6].style.applymap(lambda x: \"background-color: #00C957\" if 0 < x < 0.05 else \"background-color: None\")"
      ],
      "execution_count": null,
      "outputs": [
        {
          "output_type": "execute_result",
          "data": {
            "text/html": [
              "<style  type=\"text/css\" >\n",
              "#T_e834264a_4963_11ec_8f1a_0242ac1c0002row0_col0,#T_e834264a_4963_11ec_8f1a_0242ac1c0002row0_col1,#T_e834264a_4963_11ec_8f1a_0242ac1c0002row0_col4,#T_e834264a_4963_11ec_8f1a_0242ac1c0002row1_col0,#T_e834264a_4963_11ec_8f1a_0242ac1c0002row1_col1,#T_e834264a_4963_11ec_8f1a_0242ac1c0002row1_col3,#T_e834264a_4963_11ec_8f1a_0242ac1c0002row1_col4,#T_e834264a_4963_11ec_8f1a_0242ac1c0002row2_col2,#T_e834264a_4963_11ec_8f1a_0242ac1c0002row2_col5,#T_e834264a_4963_11ec_8f1a_0242ac1c0002row2_col6,#T_e834264a_4963_11ec_8f1a_0242ac1c0002row3_col1,#T_e834264a_4963_11ec_8f1a_0242ac1c0002row3_col3,#T_e834264a_4963_11ec_8f1a_0242ac1c0002row3_col4,#T_e834264a_4963_11ec_8f1a_0242ac1c0002row4_col0,#T_e834264a_4963_11ec_8f1a_0242ac1c0002row4_col1,#T_e834264a_4963_11ec_8f1a_0242ac1c0002row4_col3,#T_e834264a_4963_11ec_8f1a_0242ac1c0002row4_col4,#T_e834264a_4963_11ec_8f1a_0242ac1c0002row5_col2,#T_e834264a_4963_11ec_8f1a_0242ac1c0002row5_col5,#T_e834264a_4963_11ec_8f1a_0242ac1c0002row6_col2,#T_e834264a_4963_11ec_8f1a_0242ac1c0002row6_col6{\n",
              "            background-color:  None;\n",
              "        }#T_e834264a_4963_11ec_8f1a_0242ac1c0002row0_col2,#T_e834264a_4963_11ec_8f1a_0242ac1c0002row0_col3,#T_e834264a_4963_11ec_8f1a_0242ac1c0002row0_col5,#T_e834264a_4963_11ec_8f1a_0242ac1c0002row0_col6,#T_e834264a_4963_11ec_8f1a_0242ac1c0002row1_col2,#T_e834264a_4963_11ec_8f1a_0242ac1c0002row1_col5,#T_e834264a_4963_11ec_8f1a_0242ac1c0002row1_col6,#T_e834264a_4963_11ec_8f1a_0242ac1c0002row2_col0,#T_e834264a_4963_11ec_8f1a_0242ac1c0002row2_col1,#T_e834264a_4963_11ec_8f1a_0242ac1c0002row2_col3,#T_e834264a_4963_11ec_8f1a_0242ac1c0002row2_col4,#T_e834264a_4963_11ec_8f1a_0242ac1c0002row3_col0,#T_e834264a_4963_11ec_8f1a_0242ac1c0002row3_col2,#T_e834264a_4963_11ec_8f1a_0242ac1c0002row3_col5,#T_e834264a_4963_11ec_8f1a_0242ac1c0002row3_col6,#T_e834264a_4963_11ec_8f1a_0242ac1c0002row4_col2,#T_e834264a_4963_11ec_8f1a_0242ac1c0002row4_col5,#T_e834264a_4963_11ec_8f1a_0242ac1c0002row4_col6,#T_e834264a_4963_11ec_8f1a_0242ac1c0002row5_col0,#T_e834264a_4963_11ec_8f1a_0242ac1c0002row5_col1,#T_e834264a_4963_11ec_8f1a_0242ac1c0002row5_col3,#T_e834264a_4963_11ec_8f1a_0242ac1c0002row5_col4,#T_e834264a_4963_11ec_8f1a_0242ac1c0002row5_col6,#T_e834264a_4963_11ec_8f1a_0242ac1c0002row6_col0,#T_e834264a_4963_11ec_8f1a_0242ac1c0002row6_col1,#T_e834264a_4963_11ec_8f1a_0242ac1c0002row6_col3,#T_e834264a_4963_11ec_8f1a_0242ac1c0002row6_col4,#T_e834264a_4963_11ec_8f1a_0242ac1c0002row6_col5{\n",
              "            background-color:  #00C957;\n",
              "        }</style><table id=\"T_e834264a_4963_11ec_8f1a_0242ac1c0002\" class=\"dataframe\"><thead>    <tr>        <th class=\"blank level0\" ></th>        <th class=\"col_heading level0 col0\" >LDA</th>        <th class=\"col_heading level0 col1\" >SVC</th>        <th class=\"col_heading level0 col2\" >MLP</th>        <th class=\"col_heading level0 col3\" >KNN</th>        <th class=\"col_heading level0 col4\" >GaussianNB</th>        <th class=\"col_heading level0 col5\" >RandomForest</th>        <th class=\"col_heading level0 col6\" >AdaBoost</th>    </tr>    <tr>        <th class=\"index_name level0\" >Fit time</th>        <th class=\"blank\" ></th>        <th class=\"blank\" ></th>        <th class=\"blank\" ></th>        <th class=\"blank\" ></th>        <th class=\"blank\" ></th>        <th class=\"blank\" ></th>        <th class=\"blank\" ></th>    </tr></thead><tbody>\n",
              "                <tr>\n",
              "                        <th id=\"T_e834264a_4963_11ec_8f1a_0242ac1c0002level0_row0\" class=\"row_heading level0 row0\" >LDA</th>\n",
              "                        <td id=\"T_e834264a_4963_11ec_8f1a_0242ac1c0002row0_col0\" class=\"data row0 col0\" >0</td>\n",
              "                        <td id=\"T_e834264a_4963_11ec_8f1a_0242ac1c0002row0_col1\" class=\"data row0 col1\" >0.388186</td>\n",
              "                        <td id=\"T_e834264a_4963_11ec_8f1a_0242ac1c0002row0_col2\" class=\"data row0 col2\" >0.004742</td>\n",
              "                        <td id=\"T_e834264a_4963_11ec_8f1a_0242ac1c0002row0_col3\" class=\"data row0 col3\" >0.022909</td>\n",
              "                        <td id=\"T_e834264a_4963_11ec_8f1a_0242ac1c0002row0_col4\" class=\"data row0 col4\" >0.530285</td>\n",
              "                        <td id=\"T_e834264a_4963_11ec_8f1a_0242ac1c0002row0_col5\" class=\"data row0 col5\" >0.002218</td>\n",
              "                        <td id=\"T_e834264a_4963_11ec_8f1a_0242ac1c0002row0_col6\" class=\"data row0 col6\" >0.002218</td>\n",
              "            </tr>\n",
              "            <tr>\n",
              "                        <th id=\"T_e834264a_4963_11ec_8f1a_0242ac1c0002level0_row1\" class=\"row_heading level0 row1\" >SVC</th>\n",
              "                        <td id=\"T_e834264a_4963_11ec_8f1a_0242ac1c0002row1_col0\" class=\"data row1 col0\" >0.388186</td>\n",
              "                        <td id=\"T_e834264a_4963_11ec_8f1a_0242ac1c0002row1_col1\" class=\"data row1 col1\" >0</td>\n",
              "                        <td id=\"T_e834264a_4963_11ec_8f1a_0242ac1c0002row1_col2\" class=\"data row1 col2\" >0.002218</td>\n",
              "                        <td id=\"T_e834264a_4963_11ec_8f1a_0242ac1c0002row1_col3\" class=\"data row1 col3\" >0.071189</td>\n",
              "                        <td id=\"T_e834264a_4963_11ec_8f1a_0242ac1c0002row1_col4\" class=\"data row1 col4\" >0.753684</td>\n",
              "                        <td id=\"T_e834264a_4963_11ec_8f1a_0242ac1c0002row1_col5\" class=\"data row1 col5\" >0.002218</td>\n",
              "                        <td id=\"T_e834264a_4963_11ec_8f1a_0242ac1c0002row1_col6\" class=\"data row1 col6\" >0.002218</td>\n",
              "            </tr>\n",
              "            <tr>\n",
              "                        <th id=\"T_e834264a_4963_11ec_8f1a_0242ac1c0002level0_row2\" class=\"row_heading level0 row2\" >MLP</th>\n",
              "                        <td id=\"T_e834264a_4963_11ec_8f1a_0242ac1c0002row2_col0\" class=\"data row2 col0\" >0.004742</td>\n",
              "                        <td id=\"T_e834264a_4963_11ec_8f1a_0242ac1c0002row2_col1\" class=\"data row2 col1\" >0.002218</td>\n",
              "                        <td id=\"T_e834264a_4963_11ec_8f1a_0242ac1c0002row2_col2\" class=\"data row2 col2\" >0</td>\n",
              "                        <td id=\"T_e834264a_4963_11ec_8f1a_0242ac1c0002row2_col3\" class=\"data row2 col3\" >0.002218</td>\n",
              "                        <td id=\"T_e834264a_4963_11ec_8f1a_0242ac1c0002row2_col4\" class=\"data row2 col4\" >0.002218</td>\n",
              "                        <td id=\"T_e834264a_4963_11ec_8f1a_0242ac1c0002row2_col5\" class=\"data row2 col5\" >0.071189</td>\n",
              "                        <td id=\"T_e834264a_4963_11ec_8f1a_0242ac1c0002row2_col6\" class=\"data row2 col6\" >0.937473</td>\n",
              "            </tr>\n",
              "            <tr>\n",
              "                        <th id=\"T_e834264a_4963_11ec_8f1a_0242ac1c0002level0_row3\" class=\"row_heading level0 row3\" >KNN</th>\n",
              "                        <td id=\"T_e834264a_4963_11ec_8f1a_0242ac1c0002row3_col0\" class=\"data row3 col0\" >0.022909</td>\n",
              "                        <td id=\"T_e834264a_4963_11ec_8f1a_0242ac1c0002row3_col1\" class=\"data row3 col1\" >0.071189</td>\n",
              "                        <td id=\"T_e834264a_4963_11ec_8f1a_0242ac1c0002row3_col2\" class=\"data row3 col2\" >0.002218</td>\n",
              "                        <td id=\"T_e834264a_4963_11ec_8f1a_0242ac1c0002row3_col3\" class=\"data row3 col3\" >0</td>\n",
              "                        <td id=\"T_e834264a_4963_11ec_8f1a_0242ac1c0002row3_col4\" class=\"data row3 col4\" >0.071189</td>\n",
              "                        <td id=\"T_e834264a_4963_11ec_8f1a_0242ac1c0002row3_col5\" class=\"data row3 col5\" >0.002218</td>\n",
              "                        <td id=\"T_e834264a_4963_11ec_8f1a_0242ac1c0002row3_col6\" class=\"data row3 col6\" >0.002218</td>\n",
              "            </tr>\n",
              "            <tr>\n",
              "                        <th id=\"T_e834264a_4963_11ec_8f1a_0242ac1c0002level0_row4\" class=\"row_heading level0 row4\" >GaussianNB</th>\n",
              "                        <td id=\"T_e834264a_4963_11ec_8f1a_0242ac1c0002row4_col0\" class=\"data row4 col0\" >0.530285</td>\n",
              "                        <td id=\"T_e834264a_4963_11ec_8f1a_0242ac1c0002row4_col1\" class=\"data row4 col1\" >0.753684</td>\n",
              "                        <td id=\"T_e834264a_4963_11ec_8f1a_0242ac1c0002row4_col2\" class=\"data row4 col2\" >0.002218</td>\n",
              "                        <td id=\"T_e834264a_4963_11ec_8f1a_0242ac1c0002row4_col3\" class=\"data row4 col3\" >0.071189</td>\n",
              "                        <td id=\"T_e834264a_4963_11ec_8f1a_0242ac1c0002row4_col4\" class=\"data row4 col4\" >0</td>\n",
              "                        <td id=\"T_e834264a_4963_11ec_8f1a_0242ac1c0002row4_col5\" class=\"data row4 col5\" >0.002218</td>\n",
              "                        <td id=\"T_e834264a_4963_11ec_8f1a_0242ac1c0002row4_col6\" class=\"data row4 col6\" >0.002218</td>\n",
              "            </tr>\n",
              "            <tr>\n",
              "                        <th id=\"T_e834264a_4963_11ec_8f1a_0242ac1c0002level0_row5\" class=\"row_heading level0 row5\" >RandomForest</th>\n",
              "                        <td id=\"T_e834264a_4963_11ec_8f1a_0242ac1c0002row5_col0\" class=\"data row5 col0\" >0.002218</td>\n",
              "                        <td id=\"T_e834264a_4963_11ec_8f1a_0242ac1c0002row5_col1\" class=\"data row5 col1\" >0.002218</td>\n",
              "                        <td id=\"T_e834264a_4963_11ec_8f1a_0242ac1c0002row5_col2\" class=\"data row5 col2\" >0.071189</td>\n",
              "                        <td id=\"T_e834264a_4963_11ec_8f1a_0242ac1c0002row5_col3\" class=\"data row5 col3\" >0.002218</td>\n",
              "                        <td id=\"T_e834264a_4963_11ec_8f1a_0242ac1c0002row5_col4\" class=\"data row5 col4\" >0.002218</td>\n",
              "                        <td id=\"T_e834264a_4963_11ec_8f1a_0242ac1c0002row5_col5\" class=\"data row5 col5\" >0</td>\n",
              "                        <td id=\"T_e834264a_4963_11ec_8f1a_0242ac1c0002row5_col6\" class=\"data row5 col6\" >0.028056</td>\n",
              "            </tr>\n",
              "            <tr>\n",
              "                        <th id=\"T_e834264a_4963_11ec_8f1a_0242ac1c0002level0_row6\" class=\"row_heading level0 row6\" >AdaBoost</th>\n",
              "                        <td id=\"T_e834264a_4963_11ec_8f1a_0242ac1c0002row6_col0\" class=\"data row6 col0\" >0.002218</td>\n",
              "                        <td id=\"T_e834264a_4963_11ec_8f1a_0242ac1c0002row6_col1\" class=\"data row6 col1\" >0.002218</td>\n",
              "                        <td id=\"T_e834264a_4963_11ec_8f1a_0242ac1c0002row6_col2\" class=\"data row6 col2\" >0.937473</td>\n",
              "                        <td id=\"T_e834264a_4963_11ec_8f1a_0242ac1c0002row6_col3\" class=\"data row6 col3\" >0.002218</td>\n",
              "                        <td id=\"T_e834264a_4963_11ec_8f1a_0242ac1c0002row6_col4\" class=\"data row6 col4\" >0.002218</td>\n",
              "                        <td id=\"T_e834264a_4963_11ec_8f1a_0242ac1c0002row6_col5\" class=\"data row6 col5\" >0.028056</td>\n",
              "                        <td id=\"T_e834264a_4963_11ec_8f1a_0242ac1c0002row6_col6\" class=\"data row6 col6\" >0</td>\n",
              "            </tr>\n",
              "    </tbody></table>"
            ],
            "text/plain": [
              "<pandas.io.formats.style.Styler at 0x7f90ecc33e90>"
            ]
          },
          "metadata": {},
          "execution_count": 7
        }
      ]
    },
    {
      "cell_type": "markdown",
      "metadata": {
        "id": "G48_RBdKMeve"
      },
      "source": [
        "Check if the left- and right-hand MI precision and recall distributions are different:"
      ]
    },
    {
      "cell_type": "code",
      "metadata": {
        "colab": {
          "base_uri": "https://localhost:8080/",
          "height": 295
        },
        "id": "o9cHwhZOMZiO",
        "outputId": "b92c708f-d855-4689-aa81-50a0b13644c4"
      },
      "source": [
        "score_metric_list = ['Left-hand precision', 'Right-hand precision', \n",
        "                     'Left-hand recall'   , 'Right-hand recall']\n",
        "classifier_list = ['LDA', \n",
        "                   'SVC', \n",
        "                   'MLP', \n",
        "                   'KNN', \n",
        "                   'GaussianNB', \n",
        "                   'RandomForest', \n",
        "                   'AdaBoost']\n",
        "\n",
        "# p-value matrices for each score metric\n",
        "pval_matrix = np.zeros(shape = (len(classifier_list), 2))\n",
        "\n",
        "for score_metric_idx in range(2): # Precision and recall\n",
        "  for clf in classifier_list:\n",
        "    # For easier manipulation\n",
        "    r = np.array(results[clf], dtype = 'object')\n",
        "    \n",
        "    clf_idx = classifier_list.index(clf)\n",
        "    \n",
        "    score_distribution1 = r[:, (score_metric_idx + 1) * 2]     # Left-hand  MI precision or recall\n",
        "    score_distribution2 = r[:, (score_metric_idx + 1) * 2 + 1] # Right-hand MI precision or recall\n",
        "    \n",
        "    _, pval_matrix[clf_idx, score_metric_idx] = wilcoxon(score_distribution1, score_distribution2)\n",
        "            \n",
        "# Convert to Pandas dataframes\n",
        "df_pvals = pd.DataFrame(pval_matrix, \n",
        "                        columns = ['Precision', 'Recall'],\n",
        "                        index   = classifier_list)\n",
        "df_pvals.index.name = 'Classifier'\n",
        "df_pvals.style.applymap(lambda x: \"background-color: #00C957\" if x < 0.05 else \"background-color: white\")"
      ],
      "execution_count": null,
      "outputs": [
        {
          "output_type": "execute_result",
          "data": {
            "text/html": [
              "<style  type=\"text/css\" >\n",
              "#T_03a941c2_458f_11ec_a7e4_0242ac1c0002row0_col0,#T_03a941c2_458f_11ec_a7e4_0242ac1c0002row2_col0,#T_03a941c2_458f_11ec_a7e4_0242ac1c0002row3_col0,#T_03a941c2_458f_11ec_a7e4_0242ac1c0002row4_col0,#T_03a941c2_458f_11ec_a7e4_0242ac1c0002row5_col0,#T_03a941c2_458f_11ec_a7e4_0242ac1c0002row6_col0{\n",
              "            background-color:  #00C957;\n",
              "        }#T_03a941c2_458f_11ec_a7e4_0242ac1c0002row0_col1,#T_03a941c2_458f_11ec_a7e4_0242ac1c0002row1_col0,#T_03a941c2_458f_11ec_a7e4_0242ac1c0002row1_col1,#T_03a941c2_458f_11ec_a7e4_0242ac1c0002row2_col1,#T_03a941c2_458f_11ec_a7e4_0242ac1c0002row3_col1,#T_03a941c2_458f_11ec_a7e4_0242ac1c0002row4_col1,#T_03a941c2_458f_11ec_a7e4_0242ac1c0002row5_col1,#T_03a941c2_458f_11ec_a7e4_0242ac1c0002row6_col1{\n",
              "            background-color:  white;\n",
              "        }</style><table id=\"T_03a941c2_458f_11ec_a7e4_0242ac1c0002\" class=\"dataframe\"><thead>    <tr>        <th class=\"blank level0\" ></th>        <th class=\"col_heading level0 col0\" >Precision</th>        <th class=\"col_heading level0 col1\" >Recall</th>    </tr>    <tr>        <th class=\"index_name level0\" >Classifier</th>        <th class=\"blank\" ></th>        <th class=\"blank\" ></th>    </tr></thead><tbody>\n",
              "                <tr>\n",
              "                        <th id=\"T_03a941c2_458f_11ec_a7e4_0242ac1c0002level0_row0\" class=\"row_heading level0 row0\" >LDA</th>\n",
              "                        <td id=\"T_03a941c2_458f_11ec_a7e4_0242ac1c0002row0_col0\" class=\"data row0 col0\" >0.002873</td>\n",
              "                        <td id=\"T_03a941c2_458f_11ec_a7e4_0242ac1c0002row0_col1\" class=\"data row0 col1\" >0.813945</td>\n",
              "            </tr>\n",
              "            <tr>\n",
              "                        <th id=\"T_03a941c2_458f_11ec_a7e4_0242ac1c0002level0_row1\" class=\"row_heading level0 row1\" >SVC</th>\n",
              "                        <td id=\"T_03a941c2_458f_11ec_a7e4_0242ac1c0002row1_col0\" class=\"data row1 col0\" >0.059739</td>\n",
              "                        <td id=\"T_03a941c2_458f_11ec_a7e4_0242ac1c0002row1_col1\" class=\"data row1 col1\" >0.099481</td>\n",
              "            </tr>\n",
              "            <tr>\n",
              "                        <th id=\"T_03a941c2_458f_11ec_a7e4_0242ac1c0002level0_row2\" class=\"row_heading level0 row2\" >MLP</th>\n",
              "                        <td id=\"T_03a941c2_458f_11ec_a7e4_0242ac1c0002row2_col0\" class=\"data row2 col0\" >0.012063</td>\n",
              "                        <td id=\"T_03a941c2_458f_11ec_a7e4_0242ac1c0002row2_col1\" class=\"data row2 col1\" >0.136097</td>\n",
              "            </tr>\n",
              "            <tr>\n",
              "                        <th id=\"T_03a941c2_458f_11ec_a7e4_0242ac1c0002level0_row3\" class=\"row_heading level0 row3\" >KNN</th>\n",
              "                        <td id=\"T_03a941c2_458f_11ec_a7e4_0242ac1c0002row3_col0\" class=\"data row3 col0\" >0.002218</td>\n",
              "                        <td id=\"T_03a941c2_458f_11ec_a7e4_0242ac1c0002row3_col1\" class=\"data row3 col1\" >0.116664</td>\n",
              "            </tr>\n",
              "            <tr>\n",
              "                        <th id=\"T_03a941c2_458f_11ec_a7e4_0242ac1c0002level0_row4\" class=\"row_heading level0 row4\" >GaussianNB</th>\n",
              "                        <td id=\"T_03a941c2_458f_11ec_a7e4_0242ac1c0002row4_col0\" class=\"data row4 col0\" >0.004742</td>\n",
              "                        <td id=\"T_03a941c2_458f_11ec_a7e4_0242ac1c0002row4_col1\" class=\"data row4 col1\" >0.694887</td>\n",
              "            </tr>\n",
              "            <tr>\n",
              "                        <th id=\"T_03a941c2_458f_11ec_a7e4_0242ac1c0002level0_row5\" class=\"row_heading level0 row5\" >RandomForest</th>\n",
              "                        <td id=\"T_03a941c2_458f_11ec_a7e4_0242ac1c0002row5_col0\" class=\"data row5 col0\" >0.002873</td>\n",
              "                        <td id=\"T_03a941c2_458f_11ec_a7e4_0242ac1c0002row5_col1\" class=\"data row5 col1\" >0.307821</td>\n",
              "            </tr>\n",
              "            <tr>\n",
              "                        <th id=\"T_03a941c2_458f_11ec_a7e4_0242ac1c0002level0_row6\" class=\"row_heading level0 row6\" >AdaBoost</th>\n",
              "                        <td id=\"T_03a941c2_458f_11ec_a7e4_0242ac1c0002row6_col0\" class=\"data row6 col0\" >0.003702</td>\n",
              "                        <td id=\"T_03a941c2_458f_11ec_a7e4_0242ac1c0002row6_col1\" class=\"data row6 col1\" >0.432768</td>\n",
              "            </tr>\n",
              "    </tbody></table>"
            ],
            "text/plain": [
              "<pandas.io.formats.style.Styler at 0x7f7ced9c5e90>"
            ]
          },
          "metadata": {},
          "execution_count": 21
        }
      ]
    },
    {
      "cell_type": "markdown",
      "metadata": {
        "id": "zd3OUIGvmuD5"
      },
      "source": [
        "### Kruskal–Wallis tests"
      ]
    },
    {
      "cell_type": "markdown",
      "metadata": {
        "id": "V_HyXQITqXe_"
      },
      "source": [
        "Tests the null hypothesis that the population median of all of the classifier scores are equal."
      ]
    },
    {
      "cell_type": "code",
      "metadata": {
        "colab": {
          "base_uri": "https://localhost:8080/",
          "height": 173
        },
        "id": "kUVb9VRHmtxf",
        "outputId": "746d54f1-176a-4ffc-bd6a-945b66e62c98"
      },
      "source": [
        "pval_matrix = np.zeros(shape = (len(score_metric_list), 1))\n",
        "\n",
        "for score_metric_idx in range(len(score_metric_list)):\n",
        "    score_distributions = np.zeros(shape = (12, len(classifier_list)))\n",
        "    for clf in classifier_list:\n",
        "        clf_idx = classifier_list.index(clf)\n",
        "        \n",
        "        # For easier manipulation\n",
        "        r = np.array(results[clf], dtype = 'object')        \n",
        "        score_distributions[:, clf_idx] = r[:, score_metric_idx]\n",
        "    \n",
        "    _, pval_matrix[score_metric_idx, 0] = kruskal(score_distributions[:, 0], \n",
        "                                                  score_distributions[:, 1], \n",
        "                                                  score_distributions[:, 2], \n",
        "                                                  score_distributions[:, 3], \n",
        "                                                  score_distributions[:, 4], \n",
        "                                                  score_distributions[:, 5], \n",
        "                                                  score_distributions[:, 6])\n",
        "\n",
        "# Convert to Pandas dataframes\n",
        "pd.set_option('display.float_format', '{:.2E}'.format) # To display small values\n",
        "\n",
        "df_pvals = pd.DataFrame(pval_matrix, columns = ['p-value'], index = score_metric_list)\n",
        "df_pvals.index.name = 'Score metric'\n",
        "df_pvals"
      ],
      "execution_count": null,
      "outputs": [
        {
          "output_type": "execute_result",
          "data": {
            "application/vnd.google.colaboratory.module+javascript": "\n      import \"https://ssl.gstatic.com/colaboratory/data_table/a6224c040fa35dcf/data_table.js\";\n\n      window.createDataTable({\n        data: [[\"Left-hand precision\",\n{\n            'v': 0.697702756232367,\n            'f': \"0.697702756232367\",\n        }],\n [\"Right-hand precision\",\n{\n            'v': 0.9509528561232102,\n            'f': \"0.9509528561232102\",\n        }],\n [\"Left-hand recall\",\n{\n            'v': 0.9939691271366519,\n            'f': \"0.9939691271366519\",\n        }],\n [\"Right-hand recall\",\n{\n            'v': 0.976926198663174,\n            'f': \"0.976926198663174\",\n        }]],\n        columns: [[\"string\", \"Score metric\"], [\"number\", \"p-value\"]],\n        columnOptions: [{\"width\": \"1px\", \"className\": \"index_column\"}],\n        rowsPerPage: 25,\n        helpUrl: \"https://colab.research.google.com/notebooks/data_table.ipynb\",\n        suppressOutputScrolling: true,\n        minimumWidth: undefined,\n      });\n    ",
            "text/html": [
              "<div>\n",
              "<style scoped>\n",
              "    .dataframe tbody tr th:only-of-type {\n",
              "        vertical-align: middle;\n",
              "    }\n",
              "\n",
              "    .dataframe tbody tr th {\n",
              "        vertical-align: top;\n",
              "    }\n",
              "\n",
              "    .dataframe thead th {\n",
              "        text-align: right;\n",
              "    }\n",
              "</style>\n",
              "<table border=\"1\" class=\"dataframe\">\n",
              "  <thead>\n",
              "    <tr style=\"text-align: right;\">\n",
              "      <th></th>\n",
              "      <th>p-value</th>\n",
              "    </tr>\n",
              "    <tr>\n",
              "      <th>Score metric</th>\n",
              "      <th></th>\n",
              "    </tr>\n",
              "  </thead>\n",
              "  <tbody>\n",
              "    <tr>\n",
              "      <th>Left-hand precision</th>\n",
              "      <td>6.98E-01</td>\n",
              "    </tr>\n",
              "    <tr>\n",
              "      <th>Right-hand precision</th>\n",
              "      <td>9.51E-01</td>\n",
              "    </tr>\n",
              "    <tr>\n",
              "      <th>Left-hand recall</th>\n",
              "      <td>9.94E-01</td>\n",
              "    </tr>\n",
              "    <tr>\n",
              "      <th>Right-hand recall</th>\n",
              "      <td>9.77E-01</td>\n",
              "    </tr>\n",
              "  </tbody>\n",
              "</table>\n",
              "</div>"
            ],
            "text/plain": [
              "                      p-value\n",
              "Score metric                 \n",
              "Left-hand precision  6.98E-01\n",
              "Right-hand precision 9.51E-01\n",
              "Left-hand recall     9.94E-01\n",
              "Right-hand recall    9.77E-01"
            ]
          },
          "metadata": {},
          "execution_count": 22
        }
      ]
    },
    {
      "cell_type": "markdown",
      "metadata": {
        "id": "ViFhklkTdETD"
      },
      "source": [
        "### Hyperparameters for the best accuracies"
      ]
    },
    {
      "cell_type": "code",
      "metadata": {
        "id": "Lo65AxTydDmN"
      },
      "source": [
        "clfs_params = list() # Keeps all the dataframes pertaining to each classifier and their best hyperparameter configuration per subject\n",
        "for clf in classifier_list:\n",
        "    p_total = set() # Keeps the total number of parameters given the different possible combinations\n",
        "    for i in range(len(params[clf])):\n",
        "        p = set(params[clf][i].keys()) # Particular combination of parameters for the same classifier\n",
        "        p_total.update(p)  \n",
        "            \n",
        "    subjects_clf_params = pd.DataFrame() # Best hyperparameter values for each subject\n",
        "    for subject in range(12):\n",
        "        subject_params = results[clf][subject][-1] # Includes all hyperparameters from all classifiers\n",
        "        subjects_clf_params = pd.concat([subjects_clf_params, subject_params[p_total]], ignore_index = True) # Includes hyperparameters specific to the classifier in hand\n",
        "        subjects_clf_params.index.name = 'Subject'\n",
        "    clfs_params.append(subjects_clf_params)"
      ],
      "execution_count": null,
      "outputs": []
    },
    {
      "cell_type": "markdown",
      "metadata": {
        "id": "GCjlwXAteAe_"
      },
      "source": [
        "LDA:"
      ]
    },
    {
      "cell_type": "code",
      "metadata": {
        "colab": {
          "base_uri": "https://localhost:8080/",
          "height": 341
        },
        "id": "iQWWDE8Ud4tE",
        "outputId": "07ad01ed-81df-4e56-b3cf-9b610b88591a"
      },
      "source": [
        "clfs_params[0]"
      ],
      "execution_count": null,
      "outputs": [
        {
          "output_type": "execute_result",
          "data": {
            "application/vnd.google.colaboratory.module+javascript": "\n      import \"https://ssl.gstatic.com/colaboratory/data_table/a6224c040fa35dcf/data_table.js\";\n\n      window.createDataTable({\n        data: [[{\n            'v': 0,\n            'f': \"0\",\n        },\nNaN,\n\"svd\"],\n [{\n            'v': 1,\n            'f': \"1\",\n        },\n0.2,\n\"lsqr\"],\n [{\n            'v': 2,\n            'f': \"2\",\n        },\n\"auto\",\n\"lsqr\"],\n [{\n            'v': 3,\n            'f': \"3\",\n        },\nNaN,\n\"svd\"],\n [{\n            'v': 4,\n            'f': \"4\",\n        },\n0.5,\n\"lsqr\"],\n [{\n            'v': 5,\n            'f': \"5\",\n        },\n0.5,\n\"lsqr\"],\n [{\n            'v': 6,\n            'f': \"6\",\n        },\n0.2,\n\"eigen\"],\n [{\n            'v': 7,\n            'f': \"7\",\n        },\nNaN,\n\"svd\"],\n [{\n            'v': 8,\n            'f': \"8\",\n        },\n0.5,\n\"lsqr\"],\n [{\n            'v': 9,\n            'f': \"9\",\n        },\nNaN,\n\"svd\"],\n [{\n            'v': 10,\n            'f': \"10\",\n        },\n\"auto\",\n\"lsqr\"],\n [{\n            'v': 11,\n            'f': \"11\",\n        },\n0.5,\n\"lsqr\"]],\n        columns: [[\"number\", \"Subject\"], [\"string\", \"clf__shrinkage\"], [\"string\", \"clf__solver\"]],\n        columnOptions: [{\"width\": \"1px\", \"className\": \"index_column\"}],\n        rowsPerPage: 25,\n        helpUrl: \"https://colab.research.google.com/notebooks/data_table.ipynb\",\n        suppressOutputScrolling: true,\n        minimumWidth: undefined,\n      });\n    ",
            "text/html": [
              "<div>\n",
              "<style scoped>\n",
              "    .dataframe tbody tr th:only-of-type {\n",
              "        vertical-align: middle;\n",
              "    }\n",
              "\n",
              "    .dataframe tbody tr th {\n",
              "        vertical-align: top;\n",
              "    }\n",
              "\n",
              "    .dataframe thead th {\n",
              "        text-align: right;\n",
              "    }\n",
              "</style>\n",
              "<table border=\"1\" class=\"dataframe\">\n",
              "  <thead>\n",
              "    <tr style=\"text-align: right;\">\n",
              "      <th></th>\n",
              "      <th>clf__shrinkage</th>\n",
              "      <th>clf__solver</th>\n",
              "    </tr>\n",
              "    <tr>\n",
              "      <th>Subject</th>\n",
              "      <th></th>\n",
              "      <th></th>\n",
              "    </tr>\n",
              "  </thead>\n",
              "  <tbody>\n",
              "    <tr>\n",
              "      <th>0</th>\n",
              "      <td>NaN</td>\n",
              "      <td>svd</td>\n",
              "    </tr>\n",
              "    <tr>\n",
              "      <th>1</th>\n",
              "      <td>2.00E-01</td>\n",
              "      <td>lsqr</td>\n",
              "    </tr>\n",
              "    <tr>\n",
              "      <th>2</th>\n",
              "      <td>auto</td>\n",
              "      <td>lsqr</td>\n",
              "    </tr>\n",
              "    <tr>\n",
              "      <th>3</th>\n",
              "      <td>NaN</td>\n",
              "      <td>svd</td>\n",
              "    </tr>\n",
              "    <tr>\n",
              "      <th>4</th>\n",
              "      <td>5.00E-01</td>\n",
              "      <td>lsqr</td>\n",
              "    </tr>\n",
              "    <tr>\n",
              "      <th>5</th>\n",
              "      <td>5.00E-01</td>\n",
              "      <td>lsqr</td>\n",
              "    </tr>\n",
              "    <tr>\n",
              "      <th>6</th>\n",
              "      <td>2.00E-01</td>\n",
              "      <td>eigen</td>\n",
              "    </tr>\n",
              "    <tr>\n",
              "      <th>7</th>\n",
              "      <td>NaN</td>\n",
              "      <td>svd</td>\n",
              "    </tr>\n",
              "    <tr>\n",
              "      <th>8</th>\n",
              "      <td>5.00E-01</td>\n",
              "      <td>lsqr</td>\n",
              "    </tr>\n",
              "    <tr>\n",
              "      <th>9</th>\n",
              "      <td>NaN</td>\n",
              "      <td>svd</td>\n",
              "    </tr>\n",
              "    <tr>\n",
              "      <th>10</th>\n",
              "      <td>auto</td>\n",
              "      <td>lsqr</td>\n",
              "    </tr>\n",
              "    <tr>\n",
              "      <th>11</th>\n",
              "      <td>5.00E-01</td>\n",
              "      <td>lsqr</td>\n",
              "    </tr>\n",
              "  </tbody>\n",
              "</table>\n",
              "</div>"
            ],
            "text/plain": [
              "        clf__shrinkage clf__solver\n",
              "Subject                           \n",
              "0                  NaN         svd\n",
              "1             2.00E-01        lsqr\n",
              "2                 auto        lsqr\n",
              "3                  NaN         svd\n",
              "4             5.00E-01        lsqr\n",
              "5             5.00E-01        lsqr\n",
              "6             2.00E-01       eigen\n",
              "7                  NaN         svd\n",
              "8             5.00E-01        lsqr\n",
              "9                  NaN         svd\n",
              "10                auto        lsqr\n",
              "11            5.00E-01        lsqr"
            ]
          },
          "metadata": {},
          "execution_count": 46
        }
      ]
    },
    {
      "cell_type": "markdown",
      "metadata": {
        "id": "OsBfYX4XeDZ2"
      },
      "source": [
        "SVC:"
      ]
    },
    {
      "cell_type": "code",
      "metadata": {
        "colab": {
          "base_uri": "https://localhost:8080/",
          "height": 341
        },
        "id": "Uo64tnvgd77P",
        "outputId": "c24f4651-4864-4d4e-b53c-51d5bb3918a5"
      },
      "source": [
        "clfs_params[1]\n"
      ],
      "execution_count": null,
      "outputs": [
        {
          "output_type": "execute_result",
          "data": {
            "application/vnd.google.colaboratory.module+javascript": "\n      import \"https://ssl.gstatic.com/colaboratory/data_table/a6224c040fa35dcf/data_table.js\";\n\n      window.createDataTable({\n        data: [[{\n            'v': 0,\n            'f': \"0\",\n        },\n{\n            'v': 10,\n            'f': \"10\",\n        },\n{\n            'v': NaN,\n            'f': \"NaN\",\n        },\n\"linear\"],\n [{\n            'v': 1,\n            'f': \"1\",\n        },\n{\n            'v': 10,\n            'f': \"10\",\n        },\n{\n            'v': NaN,\n            'f': \"NaN\",\n        },\n\"linear\"],\n [{\n            'v': 2,\n            'f': \"2\",\n        },\n{\n            'v': 10,\n            'f': \"10\",\n        },\n{\n            'v': 0.001,\n            'f': \"0.001\",\n        },\n\"rbf\"],\n [{\n            'v': 3,\n            'f': \"3\",\n        },\n{\n            'v': 10,\n            'f': \"10\",\n        },\n{\n            'v': NaN,\n            'f': \"NaN\",\n        },\n\"linear\"],\n [{\n            'v': 4,\n            'f': \"4\",\n        },\n{\n            'v': 1,\n            'f': \"1\",\n        },\n{\n            'v': NaN,\n            'f': \"NaN\",\n        },\n\"linear\"],\n [{\n            'v': 5,\n            'f': \"5\",\n        },\n{\n            'v': 1,\n            'f': \"1\",\n        },\n{\n            'v': NaN,\n            'f': \"NaN\",\n        },\n\"linear\"],\n [{\n            'v': 6,\n            'f': \"6\",\n        },\n{\n            'v': 1,\n            'f': \"1\",\n        },\n{\n            'v': NaN,\n            'f': \"NaN\",\n        },\n\"linear\"],\n [{\n            'v': 7,\n            'f': \"7\",\n        },\n{\n            'v': 10,\n            'f': \"10\",\n        },\n{\n            'v': NaN,\n            'f': \"NaN\",\n        },\n\"linear\"],\n [{\n            'v': 8,\n            'f': \"8\",\n        },\n{\n            'v': 1,\n            'f': \"1\",\n        },\n{\n            'v': NaN,\n            'f': \"NaN\",\n        },\n\"linear\"],\n [{\n            'v': 9,\n            'f': \"9\",\n        },\n{\n            'v': 10,\n            'f': \"10\",\n        },\n{\n            'v': NaN,\n            'f': \"NaN\",\n        },\n\"linear\"],\n [{\n            'v': 10,\n            'f': \"10\",\n        },\n{\n            'v': 1,\n            'f': \"1\",\n        },\n{\n            'v': NaN,\n            'f': \"NaN\",\n        },\n\"linear\"],\n [{\n            'v': 11,\n            'f': \"11\",\n        },\n{\n            'v': 1,\n            'f': \"1\",\n        },\n{\n            'v': NaN,\n            'f': \"NaN\",\n        },\n\"linear\"]],\n        columns: [[\"number\", \"Subject\"], [\"number\", \"clf__C\"], [\"number\", \"clf__gamma\"], [\"string\", \"clf__kernel\"]],\n        columnOptions: [{\"width\": \"1px\", \"className\": \"index_column\"}],\n        rowsPerPage: 25,\n        helpUrl: \"https://colab.research.google.com/notebooks/data_table.ipynb\",\n        suppressOutputScrolling: true,\n        minimumWidth: undefined,\n      });\n    ",
            "text/html": [
              "<div>\n",
              "<style scoped>\n",
              "    .dataframe tbody tr th:only-of-type {\n",
              "        vertical-align: middle;\n",
              "    }\n",
              "\n",
              "    .dataframe tbody tr th {\n",
              "        vertical-align: top;\n",
              "    }\n",
              "\n",
              "    .dataframe thead th {\n",
              "        text-align: right;\n",
              "    }\n",
              "</style>\n",
              "<table border=\"1\" class=\"dataframe\">\n",
              "  <thead>\n",
              "    <tr style=\"text-align: right;\">\n",
              "      <th></th>\n",
              "      <th>clf__C</th>\n",
              "      <th>clf__gamma</th>\n",
              "      <th>clf__kernel</th>\n",
              "    </tr>\n",
              "    <tr>\n",
              "      <th>Subject</th>\n",
              "      <th></th>\n",
              "      <th></th>\n",
              "      <th></th>\n",
              "    </tr>\n",
              "  </thead>\n",
              "  <tbody>\n",
              "    <tr>\n",
              "      <th>0</th>\n",
              "      <td>10</td>\n",
              "      <td>NaN</td>\n",
              "      <td>linear</td>\n",
              "    </tr>\n",
              "    <tr>\n",
              "      <th>1</th>\n",
              "      <td>10</td>\n",
              "      <td>NaN</td>\n",
              "      <td>linear</td>\n",
              "    </tr>\n",
              "    <tr>\n",
              "      <th>2</th>\n",
              "      <td>10</td>\n",
              "      <td>1.00E-03</td>\n",
              "      <td>rbf</td>\n",
              "    </tr>\n",
              "    <tr>\n",
              "      <th>3</th>\n",
              "      <td>10</td>\n",
              "      <td>NaN</td>\n",
              "      <td>linear</td>\n",
              "    </tr>\n",
              "    <tr>\n",
              "      <th>4</th>\n",
              "      <td>1</td>\n",
              "      <td>NaN</td>\n",
              "      <td>linear</td>\n",
              "    </tr>\n",
              "    <tr>\n",
              "      <th>5</th>\n",
              "      <td>1</td>\n",
              "      <td>NaN</td>\n",
              "      <td>linear</td>\n",
              "    </tr>\n",
              "    <tr>\n",
              "      <th>6</th>\n",
              "      <td>1</td>\n",
              "      <td>NaN</td>\n",
              "      <td>linear</td>\n",
              "    </tr>\n",
              "    <tr>\n",
              "      <th>7</th>\n",
              "      <td>10</td>\n",
              "      <td>NaN</td>\n",
              "      <td>linear</td>\n",
              "    </tr>\n",
              "    <tr>\n",
              "      <th>8</th>\n",
              "      <td>1</td>\n",
              "      <td>NaN</td>\n",
              "      <td>linear</td>\n",
              "    </tr>\n",
              "    <tr>\n",
              "      <th>9</th>\n",
              "      <td>10</td>\n",
              "      <td>NaN</td>\n",
              "      <td>linear</td>\n",
              "    </tr>\n",
              "    <tr>\n",
              "      <th>10</th>\n",
              "      <td>1</td>\n",
              "      <td>NaN</td>\n",
              "      <td>linear</td>\n",
              "    </tr>\n",
              "    <tr>\n",
              "      <th>11</th>\n",
              "      <td>1</td>\n",
              "      <td>NaN</td>\n",
              "      <td>linear</td>\n",
              "    </tr>\n",
              "  </tbody>\n",
              "</table>\n",
              "</div>"
            ],
            "text/plain": [
              "        clf__C clf__gamma clf__kernel\n",
              "Subject                              \n",
              "0           10        NaN      linear\n",
              "1           10        NaN      linear\n",
              "2           10   1.00E-03         rbf\n",
              "3           10        NaN      linear\n",
              "4            1        NaN      linear\n",
              "5            1        NaN      linear\n",
              "6            1        NaN      linear\n",
              "7           10        NaN      linear\n",
              "8            1        NaN      linear\n",
              "9           10        NaN      linear\n",
              "10           1        NaN      linear\n",
              "11           1        NaN      linear"
            ]
          },
          "metadata": {},
          "execution_count": 45
        }
      ]
    },
    {
      "cell_type": "markdown",
      "metadata": {
        "id": "tVXH_n9aeIwj"
      },
      "source": [
        "MLP:"
      ]
    },
    {
      "cell_type": "code",
      "metadata": {
        "colab": {
          "base_uri": "https://localhost:8080/",
          "height": 340
        },
        "id": "Jj4O8g32eG2w",
        "outputId": "74eabdca-229d-4b41-b1a3-896aa79f8a5f"
      },
      "source": [
        "clfs_params[2]"
      ],
      "execution_count": null,
      "outputs": [
        {
          "output_type": "execute_result",
          "data": {
            "application/vnd.google.colaboratory.module+javascript": "\n      import \"https://ssl.gstatic.com/colaboratory/data_table/a6224c040fa35dcf/data_table.js\";\n\n      window.createDataTable({\n        data: [[{\n            'v': 0,\n            'f': \"0\",\n        },\n\"adaptive\",\n[50],\n\"relu\",\ntrue],\n [{\n            'v': 1,\n            'f': \"1\",\n        },\n\"constant\",\n[50],\n\"relu\",\ntrue],\n [{\n            'v': 2,\n            'f': \"2\",\n        },\n\"constant\",\n[50],\n\"relu\",\ntrue],\n [{\n            'v': 3,\n            'f': \"3\",\n        },\n\"adaptive\",\n[50],\n\"tanh\",\ntrue],\n [{\n            'v': 4,\n            'f': \"4\",\n        },\n\"adaptive\",\n[150],\n\"logistic\",\nfalse],\n [{\n            'v': 5,\n            'f': \"5\",\n        },\n\"adaptive\",\n[50],\n\"relu\",\nfalse],\n [{\n            'v': 6,\n            'f': \"6\",\n        },\n\"constant\",\n[50],\n\"relu\",\nfalse],\n [{\n            'v': 7,\n            'f': \"7\",\n        },\n\"adaptive\",\n[100],\n\"relu\",\ntrue],\n [{\n            'v': 8,\n            'f': \"8\",\n        },\n\"adaptive\",\n[50],\n\"tanh\",\ntrue],\n [{\n            'v': 9,\n            'f': \"9\",\n        },\n\"adaptive\",\n[50],\n\"tanh\",\ntrue],\n [{\n            'v': 10,\n            'f': \"10\",\n        },\n\"constant\",\n[150],\n\"tanh\",\ntrue],\n [{\n            'v': 11,\n            'f': \"11\",\n        },\n\"constant\",\n[50],\n\"tanh\",\nfalse]],\n        columns: [[\"number\", \"Subject\"], [\"string\", \"clf__learning_rate\"], [\"string\", \"clf__hidden_layer_sizes\"], [\"string\", \"clf__activation\"], [\"string\", \"clf__early_stopping\"]],\n        columnOptions: [{\"width\": \"1px\", \"className\": \"index_column\"}],\n        rowsPerPage: 25,\n        helpUrl: \"https://colab.research.google.com/notebooks/data_table.ipynb\",\n        suppressOutputScrolling: true,\n        minimumWidth: undefined,\n      });\n    ",
            "text/html": [
              "<div>\n",
              "<style scoped>\n",
              "    .dataframe tbody tr th:only-of-type {\n",
              "        vertical-align: middle;\n",
              "    }\n",
              "\n",
              "    .dataframe tbody tr th {\n",
              "        vertical-align: top;\n",
              "    }\n",
              "\n",
              "    .dataframe thead th {\n",
              "        text-align: right;\n",
              "    }\n",
              "</style>\n",
              "<table border=\"1\" class=\"dataframe\">\n",
              "  <thead>\n",
              "    <tr style=\"text-align: right;\">\n",
              "      <th></th>\n",
              "      <th>clf__learning_rate</th>\n",
              "      <th>clf__hidden_layer_sizes</th>\n",
              "      <th>clf__activation</th>\n",
              "      <th>clf__early_stopping</th>\n",
              "    </tr>\n",
              "    <tr>\n",
              "      <th>Subject</th>\n",
              "      <th></th>\n",
              "      <th></th>\n",
              "      <th></th>\n",
              "      <th></th>\n",
              "    </tr>\n",
              "  </thead>\n",
              "  <tbody>\n",
              "    <tr>\n",
              "      <th>0</th>\n",
              "      <td>adaptive</td>\n",
              "      <td>(50,)</td>\n",
              "      <td>relu</td>\n",
              "      <td>True</td>\n",
              "    </tr>\n",
              "    <tr>\n",
              "      <th>1</th>\n",
              "      <td>constant</td>\n",
              "      <td>(50,)</td>\n",
              "      <td>relu</td>\n",
              "      <td>True</td>\n",
              "    </tr>\n",
              "    <tr>\n",
              "      <th>2</th>\n",
              "      <td>constant</td>\n",
              "      <td>(50,)</td>\n",
              "      <td>relu</td>\n",
              "      <td>True</td>\n",
              "    </tr>\n",
              "    <tr>\n",
              "      <th>3</th>\n",
              "      <td>adaptive</td>\n",
              "      <td>(50,)</td>\n",
              "      <td>tanh</td>\n",
              "      <td>True</td>\n",
              "    </tr>\n",
              "    <tr>\n",
              "      <th>4</th>\n",
              "      <td>adaptive</td>\n",
              "      <td>(150,)</td>\n",
              "      <td>logistic</td>\n",
              "      <td>False</td>\n",
              "    </tr>\n",
              "    <tr>\n",
              "      <th>5</th>\n",
              "      <td>adaptive</td>\n",
              "      <td>(50,)</td>\n",
              "      <td>relu</td>\n",
              "      <td>False</td>\n",
              "    </tr>\n",
              "    <tr>\n",
              "      <th>6</th>\n",
              "      <td>constant</td>\n",
              "      <td>(50,)</td>\n",
              "      <td>relu</td>\n",
              "      <td>False</td>\n",
              "    </tr>\n",
              "    <tr>\n",
              "      <th>7</th>\n",
              "      <td>adaptive</td>\n",
              "      <td>(100,)</td>\n",
              "      <td>relu</td>\n",
              "      <td>True</td>\n",
              "    </tr>\n",
              "    <tr>\n",
              "      <th>8</th>\n",
              "      <td>adaptive</td>\n",
              "      <td>(50,)</td>\n",
              "      <td>tanh</td>\n",
              "      <td>True</td>\n",
              "    </tr>\n",
              "    <tr>\n",
              "      <th>9</th>\n",
              "      <td>adaptive</td>\n",
              "      <td>(50,)</td>\n",
              "      <td>tanh</td>\n",
              "      <td>True</td>\n",
              "    </tr>\n",
              "    <tr>\n",
              "      <th>10</th>\n",
              "      <td>constant</td>\n",
              "      <td>(150,)</td>\n",
              "      <td>tanh</td>\n",
              "      <td>True</td>\n",
              "    </tr>\n",
              "    <tr>\n",
              "      <th>11</th>\n",
              "      <td>constant</td>\n",
              "      <td>(50,)</td>\n",
              "      <td>tanh</td>\n",
              "      <td>False</td>\n",
              "    </tr>\n",
              "  </tbody>\n",
              "</table>\n",
              "</div>"
            ],
            "text/plain": [
              "        clf__learning_rate clf__hidden_layer_sizes clf__activation  \\\n",
              "Subject                                                              \n",
              "0                 adaptive                   (50,)            relu   \n",
              "1                 constant                   (50,)            relu   \n",
              "2                 constant                   (50,)            relu   \n",
              "3                 adaptive                   (50,)            tanh   \n",
              "4                 adaptive                  (150,)        logistic   \n",
              "5                 adaptive                   (50,)            relu   \n",
              "6                 constant                   (50,)            relu   \n",
              "7                 adaptive                  (100,)            relu   \n",
              "8                 adaptive                   (50,)            tanh   \n",
              "9                 adaptive                   (50,)            tanh   \n",
              "10                constant                  (150,)            tanh   \n",
              "11                constant                   (50,)            tanh   \n",
              "\n",
              "        clf__early_stopping  \n",
              "Subject                      \n",
              "0                      True  \n",
              "1                      True  \n",
              "2                      True  \n",
              "3                      True  \n",
              "4                     False  \n",
              "5                     False  \n",
              "6                     False  \n",
              "7                      True  \n",
              "8                      True  \n",
              "9                      True  \n",
              "10                     True  \n",
              "11                    False  "
            ]
          },
          "metadata": {},
          "execution_count": 21
        }
      ]
    },
    {
      "cell_type": "markdown",
      "metadata": {
        "id": "4uHhJRfLeLD6"
      },
      "source": [
        "*k*-NN:"
      ]
    },
    {
      "cell_type": "code",
      "metadata": {
        "colab": {
          "base_uri": "https://localhost:8080/",
          "height": 340
        },
        "id": "sXUhm-m8eLVl",
        "outputId": "5b4f341e-825f-45b3-b2f8-29437ff3ca73"
      },
      "source": [
        "clfs_params[3]"
      ],
      "execution_count": null,
      "outputs": [
        {
          "output_type": "execute_result",
          "data": {
            "application/vnd.google.colaboratory.module+javascript": "\n      import \"https://ssl.gstatic.com/colaboratory/data_table/a6224c040fa35dcf/data_table.js\";\n\n      window.createDataTable({\n        data: [[{\n            'v': 0,\n            'f': \"0\",\n        },\n\"distance\",\n{\n            'v': 3,\n            'f': \"3\",\n        }],\n [{\n            'v': 1,\n            'f': \"1\",\n        },\n\"distance\",\n{\n            'v': 7,\n            'f': \"7\",\n        }],\n [{\n            'v': 2,\n            'f': \"2\",\n        },\n\"uniform\",\n{\n            'v': 3,\n            'f': \"3\",\n        }],\n [{\n            'v': 3,\n            'f': \"3\",\n        },\n\"uniform\",\n{\n            'v': 3,\n            'f': \"3\",\n        }],\n [{\n            'v': 4,\n            'f': \"4\",\n        },\n\"uniform\",\n{\n            'v': 3,\n            'f': \"3\",\n        }],\n [{\n            'v': 5,\n            'f': \"5\",\n        },\n\"distance\",\n{\n            'v': 7,\n            'f': \"7\",\n        }],\n [{\n            'v': 6,\n            'f': \"6\",\n        },\n\"uniform\",\n{\n            'v': 3,\n            'f': \"3\",\n        }],\n [{\n            'v': 7,\n            'f': \"7\",\n        },\n\"distance\",\n{\n            'v': 3,\n            'f': \"3\",\n        }],\n [{\n            'v': 8,\n            'f': \"8\",\n        },\n\"distance\",\n{\n            'v': 3,\n            'f': \"3\",\n        }],\n [{\n            'v': 9,\n            'f': \"9\",\n        },\n\"distance\",\n{\n            'v': 3,\n            'f': \"3\",\n        }],\n [{\n            'v': 10,\n            'f': \"10\",\n        },\n\"uniform\",\n{\n            'v': 7,\n            'f': \"7\",\n        }],\n [{\n            'v': 11,\n            'f': \"11\",\n        },\n\"uniform\",\n{\n            'v': 5,\n            'f': \"5\",\n        }]],\n        columns: [[\"number\", \"Subject\"], [\"string\", \"clf__weights\"], [\"number\", \"clf__n_neighbors\"]],\n        columnOptions: [{\"width\": \"1px\", \"className\": \"index_column\"}],\n        rowsPerPage: 25,\n        helpUrl: \"https://colab.research.google.com/notebooks/data_table.ipynb\",\n        suppressOutputScrolling: true,\n        minimumWidth: undefined,\n      });\n    ",
            "text/html": [
              "<div>\n",
              "<style scoped>\n",
              "    .dataframe tbody tr th:only-of-type {\n",
              "        vertical-align: middle;\n",
              "    }\n",
              "\n",
              "    .dataframe tbody tr th {\n",
              "        vertical-align: top;\n",
              "    }\n",
              "\n",
              "    .dataframe thead th {\n",
              "        text-align: right;\n",
              "    }\n",
              "</style>\n",
              "<table border=\"1\" class=\"dataframe\">\n",
              "  <thead>\n",
              "    <tr style=\"text-align: right;\">\n",
              "      <th></th>\n",
              "      <th>clf__weights</th>\n",
              "      <th>clf__n_neighbors</th>\n",
              "    </tr>\n",
              "    <tr>\n",
              "      <th>Subject</th>\n",
              "      <th></th>\n",
              "      <th></th>\n",
              "    </tr>\n",
              "  </thead>\n",
              "  <tbody>\n",
              "    <tr>\n",
              "      <th>0</th>\n",
              "      <td>distance</td>\n",
              "      <td>3</td>\n",
              "    </tr>\n",
              "    <tr>\n",
              "      <th>1</th>\n",
              "      <td>distance</td>\n",
              "      <td>7</td>\n",
              "    </tr>\n",
              "    <tr>\n",
              "      <th>2</th>\n",
              "      <td>uniform</td>\n",
              "      <td>3</td>\n",
              "    </tr>\n",
              "    <tr>\n",
              "      <th>3</th>\n",
              "      <td>uniform</td>\n",
              "      <td>3</td>\n",
              "    </tr>\n",
              "    <tr>\n",
              "      <th>4</th>\n",
              "      <td>uniform</td>\n",
              "      <td>3</td>\n",
              "    </tr>\n",
              "    <tr>\n",
              "      <th>5</th>\n",
              "      <td>distance</td>\n",
              "      <td>7</td>\n",
              "    </tr>\n",
              "    <tr>\n",
              "      <th>6</th>\n",
              "      <td>uniform</td>\n",
              "      <td>3</td>\n",
              "    </tr>\n",
              "    <tr>\n",
              "      <th>7</th>\n",
              "      <td>distance</td>\n",
              "      <td>3</td>\n",
              "    </tr>\n",
              "    <tr>\n",
              "      <th>8</th>\n",
              "      <td>distance</td>\n",
              "      <td>3</td>\n",
              "    </tr>\n",
              "    <tr>\n",
              "      <th>9</th>\n",
              "      <td>distance</td>\n",
              "      <td>3</td>\n",
              "    </tr>\n",
              "    <tr>\n",
              "      <th>10</th>\n",
              "      <td>uniform</td>\n",
              "      <td>7</td>\n",
              "    </tr>\n",
              "    <tr>\n",
              "      <th>11</th>\n",
              "      <td>uniform</td>\n",
              "      <td>5</td>\n",
              "    </tr>\n",
              "  </tbody>\n",
              "</table>\n",
              "</div>"
            ],
            "text/plain": [
              "        clf__weights clf__n_neighbors\n",
              "Subject                              \n",
              "0           distance                3\n",
              "1           distance                7\n",
              "2            uniform                3\n",
              "3            uniform                3\n",
              "4            uniform                3\n",
              "5           distance                7\n",
              "6            uniform                3\n",
              "7           distance                3\n",
              "8           distance                3\n",
              "9           distance                3\n",
              "10           uniform                7\n",
              "11           uniform                5"
            ]
          },
          "metadata": {},
          "execution_count": 22
        }
      ]
    },
    {
      "cell_type": "markdown",
      "metadata": {
        "id": "cUyq3ONMep0j"
      },
      "source": [
        "Gaussian NB does not have hyperparameters."
      ]
    },
    {
      "cell_type": "markdown",
      "metadata": {
        "id": "FmYAXd32eTVT"
      },
      "source": [
        "Random forest:"
      ]
    },
    {
      "cell_type": "code",
      "metadata": {
        "colab": {
          "base_uri": "https://localhost:8080/",
          "height": 340
        },
        "id": "_aXmqTAQeS4D",
        "outputId": "accfb90c-1707-4308-ae2d-2d957befb130"
      },
      "source": [
        "clfs_params[5]"
      ],
      "execution_count": null,
      "outputs": [
        {
          "output_type": "execute_result",
          "data": {
            "application/vnd.google.colaboratory.module+javascript": "\n      import \"https://ssl.gstatic.com/colaboratory/data_table/a6224c040fa35dcf/data_table.js\";\n\n      window.createDataTable({\n        data: [[{\n            'v': 0,\n            'f': \"0\",\n        },\n\"gini\",\n{\n            'v': 150,\n            'f': \"150\",\n        }],\n [{\n            'v': 1,\n            'f': \"1\",\n        },\n\"entropy\",\n{\n            'v': 10,\n            'f': \"10\",\n        }],\n [{\n            'v': 2,\n            'f': \"2\",\n        },\n\"entropy\",\n{\n            'v': 10,\n            'f': \"10\",\n        }],\n [{\n            'v': 3,\n            'f': \"3\",\n        },\n\"gini\",\n{\n            'v': 150,\n            'f': \"150\",\n        }],\n [{\n            'v': 4,\n            'f': \"4\",\n        },\n\"entropy\",\n{\n            'v': 10,\n            'f': \"10\",\n        }],\n [{\n            'v': 5,\n            'f': \"5\",\n        },\n\"gini\",\n{\n            'v': 10,\n            'f': \"10\",\n        }],\n [{\n            'v': 6,\n            'f': \"6\",\n        },\n\"gini\",\n{\n            'v': 100,\n            'f': \"100\",\n        }],\n [{\n            'v': 7,\n            'f': \"7\",\n        },\n\"gini\",\n{\n            'v': 150,\n            'f': \"150\",\n        }],\n [{\n            'v': 8,\n            'f': \"8\",\n        },\n\"gini\",\n{\n            'v': 100,\n            'f': \"100\",\n        }],\n [{\n            'v': 9,\n            'f': \"9\",\n        },\n\"entropy\",\n{\n            'v': 150,\n            'f': \"150\",\n        }],\n [{\n            'v': 10,\n            'f': \"10\",\n        },\n\"gini\",\n{\n            'v': 150,\n            'f': \"150\",\n        }],\n [{\n            'v': 11,\n            'f': \"11\",\n        },\n\"gini\",\n{\n            'v': 10,\n            'f': \"10\",\n        }]],\n        columns: [[\"number\", \"Subject\"], [\"string\", \"clf__criterion\"], [\"number\", \"clf__n_estimators\"]],\n        columnOptions: [{\"width\": \"1px\", \"className\": \"index_column\"}],\n        rowsPerPage: 25,\n        helpUrl: \"https://colab.research.google.com/notebooks/data_table.ipynb\",\n        suppressOutputScrolling: true,\n        minimumWidth: undefined,\n      });\n    ",
            "text/html": [
              "<div>\n",
              "<style scoped>\n",
              "    .dataframe tbody tr th:only-of-type {\n",
              "        vertical-align: middle;\n",
              "    }\n",
              "\n",
              "    .dataframe tbody tr th {\n",
              "        vertical-align: top;\n",
              "    }\n",
              "\n",
              "    .dataframe thead th {\n",
              "        text-align: right;\n",
              "    }\n",
              "</style>\n",
              "<table border=\"1\" class=\"dataframe\">\n",
              "  <thead>\n",
              "    <tr style=\"text-align: right;\">\n",
              "      <th></th>\n",
              "      <th>clf__criterion</th>\n",
              "      <th>clf__n_estimators</th>\n",
              "    </tr>\n",
              "    <tr>\n",
              "      <th>Subject</th>\n",
              "      <th></th>\n",
              "      <th></th>\n",
              "    </tr>\n",
              "  </thead>\n",
              "  <tbody>\n",
              "    <tr>\n",
              "      <th>0</th>\n",
              "      <td>gini</td>\n",
              "      <td>150</td>\n",
              "    </tr>\n",
              "    <tr>\n",
              "      <th>1</th>\n",
              "      <td>entropy</td>\n",
              "      <td>10</td>\n",
              "    </tr>\n",
              "    <tr>\n",
              "      <th>2</th>\n",
              "      <td>entropy</td>\n",
              "      <td>10</td>\n",
              "    </tr>\n",
              "    <tr>\n",
              "      <th>3</th>\n",
              "      <td>gini</td>\n",
              "      <td>150</td>\n",
              "    </tr>\n",
              "    <tr>\n",
              "      <th>4</th>\n",
              "      <td>entropy</td>\n",
              "      <td>10</td>\n",
              "    </tr>\n",
              "    <tr>\n",
              "      <th>5</th>\n",
              "      <td>gini</td>\n",
              "      <td>10</td>\n",
              "    </tr>\n",
              "    <tr>\n",
              "      <th>6</th>\n",
              "      <td>gini</td>\n",
              "      <td>100</td>\n",
              "    </tr>\n",
              "    <tr>\n",
              "      <th>7</th>\n",
              "      <td>gini</td>\n",
              "      <td>150</td>\n",
              "    </tr>\n",
              "    <tr>\n",
              "      <th>8</th>\n",
              "      <td>gini</td>\n",
              "      <td>100</td>\n",
              "    </tr>\n",
              "    <tr>\n",
              "      <th>9</th>\n",
              "      <td>entropy</td>\n",
              "      <td>150</td>\n",
              "    </tr>\n",
              "    <tr>\n",
              "      <th>10</th>\n",
              "      <td>gini</td>\n",
              "      <td>150</td>\n",
              "    </tr>\n",
              "    <tr>\n",
              "      <th>11</th>\n",
              "      <td>gini</td>\n",
              "      <td>10</td>\n",
              "    </tr>\n",
              "  </tbody>\n",
              "</table>\n",
              "</div>"
            ],
            "text/plain": [
              "        clf__criterion clf__n_estimators\n",
              "Subject                                 \n",
              "0                 gini               150\n",
              "1              entropy                10\n",
              "2              entropy                10\n",
              "3                 gini               150\n",
              "4              entropy                10\n",
              "5                 gini                10\n",
              "6                 gini               100\n",
              "7                 gini               150\n",
              "8                 gini               100\n",
              "9              entropy               150\n",
              "10                gini               150\n",
              "11                gini                10"
            ]
          },
          "metadata": {},
          "execution_count": 23
        }
      ]
    },
    {
      "cell_type": "markdown",
      "metadata": {
        "id": "XbvbcSaOefa4"
      },
      "source": [
        "AdaBoost:"
      ]
    },
    {
      "cell_type": "code",
      "metadata": {
        "colab": {
          "base_uri": "https://localhost:8080/",
          "height": 340
        },
        "id": "X9ySTXtCefrG",
        "outputId": "2229aa3a-0256-45f3-ab26-eaa1987fae40"
      },
      "source": [
        "clfs_params[6]"
      ],
      "execution_count": null,
      "outputs": [
        {
          "output_type": "execute_result",
          "data": {
            "application/vnd.google.colaboratory.module+javascript": "\n      import \"https://ssl.gstatic.com/colaboratory/data_table/a6224c040fa35dcf/data_table.js\";\n\n      window.createDataTable({\n        data: [[{\n            'v': 0,\n            'f': \"0\",\n        },\n{\n            'v': 0.5,\n            'f': \"0.5\",\n        },\n{\n            'v': 50,\n            'f': \"50\",\n        },\n\"SAMME.R\"],\n [{\n            'v': 1,\n            'f': \"1\",\n        },\n{\n            'v': 1.0,\n            'f': \"1.0\",\n        },\n{\n            'v': 50,\n            'f': \"50\",\n        },\n\"SAMME.R\"],\n [{\n            'v': 2,\n            'f': \"2\",\n        },\n{\n            'v': 0.5,\n            'f': \"0.5\",\n        },\n{\n            'v': 10,\n            'f': \"10\",\n        },\n\"SAMME.R\"],\n [{\n            'v': 3,\n            'f': \"3\",\n        },\n{\n            'v': 0.8,\n            'f': \"0.8\",\n        },\n{\n            'v': 50,\n            'f': \"50\",\n        },\n\"SAMME\"],\n [{\n            'v': 4,\n            'f': \"4\",\n        },\n{\n            'v': 0.8,\n            'f': \"0.8\",\n        },\n{\n            'v': 50,\n            'f': \"50\",\n        },\n\"SAMME.R\"],\n [{\n            'v': 5,\n            'f': \"5\",\n        },\n{\n            'v': 0.5,\n            'f': \"0.5\",\n        },\n{\n            'v': 10,\n            'f': \"10\",\n        },\n\"SAMME\"],\n [{\n            'v': 6,\n            'f': \"6\",\n        },\n{\n            'v': 0.5,\n            'f': \"0.5\",\n        },\n{\n            'v': 10,\n            'f': \"10\",\n        },\n\"SAMME\"],\n [{\n            'v': 7,\n            'f': \"7\",\n        },\n{\n            'v': 0.8,\n            'f': \"0.8\",\n        },\n{\n            'v': 10,\n            'f': \"10\",\n        },\n\"SAMME\"],\n [{\n            'v': 8,\n            'f': \"8\",\n        },\n{\n            'v': 0.5,\n            'f': \"0.5\",\n        },\n{\n            'v': 100,\n            'f': \"100\",\n        },\n\"SAMME.R\"],\n [{\n            'v': 9,\n            'f': \"9\",\n        },\n{\n            'v': 1.2,\n            'f': \"1.2\",\n        },\n{\n            'v': 100,\n            'f': \"100\",\n        },\n\"SAMME.R\"],\n [{\n            'v': 10,\n            'f': \"10\",\n        },\n{\n            'v': 0.8,\n            'f': \"0.8\",\n        },\n{\n            'v': 10,\n            'f': \"10\",\n        },\n\"SAMME\"],\n [{\n            'v': 11,\n            'f': \"11\",\n        },\n{\n            'v': 1.0,\n            'f': \"1.0\",\n        },\n{\n            'v': 10,\n            'f': \"10\",\n        },\n\"SAMME\"]],\n        columns: [[\"number\", \"Subject\"], [\"number\", \"clf__learning_rate\"], [\"number\", \"clf__n_estimators\"], [\"string\", \"clf__algorithm\"]],\n        columnOptions: [{\"width\": \"1px\", \"className\": \"index_column\"}],\n        rowsPerPage: 25,\n        helpUrl: \"https://colab.research.google.com/notebooks/data_table.ipynb\",\n        suppressOutputScrolling: true,\n        minimumWidth: undefined,\n      });\n    ",
            "text/html": [
              "<div>\n",
              "<style scoped>\n",
              "    .dataframe tbody tr th:only-of-type {\n",
              "        vertical-align: middle;\n",
              "    }\n",
              "\n",
              "    .dataframe tbody tr th {\n",
              "        vertical-align: top;\n",
              "    }\n",
              "\n",
              "    .dataframe thead th {\n",
              "        text-align: right;\n",
              "    }\n",
              "</style>\n",
              "<table border=\"1\" class=\"dataframe\">\n",
              "  <thead>\n",
              "    <tr style=\"text-align: right;\">\n",
              "      <th></th>\n",
              "      <th>clf__learning_rate</th>\n",
              "      <th>clf__n_estimators</th>\n",
              "      <th>clf__algorithm</th>\n",
              "    </tr>\n",
              "    <tr>\n",
              "      <th>Subject</th>\n",
              "      <th></th>\n",
              "      <th></th>\n",
              "      <th></th>\n",
              "    </tr>\n",
              "  </thead>\n",
              "  <tbody>\n",
              "    <tr>\n",
              "      <th>0</th>\n",
              "      <td>5.00E-01</td>\n",
              "      <td>50</td>\n",
              "      <td>SAMME.R</td>\n",
              "    </tr>\n",
              "    <tr>\n",
              "      <th>1</th>\n",
              "      <td>1.00E+00</td>\n",
              "      <td>50</td>\n",
              "      <td>SAMME.R</td>\n",
              "    </tr>\n",
              "    <tr>\n",
              "      <th>2</th>\n",
              "      <td>5.00E-01</td>\n",
              "      <td>10</td>\n",
              "      <td>SAMME.R</td>\n",
              "    </tr>\n",
              "    <tr>\n",
              "      <th>3</th>\n",
              "      <td>8.00E-01</td>\n",
              "      <td>50</td>\n",
              "      <td>SAMME</td>\n",
              "    </tr>\n",
              "    <tr>\n",
              "      <th>4</th>\n",
              "      <td>8.00E-01</td>\n",
              "      <td>50</td>\n",
              "      <td>SAMME.R</td>\n",
              "    </tr>\n",
              "    <tr>\n",
              "      <th>5</th>\n",
              "      <td>5.00E-01</td>\n",
              "      <td>10</td>\n",
              "      <td>SAMME</td>\n",
              "    </tr>\n",
              "    <tr>\n",
              "      <th>6</th>\n",
              "      <td>5.00E-01</td>\n",
              "      <td>10</td>\n",
              "      <td>SAMME</td>\n",
              "    </tr>\n",
              "    <tr>\n",
              "      <th>7</th>\n",
              "      <td>8.00E-01</td>\n",
              "      <td>10</td>\n",
              "      <td>SAMME</td>\n",
              "    </tr>\n",
              "    <tr>\n",
              "      <th>8</th>\n",
              "      <td>5.00E-01</td>\n",
              "      <td>100</td>\n",
              "      <td>SAMME.R</td>\n",
              "    </tr>\n",
              "    <tr>\n",
              "      <th>9</th>\n",
              "      <td>1.20E+00</td>\n",
              "      <td>100</td>\n",
              "      <td>SAMME.R</td>\n",
              "    </tr>\n",
              "    <tr>\n",
              "      <th>10</th>\n",
              "      <td>8.00E-01</td>\n",
              "      <td>10</td>\n",
              "      <td>SAMME</td>\n",
              "    </tr>\n",
              "    <tr>\n",
              "      <th>11</th>\n",
              "      <td>1.00E+00</td>\n",
              "      <td>10</td>\n",
              "      <td>SAMME</td>\n",
              "    </tr>\n",
              "  </tbody>\n",
              "</table>\n",
              "</div>"
            ],
            "text/plain": [
              "        clf__learning_rate clf__n_estimators clf__algorithm\n",
              "Subject                                                    \n",
              "0                 5.00E-01                50        SAMME.R\n",
              "1                 1.00E+00                50        SAMME.R\n",
              "2                 5.00E-01                10        SAMME.R\n",
              "3                 8.00E-01                50          SAMME\n",
              "4                 8.00E-01                50        SAMME.R\n",
              "5                 5.00E-01                10          SAMME\n",
              "6                 5.00E-01                10          SAMME\n",
              "7                 8.00E-01                10          SAMME\n",
              "8                 5.00E-01               100        SAMME.R\n",
              "9                 1.20E+00               100        SAMME.R\n",
              "10                8.00E-01                10          SAMME\n",
              "11                1.00E+00                10          SAMME"
            ]
          },
          "metadata": {},
          "execution_count": 24
        }
      ]
    }
  ]
}